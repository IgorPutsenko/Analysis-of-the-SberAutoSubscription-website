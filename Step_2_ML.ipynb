{
 "cells": [
  {
   "cell_type": "markdown",
   "id": "fe1db50a-ca05-4dfa-a549-2e2a32c2c984",
   "metadata": {
    "tags": []
   },
   "source": [
    " # СберАвтоподписка. Episode II: Pазработка модели, предсказывающей целевое событие  "
   ]
  },
  {
   "cell_type": "markdown",
   "id": "ecfba788-3fce-4777-aca2-cb2f57fb4292",
   "metadata": {},
   "source": [
    "---\n",
    "\n",
    "**Цель проекта**: разработать модель предсказания совершения одного из целевых действий (\"Заказать звонок\", \"Оставить заявку\") для сессий по введенным атрибутам типа utm_*, device_*, geo_* и упаковать модель в сервис.\n",
    "\n",
    "\n",
    "\n",
    "**Целевая метрика**: ориентировочное значение roc-auc > 0.65 — факт совершения\n",
    "пользователем целевого действия.\n",
    "\n",
    "**Формат вывода ответа** - 0/1\n",
    "\n",
    "**Скорость ответа сервиса** - не более 3 секунд\n",
    "\n",
    "**Сервис** - это должен быть (минимум) - py-скрипт с инструкцией по запуску, (максимум) - localhost web app.\n",
    "\n",
    "---"
   ]
  },
  {
   "cell_type": "markdown",
   "id": "4d8e0393-5a37-4de4-a585-48fcc324c69b",
   "metadata": {},
   "source": [
    "Так как время от времени я периодически читаю разные ТГ-каналы про аналитику, написание кодов и упрощение роботы, да и в Skillbox дают так же, как в институте только основы (около 20% материала, остальные 80% обучающийся должен искать самостоятельно на просторах интернета или в библиотеках) в одной статье я наткнулся на библиотеку для машинного обучения Feature-engine, а так же устанавливаю библиотеки colorama, bayesian-optimization.\n",
    "\n",
    "\n"
   ]
  },
  {
   "cell_type": "markdown",
   "id": "8e50f8b1-e0c0-4d4d-8a7c-bd51ded7776e",
   "metadata": {
    "tags": []
   },
   "source": [
    "### Импорт библиотек"
   ]
  },
  {
   "cell_type": "markdown",
   "id": "f794e5f7-3937-4fb1-9cd6-098492d72b2c",
   "metadata": {
    "tags": []
   },
   "source": [
    "#### Перед импортом библиотек предварительно устанавливается:\n",
    "* `pip install bayesian-optimization` согласно [документации](https://github.com/fmfn/BayesianOptimization)\n",
    "* `pip install feature-engine`\n",
    "* `pip install bayesian-optimization`\n",
    "* `pip install colorama`"
   ]
  },
  {
   "cell_type": "code",
   "execution_count": 1,
   "id": "34f0ee5b-a186-417a-8320-9f7e8ea7bb04",
   "metadata": {},
   "outputs": [
    {
     "name": "stdout",
     "output_type": "stream",
     "text": [
      "Requirement already satisfied: bayesian-optimization in c:\\users\\user\\anaconda3\\lib\\site-packages (1.4.3)\n",
      "Requirement already satisfied: numpy>=1.9.0 in c:\\users\\user\\anaconda3\\lib\\site-packages (from bayesian-optimization) (1.24.3)\n",
      "Requirement already satisfied: scipy>=1.0.0 in c:\\users\\user\\anaconda3\\lib\\site-packages (from bayesian-optimization) (1.11.1)\n",
      "Requirement already satisfied: scikit-learn>=0.18.0 in c:\\users\\user\\anaconda3\\lib\\site-packages (from bayesian-optimization) (1.3.0)\n",
      "Requirement already satisfied: colorama>=0.4.6 in c:\\users\\user\\anaconda3\\lib\\site-packages (from bayesian-optimization) (0.4.6)\n",
      "Requirement already satisfied: joblib>=1.1.1 in c:\\users\\user\\anaconda3\\lib\\site-packages (from scikit-learn>=0.18.0->bayesian-optimization) (1.2.0)\n",
      "Requirement already satisfied: threadpoolctl>=2.0.0 in c:\\users\\user\\anaconda3\\lib\\site-packages (from scikit-learn>=0.18.0->bayesian-optimization) (2.2.0)\n",
      "Note: you may need to restart the kernel to use updated packages.\n"
     ]
    }
   ],
   "source": [
    "pip install bayesian-optimization"
   ]
  },
  {
   "cell_type": "code",
   "execution_count": 2,
   "id": "3fe08ecd-8b0e-4354-ac5f-c9c4a37fc3ab",
   "metadata": {},
   "outputs": [
    {
     "name": "stdout",
     "output_type": "stream",
     "text": [
      "Requirement already satisfied: feature-engine in c:\\users\\user\\anaconda3\\lib\\site-packages (1.6.2)Note: you may need to restart the kernel to use updated packages.\n",
      "\n",
      "Requirement already satisfied: numpy>=1.18.2 in c:\\users\\user\\anaconda3\\lib\\site-packages (from feature-engine) (1.24.3)\n",
      "Requirement already satisfied: pandas>=1.0.3 in c:\\users\\user\\anaconda3\\lib\\site-packages (from feature-engine) (2.0.3)\n",
      "Requirement already satisfied: scikit-learn>=1.0.0 in c:\\users\\user\\anaconda3\\lib\\site-packages (from feature-engine) (1.3.0)\n",
      "Requirement already satisfied: scipy>=1.4.1 in c:\\users\\user\\anaconda3\\lib\\site-packages (from feature-engine) (1.11.1)\n",
      "Requirement already satisfied: statsmodels>=0.11.1 in c:\\users\\user\\anaconda3\\lib\\site-packages (from feature-engine) (0.14.0)\n",
      "Requirement already satisfied: python-dateutil>=2.8.2 in c:\\users\\user\\anaconda3\\lib\\site-packages (from pandas>=1.0.3->feature-engine) (2.8.2)\n",
      "Requirement already satisfied: pytz>=2020.1 in c:\\users\\user\\anaconda3\\lib\\site-packages (from pandas>=1.0.3->feature-engine) (2023.3.post1)\n",
      "Requirement already satisfied: tzdata>=2022.1 in c:\\users\\user\\anaconda3\\lib\\site-packages (from pandas>=1.0.3->feature-engine) (2023.3)\n",
      "Requirement already satisfied: joblib>=1.1.1 in c:\\users\\user\\anaconda3\\lib\\site-packages (from scikit-learn>=1.0.0->feature-engine) (1.2.0)\n",
      "Requirement already satisfied: threadpoolctl>=2.0.0 in c:\\users\\user\\anaconda3\\lib\\site-packages (from scikit-learn>=1.0.0->feature-engine) (2.2.0)\n",
      "Requirement already satisfied: patsy>=0.5.2 in c:\\users\\user\\anaconda3\\lib\\site-packages (from statsmodels>=0.11.1->feature-engine) (0.5.3)\n",
      "Requirement already satisfied: packaging>=21.3 in c:\\users\\user\\anaconda3\\lib\\site-packages (from statsmodels>=0.11.1->feature-engine) (23.1)\n",
      "Requirement already satisfied: six in c:\\users\\user\\anaconda3\\lib\\site-packages (from patsy>=0.5.2->statsmodels>=0.11.1->feature-engine) (1.16.0)\n"
     ]
    }
   ],
   "source": [
    "pip install feature-engine"
   ]
  },
  {
   "cell_type": "code",
   "execution_count": 3,
   "id": "58958343-855e-4288-9b63-762ff78b0655",
   "metadata": {},
   "outputs": [
    {
     "name": "stdout",
     "output_type": "stream",
     "text": [
      "Requirement already satisfied: colorama in c:\\users\\user\\anaconda3\\lib\\site-packages (0.4.6)\n",
      "Note: you may need to restart the kernel to use updated packages.\n"
     ]
    }
   ],
   "source": [
    "pip install colorama"
   ]
  },
  {
   "cell_type": "code",
   "execution_count": 4,
   "id": "899a0201-7553-4a0d-a3ba-4de62f616f50",
   "metadata": {
    "id": "s45aMMmq98og"
   },
   "outputs": [],
   "source": [
    "import sys\n",
    "from datetime import datetime\n",
    "import warnings\n",
    "from pathlib import Path\n",
    "from typing import Union\n",
    "from functools import partial\n",
    "\n",
    "import numpy as np\n",
    "import dill\n",
    "import pandas as pd\n",
    "import matplotlib.pyplot as plt\n",
    "import seaborn as sns\n",
    "import random\n",
    "\n",
    "\n",
    "# препроцессинг и метрики\n",
    "from sklearn.preprocessing import FunctionTransformer, StandardScaler\n",
    "from sklearn.model_selection import (\n",
    "    train_test_split, GridSearchCV, StratifiedKFold)\n",
    "from sklearn.metrics import (\n",
    "    roc_auc_score, accuracy_score, confusion_matrix, precision_score, \n",
    "    recall_score, f1_score, make_scorer, roc_curve)\n",
    "from sklearn.pipeline import Pipeline\n",
    "from feature_engine.encoding import RareLabelEncoder, OneHotEncoder\n",
    "from feature_engine.wrappers import SklearnTransformerWrapper\n",
    "from feature_engine.outliers import Winsorizer\n",
    "from feature_engine.selection import (\n",
    "    DropDuplicateFeatures, DropConstantFeatures, \n",
    "    DropCorrelatedFeatures, DropFeatures)\n",
    "from feature_engine.transformation import YeoJohnsonTransformer\n",
    "from bayes_opt import BayesianOptimization\n",
    "\n",
    "# модели\n",
    "from sklearn.base import BaseEstimator\n",
    "from sklearn.dummy import DummyClassifier\n",
    "from sklearn.linear_model import LogisticRegression\n",
    "from sklearn.neighbors import KNeighborsClassifier\n",
    "from sklearn.neural_network import MLPClassifier\n",
    "from sklearn.svm import LinearSVC\n",
    "from sklearn.naive_bayes import GaussianNB\n",
    "from sklearn.tree import DecisionTreeClassifier\n",
    "from sklearn.ensemble import (\n",
    "    RandomForestClassifier, HistGradientBoostingClassifier)"
   ]
  },
  {
   "cell_type": "markdown",
   "id": "b11d547d-2ab6-4bb8-810a-a6916c831d2a",
   "metadata": {
    "id": "30fUVLzuiQEa",
    "tags": []
   },
   "source": [
    "### Создание констант"
   ]
  },
  {
   "cell_type": "code",
   "execution_count": 5,
   "id": "050373e7-66db-4777-954b-8921c0bc4656",
   "metadata": {
    "id": "2BJ2wLSSWCH8"
   },
   "outputs": [],
   "source": [
    "# необходимо указать путь к папкам с данными и моделями\n",
    "\n",
    "data_folder = Path('C:/Users/user/PycharmProjects/SBERautoScription/', 'data')\n",
    "models_folder = Path('C:/Users/user/PycharmProjects/SBERautoScription/', 'models')\n",
    "\n",
    "sessions_filename = 'C:/Users/user/PycharmProjects/SBERautoScription/data/ga_sessions.csv'\n",
    "hits_filename = 'C:/Users/user/PycharmProjects/SBERautoScription/data/ga_hits.csv'"
   ]
  },
  {
   "cell_type": "code",
   "execution_count": 6,
   "id": "892b0225-6cb6-4cae-bdcc-d925a3713635",
   "metadata": {
    "id": "s1ljYcGeWGTs"
   },
   "outputs": [],
   "source": [
    "TEST_SIZE = 200_000\n",
    "RANDOM_SEED = 0"
   ]
  },
  {
   "cell_type": "markdown",
   "id": "05138d53-7927-4851-81fc-0ceb1586161c",
   "metadata": {
    "id": "W4r8kBnGh3xP",
    "tags": []
   },
   "source": [
    "### Настройка ноутбука"
   ]
  },
  {
   "cell_type": "code",
   "execution_count": 7,
   "id": "58604011-229f-414d-98c9-64bb4a26a841",
   "metadata": {
    "id": "XWlAoE1QLlkl"
   },
   "outputs": [],
   "source": [
    "pd.set_option('display.max_columns', 100)\n",
    "warnings.filterwarnings('ignore')"
   ]
  },
  {
   "cell_type": "markdown",
   "id": "d9a5f3f7-dd54-4793-bade-5d06166086f8",
   "metadata": {
    "id": "_e6pxmqQi9Zv",
    "tags": []
   },
   "source": [
    "### Загрузка данных\n",
    "\n",
    "Для файла `ga_hits.csv` нужно загрузить только колонки 'session_id' и 'event_action', так как остальные не используются."
   ]
  },
  {
   "cell_type": "code",
   "execution_count": 8,
   "id": "7c5cf862-04a8-409c-b7a6-55f04d7ddace",
   "metadata": {
    "id": "phTdIgg9MQkL",
    "tags": []
   },
   "outputs": [],
   "source": [
    "sessions = pd.read_csv(data_folder / sessions_filename)\n",
    "hits = pd.read_csv(data_folder / hits_filename, \n",
    "                   usecols=['session_id', 'event_action'])"
   ]
  },
  {
   "cell_type": "code",
   "execution_count": 9,
   "id": "d1dc8b05-f505-40f5-a44a-08f98d7e384c",
   "metadata": {},
   "outputs": [
    {
     "name": "stdout",
     "output_type": "stream",
     "text": [
      "<class 'pandas.core.frame.DataFrame'>\n",
      "RangeIndex: 1860042 entries, 0 to 1860041\n",
      "Data columns (total 18 columns):\n",
      " #   Column                    Dtype \n",
      "---  ------                    ----- \n",
      " 0   session_id                object\n",
      " 1   client_id                 object\n",
      " 2   visit_date                object\n",
      " 3   visit_time                object\n",
      " 4   visit_number              int64 \n",
      " 5   utm_source                object\n",
      " 6   utm_medium                object\n",
      " 7   utm_campaign              object\n",
      " 8   utm_adcontent             object\n",
      " 9   utm_keyword               object\n",
      " 10  device_category           object\n",
      " 11  device_os                 object\n",
      " 12  device_brand              object\n",
      " 13  device_model              object\n",
      " 14  device_screen_resolution  object\n",
      " 15  device_browser            object\n",
      " 16  geo_country               object\n",
      " 17  geo_city                  object\n",
      "dtypes: int64(1), object(17)\n",
      "memory usage: 1.8 GB\n"
     ]
    }
   ],
   "source": [
    "sessions.info(memory_usage='deep')"
   ]
  },
  {
   "cell_type": "code",
   "execution_count": 10,
   "id": "3dd7bc93-60f0-489b-ae76-88e28f76e088",
   "metadata": {},
   "outputs": [
    {
     "name": "stdout",
     "output_type": "stream",
     "text": [
      "<class 'pandas.core.frame.DataFrame'>\n",
      "RangeIndex: 15726470 entries, 0 to 15726469\n",
      "Data columns (total 2 columns):\n",
      " #   Column        Dtype \n",
      "---  ------        ----- \n",
      " 0   session_id    object\n",
      " 1   event_action  object\n",
      "dtypes: object(2)\n",
      "memory usage: 2.5 GB\n"
     ]
    }
   ],
   "source": [
    "hits.info(memory_usage='deep')"
   ]
  },
  {
   "cell_type": "markdown",
   "id": "75f12ae8-4979-4e37-829a-050369289f90",
   "metadata": {
    "id": "sG0_hMFGB9dn",
    "tags": []
   },
   "source": [
    "## Подготовка данных"
   ]
  },
  {
   "cell_type": "markdown",
   "id": "65d9f3d5-3c37-4e3a-a6f2-3eb625a0539e",
   "metadata": {
    "id": "O1OIZL9lr4tl",
    "tags": []
   },
   "source": [
    "### Целевая переменная  \n",
    "\n",
    "Целевая переменная считается положительной, если для сессии из `sessions` есть хотя бы одно целевое событие в `hits`. "
   ]
  },
  {
   "cell_type": "code",
   "execution_count": 11,
   "id": "092e5bba-a5fd-4300-8b43-b1f5ac49c6a8",
   "metadata": {},
   "outputs": [],
   "source": [
    "target_events = [\n",
    "    'sub_car_request_submit_click', 'sub_car_claim_submit_click', \n",
    "    'sub_callback_submit_click', 'sub_call_number_click', 'sub_car_claim_click', \n",
    "    'sub_submit_success', 'sub_open_dialog_click']"
   ]
  },
  {
   "cell_type": "code",
   "execution_count": 12,
   "id": "ac8efd10-a8b8-44ac-944a-a91f4bf68a52",
   "metadata": {
    "id": "M5fWRJzNvsg_"
   },
   "outputs": [],
   "source": [
    "hits['target'] = hits['event_action'].isin(target_events) # заполняет столбец hits['target'] 'True', если hits['event_action'] содержит целевую\n",
    "is_target_event = hits.groupby('session_id')['target'].any().astype(int) # target группирует по id (session_id) и по столбцу 'target', то есть все одинаковые session_id собираются"
   ]
  },
  {
   "cell_type": "code",
   "execution_count": 13,
   "id": "813eaf62-dd8c-4f82-98fd-67d83b956035",
   "metadata": {},
   "outputs": [
    {
     "data": {
      "text/plain": [
       "0           False\n",
       "1           False\n",
       "2           False\n",
       "3           False\n",
       "4           False\n",
       "            ...  \n",
       "15726465    False\n",
       "15726466    False\n",
       "15726467    False\n",
       "15726468    False\n",
       "15726469    False\n",
       "Name: target, Length: 15726470, dtype: bool"
      ]
     },
     "execution_count": 13,
     "metadata": {},
     "output_type": "execute_result"
    }
   ],
   "source": [
    "hits['target']"
   ]
  },
  {
   "cell_type": "code",
   "execution_count": 14,
   "id": "77ce0eb7-3c1e-4dc7-9ce6-ab66605dd125",
   "metadata": {},
   "outputs": [
    {
     "data": {
      "text/plain": [
       "session_id\n",
       "1000009318903347362.1632663668.1632663668    0\n",
       "1000010177899156286.1635013443.1635013443    0\n",
       "1000013386240115915.1635402956.1635402956    0\n",
       "1000017303238376207.1623489300.1623489300    0\n",
       "1000020580299877109.1624943350.1624943350    0\n",
       "                                            ..\n",
       "999960188766601545.1626816843.1626816843     0\n",
       "99996598443387715.1626811203.1626811203      0\n",
       "999966717128502952.1638428330.1638428330     0\n",
       "999988617151873171.1623556243.1623556243     0\n",
       "999989480451054428.1634311006.1634311006     0\n",
       "Name: target, Length: 1734610, dtype: int32"
      ]
     },
     "execution_count": 14,
     "metadata": {},
     "output_type": "execute_result"
    }
   ],
   "source": [
    "is_target_event"
   ]
  },
  {
   "cell_type": "code",
   "execution_count": 15,
   "id": "81a98655-8ca1-4d63-a35c-8262618b5e67",
   "metadata": {
    "colab": {
     "base_uri": "https://localhost:8080/"
    },
    "id": "BqV9-6p7wgmj",
    "outputId": "754192e6-374d-4c7b-81ce-a931a9eceb56"
   },
   "outputs": [
    {
     "data": {
      "text/plain": [
       "target\n",
       "0.0    0.97295\n",
       "1.0    0.02705\n",
       "Name: proportion, dtype: float64"
      ]
     },
     "execution_count": 15,
     "metadata": {},
     "output_type": "execute_result"
    }
   ],
   "source": [
    "target = pd.Series(is_target_event, index=sessions['session_id']).fillna(0.0) # Заполним пропуски 0,0\n",
    "target.value_counts(dropna=False, normalize=True) # посчитаем значения, так и есть - целевых значений  2,7%"
   ]
  },
  {
   "cell_type": "code",
   "execution_count": 16,
   "id": "06b77c4c-57d4-4fe4-bb1a-98fed888b1eb",
   "metadata": {},
   "outputs": [
    {
     "data": {
      "text/plain": [
       "session_id\n",
       "9055434745589932991.1637753792.1637753792    0.0\n",
       "905544597018549464.1636867290.1636867290     0.0\n",
       "9055446045651783499.1640648526.1640648526    0.0\n",
       "9055447046360770272.1622255328.1622255328    0.0\n",
       "9055447046360770272.1622255345.1622255345    0.0\n",
       "                                            ... \n",
       "9055415581448263752.1640159305.1640159305    0.0\n",
       "9055421130527858185.1622007305.1622007305    0.0\n",
       "9055422955903931195.1636979515.1636979515    0.0\n",
       "905543020766873816.1638189404.1638189404     0.0\n",
       "9055430416266113553.1640968742.1640968742    0.0\n",
       "Name: target, Length: 1860042, dtype: float64"
      ]
     },
     "execution_count": 16,
     "metadata": {},
     "output_type": "execute_result"
    }
   ],
   "source": [
    "target"
   ]
  },
  {
   "cell_type": "code",
   "execution_count": 17,
   "id": "b98b535d-1538-4633-823e-3f190b550d88",
   "metadata": {
    "id": "VuTc3J5CkhkT"
   },
   "outputs": [],
   "source": [
    "del hits # удалим датафрейм за ненадобностью чтобы не занимал много памяти"
   ]
  },
  {
   "cell_type": "markdown",
   "id": "b65898b4-acba-46a9-9100-7db91e2c8828",
   "metadata": {
    "id": "r5K3svqb1tjM",
    "tags": []
   },
   "source": [
    "### Заполнение пропусков  \n",
    "\n",
    "Пропуски в колонке `device_screen_resolution` заполняем самым частым значением.  \n",
    "Все остальные пропуски в колонках заполняем значением '(nan)'."
   ]
  },
  {
   "cell_type": "code",
   "execution_count": 18,
   "id": "6484af97-8486-41b6-b6dc-b4cc590a9f24",
   "metadata": {
    "id": "hPrvYDhY1QfY"
   },
   "outputs": [],
   "source": [
    "def fill_missings(data: pd.DataFrame) -> pd.DataFrame:\n",
    "    \"\"\"Заполняет пропущенные значения:\n",
    "    * самым частым значением для `device_screen_resolution`;\n",
    "    * значением '(nan)' во всех остальных случаях.\n",
    "    \"\"\"\n",
    "\n",
    "    data = data.copy()\n",
    "\n",
    "    if 'device_screen_resolution' in data.columns:\n",
    "        # '414x896' - самое частое значение в 'device_screen_resolution'\n",
    "        # согласно предварительному анализу данных\n",
    "        data['device_screen_resolution'] = \\\n",
    "            data['device_screen_resolution'].replace(missing_values, '414x896')\n",
    "    \n",
    "    return data.fillna('(nan)')"
   ]
  },
  {
   "cell_type": "markdown",
   "id": "b396b3da-b7e4-4b39-aa04-8ab9c874f710",
   "metadata": {
    "id": "4jwtfKo29Ad7",
    "tags": []
   },
   "source": [
    "### Генерация признаков\n",
    "\n",
    "Создаётся множество дополнительных переменных: день недели и день месяца, является ли день выходным, час и минута посещения, ночью ли посещение, ширина, высота, площадь и соотношение экрана.\n",
    "\n",
    "В том числе с дополнительными данными: является ли день празничным, является ли трафик органическим, из социальных ли сетей он, находится ли пользователь в большом городе или в московской области, расстояние до Москвы как численно, так и в виде категорий."
   ]
  },
  {
   "cell_type": "code",
   "execution_count": 19,
   "id": "cd8c23e3-75c5-4d31-b726-efd114bdfa14",
   "metadata": {
    "id": "RmS25hxv_s8V"
   },
   "outputs": [],
   "source": [
    "def distance_category(distance: float) -> str:\n",
    "    \"\"\"Возвращает категорию расстояния до Москвы.\"\"\"\n",
    "\n",
    "    if distance == -1: return 'no distance'\n",
    "    elif distance == 0: return 'moscow'\n",
    "    elif distance < 100: return '< 100 km'\n",
    "    elif distance < 500: return '100-500 km'\n",
    "    elif distance < 1000: return '500-1000 km'\n",
    "    elif distance < 3000: return '1000-3000 km'\n",
    "    else: return '>= 3000 km'"
   ]
  },
  {
   "cell_type": "code",
   "execution_count": 20,
   "id": "ef8cebbc-1316-44c0-bda8-216e74bd03e1",
   "metadata": {
    "id": "MXGGgtUq2frS"
   },
   "outputs": [],
   "source": [
    "def create_features(data: pd.DataFrame) -> pd.DataFrame:\n",
    "    \"\"\"Создаёт новые признаки из существующих.\"\"\"\n",
    "\n",
    "    data = data.copy()\n",
    "    \n",
    "    # visit_date признаки \n",
    "    if 'visit_date' in data.columns:\n",
    "        data['visit_date'] = data['visit_date'].astype('datetime64[ns]')\n",
    "        data['visit_date_added_holiday'] = \\\n",
    "            data['visit_date'].isin(russian_holidays)\n",
    "        # числовые признаки сделаем строго положительными \n",
    "        # для лучшей обработки на шаге с YeoJohnsonTransformer\n",
    "        data['visit_date_weekday'] = data['visit_date'].dt.weekday + 1\n",
    "        data['visit_date_weekend'] = data['visit_date'].dt.weekday > 4\n",
    "        data['visit_date_day'] = data['visit_date'].dt.day + 1\n",
    "\n",
    "    # visit_time признаки\n",
    "    if 'visit_time' in data.columns:\n",
    "        data['visit_time'] = data['visit_time'].astype('datetime64[ns]')\n",
    "        data['visit_time_hour'] = data['visit_time'].dt.hour + 1\n",
    "        data['visit_time_minute'] = data['visit_time'].dt.minute + 1\n",
    "        data['visit_time_night'] = data['visit_time'].dt.hour < 9\n",
    "\n",
    "    # utm_* признаки\n",
    "    if 'utm_medium' in data.columns:\n",
    "        data['utm_medium_added_is_organic'] = \\\n",
    "            data['utm_medium'].isin(organic_mediums)\n",
    "    if 'utm_source' in data.columns: \n",
    "        data['utm_source_added_is_social'] = \\\n",
    "            data['utm_source'].isin(social_media_sources)\n",
    "    \n",
    "    # device_screen признаки\n",
    "    if 'device_screen_resolution' in data.columns:\n",
    "        name = 'device_screen_resolution'\n",
    "        data[[name + '_width', name + '_height']] = \\\n",
    "            data[name].str.split('x', expand=True).astype(float)\n",
    "        data[name + '_area'] = data[name + '_width'] * data[name + '_height']\n",
    "        data[name + '_ratio'] = data[name + '_width'] / data[name + '_height']\n",
    "        data[name + '_ratio_greater_1'] = data[name + '_ratio'] > 1\n",
    "\n",
    "    # geo_city признаки \n",
    "    if 'geo_city' in data.columns:\n",
    "        data['geo_city_added_is_moscow_region'] = \\\n",
    "            data['geo_city'].isin(moscow_region_cities)\n",
    "        data['geo_city_added_is_big'] = data['geo_city'].isin(big_cities)\n",
    "        data['geo_city_is_big_or_in_moscow_region'] = \\\n",
    "            data['geo_city_added_is_moscow_region'] \\\n",
    "            | data['geo_city_added_is_big']\n",
    "        data['geo_city_added_distance_from_moscow'] = \\\n",
    "            data['geo_city'].apply(get_distance_from_moscow)\n",
    "        data['geo_city_added_distance_from_moscow_category'] = \\\n",
    "            data['geo_city_added_distance_from_moscow'].apply(distance_category)\n",
    "\n",
    "    return data"
   ]
  },
  {
   "cell_type": "markdown",
   "id": "e99efb5a-34d3-46f5-a36c-71b6c8a6d795",
   "metadata": {
    "id": "SdmCT5bFkTpy",
    "tags": []
   },
   "source": [
    "### Дополнительно"
   ]
  },
  {
   "cell_type": "code",
   "execution_count": 21,
   "id": "22ab52f0-7dd6-456c-a118-b47e175fa8d7",
   "metadata": {
    "id": "-h_M6P4-5Gag"
   },
   "outputs": [],
   "source": [
    "def set_index(data: pd.DataFrame, column: str = 'session_id') -> pd.DataFrame:\n",
    "    \"\"\"Устанавливает в качестве индекса датафрейма колонку `column`.\"\"\"\n",
    "    \n",
    "    data = data.copy()\n",
    "\n",
    "    if column in data.columns:\n",
    "        data = data.set_index(column)\n",
    "    \n",
    "    return data"
   ]
  },
  {
   "cell_type": "code",
   "execution_count": 22,
   "id": "829caacf-c302-45a5-b206-b58d740213f7",
   "metadata": {
    "id": "XVHwnlccAUWB"
   },
   "outputs": [],
   "source": [
    "def converse_types(data: pd.DataFrame) -> pd.DataFrame:\n",
    "    \"\"\"Приводит типы переменных к float. В первую очередь \n",
    "    необходимо для преобразования bool значений.\n",
    "    \"\"\"\n",
    "\n",
    "    return data.astype(float)"
   ]
  },
  {
   "cell_type": "markdown",
   "id": "25b92a17-5a2e-4ae3-a5f8-512f7577646f",
   "metadata": {
    "id": "I4Owup725D1u",
    "tags": []
   },
   "source": [
    "### Собираем пайплайн  \n",
    "\n",
    "Пайплайн по подготовке данных состоит из 4 частей:  \n",
    "1. Создание дополнительных признаков\n",
    "2. Преобразование численных переменных\n",
    "3. Преобразование категориальных переменных\n",
    "4. Удаление лишних признаков"
   ]
  },
  {
   "cell_type": "code",
   "execution_count": 23,
   "id": "3827e122-8c55-4067-8267-b33464c453d9",
   "metadata": {
    "id": "4aBifLGa14rl"
   },
   "outputs": [],
   "source": [
    "preprocessor = Pipeline(steps=[\n",
    "\n",
    "    # Создание дополнительных признаков и\n",
    "    # Приведение датафрейма к удобному виду \n",
    "    ('indexer', FunctionTransformer(set_index)), \n",
    "    ('imputer', FunctionTransformer(fill_missings)), \n",
    "    ('engineer', FunctionTransformer(create_features)), \n",
    "    ('dropper', DropFeatures(['client_id', 'visit_date', 'visit_time', \n",
    "                              'device_screen_resolution'])), \n",
    "\n",
    "    # Преобразования численных переменных\n",
    "    ('normalization', YeoJohnsonTransformer()), \n",
    "    ('outlier_remover', Winsorizer()), \n",
    "    ('scaler', SklearnTransformerWrapper(StandardScaler())), \n",
    "\n",
    "    # Преобразования категориальных признаков\n",
    "    ('rare_encoder', RareLabelEncoder(tol=0.05, replace_with='rare')), \n",
    "    ('onehot_encoder', OneHotEncoder(drop_last_binary=True)), \n",
    "    ('bool_converter', FunctionTransformer(converse_types)), \n",
    "\n",
    "    # Удаление дубликатов и коррелируемых признаков\n",
    "    ('constant_dropper', DropConstantFeatures(tol=0.99)), \n",
    "    ('duplicated_dropper', DropDuplicateFeatures()), \n",
    "    ('correlated_dropper', DropCorrelatedFeatures(threshold=0.8)), \n",
    "\n",
    "])"
   ]
  },
  {
   "cell_type": "code",
   "execution_count": 24,
   "id": "f56ef1fe-5f4a-4d84-845f-2a4310bf325d",
   "metadata": {},
   "outputs": [
    {
     "data": {
      "text/html": [
       "<style>#sk-container-id-1 {color: black;}#sk-container-id-1 pre{padding: 0;}#sk-container-id-1 div.sk-toggleable {background-color: white;}#sk-container-id-1 label.sk-toggleable__label {cursor: pointer;display: block;width: 100%;margin-bottom: 0;padding: 0.3em;box-sizing: border-box;text-align: center;}#sk-container-id-1 label.sk-toggleable__label-arrow:before {content: \"▸\";float: left;margin-right: 0.25em;color: #696969;}#sk-container-id-1 label.sk-toggleable__label-arrow:hover:before {color: black;}#sk-container-id-1 div.sk-estimator:hover label.sk-toggleable__label-arrow:before {color: black;}#sk-container-id-1 div.sk-toggleable__content {max-height: 0;max-width: 0;overflow: hidden;text-align: left;background-color: #f0f8ff;}#sk-container-id-1 div.sk-toggleable__content pre {margin: 0.2em;color: black;border-radius: 0.25em;background-color: #f0f8ff;}#sk-container-id-1 input.sk-toggleable__control:checked~div.sk-toggleable__content {max-height: 200px;max-width: 100%;overflow: auto;}#sk-container-id-1 input.sk-toggleable__control:checked~label.sk-toggleable__label-arrow:before {content: \"▾\";}#sk-container-id-1 div.sk-estimator input.sk-toggleable__control:checked~label.sk-toggleable__label {background-color: #d4ebff;}#sk-container-id-1 div.sk-label input.sk-toggleable__control:checked~label.sk-toggleable__label {background-color: #d4ebff;}#sk-container-id-1 input.sk-hidden--visually {border: 0;clip: rect(1px 1px 1px 1px);clip: rect(1px, 1px, 1px, 1px);height: 1px;margin: -1px;overflow: hidden;padding: 0;position: absolute;width: 1px;}#sk-container-id-1 div.sk-estimator {font-family: monospace;background-color: #f0f8ff;border: 1px dotted black;border-radius: 0.25em;box-sizing: border-box;margin-bottom: 0.5em;}#sk-container-id-1 div.sk-estimator:hover {background-color: #d4ebff;}#sk-container-id-1 div.sk-parallel-item::after {content: \"\";width: 100%;border-bottom: 1px solid gray;flex-grow: 1;}#sk-container-id-1 div.sk-label:hover label.sk-toggleable__label {background-color: #d4ebff;}#sk-container-id-1 div.sk-serial::before {content: \"\";position: absolute;border-left: 1px solid gray;box-sizing: border-box;top: 0;bottom: 0;left: 50%;z-index: 0;}#sk-container-id-1 div.sk-serial {display: flex;flex-direction: column;align-items: center;background-color: white;padding-right: 0.2em;padding-left: 0.2em;position: relative;}#sk-container-id-1 div.sk-item {position: relative;z-index: 1;}#sk-container-id-1 div.sk-parallel {display: flex;align-items: stretch;justify-content: center;background-color: white;position: relative;}#sk-container-id-1 div.sk-item::before, #sk-container-id-1 div.sk-parallel-item::before {content: \"\";position: absolute;border-left: 1px solid gray;box-sizing: border-box;top: 0;bottom: 0;left: 50%;z-index: -1;}#sk-container-id-1 div.sk-parallel-item {display: flex;flex-direction: column;z-index: 1;position: relative;background-color: white;}#sk-container-id-1 div.sk-parallel-item:first-child::after {align-self: flex-end;width: 50%;}#sk-container-id-1 div.sk-parallel-item:last-child::after {align-self: flex-start;width: 50%;}#sk-container-id-1 div.sk-parallel-item:only-child::after {width: 0;}#sk-container-id-1 div.sk-dashed-wrapped {border: 1px dashed gray;margin: 0 0.4em 0.5em 0.4em;box-sizing: border-box;padding-bottom: 0.4em;background-color: white;}#sk-container-id-1 div.sk-label label {font-family: monospace;font-weight: bold;display: inline-block;line-height: 1.2em;}#sk-container-id-1 div.sk-label-container {text-align: center;}#sk-container-id-1 div.sk-container {/* jupyter's `normalize.less` sets `[hidden] { display: none; }` but bootstrap.min.css set `[hidden] { display: none !important; }` so we also need the `!important` here to be able to override the default hidden behavior on the sphinx rendered scikit-learn.org. See: https://github.com/scikit-learn/scikit-learn/issues/21755 */display: inline-block !important;position: relative;}#sk-container-id-1 div.sk-text-repr-fallback {display: none;}</style><div id=\"sk-container-id-1\" class=\"sk-top-container\"><div class=\"sk-text-repr-fallback\"><pre>Pipeline(steps=[(&#x27;indexer&#x27;,\n",
       "                 FunctionTransformer(func=&lt;function set_index at 0x000001901803FCE0&gt;)),\n",
       "                (&#x27;imputer&#x27;,\n",
       "                 FunctionTransformer(func=&lt;function fill_missings at 0x000001901803F1A0&gt;)),\n",
       "                (&#x27;engineer&#x27;,\n",
       "                 FunctionTransformer(func=&lt;function create_features at 0x000001901803F420&gt;)),\n",
       "                (&#x27;dropper&#x27;,\n",
       "                 DropFeatures(features_to_drop=[&#x27;client_id&#x27;, &#x27;visit_date&#x27;,\n",
       "                                                &#x27;visit_time&#x27;,\n",
       "                                                &#x27;device_s...\n",
       "                 SklearnTransformerWrapper(transformer=StandardScaler())),\n",
       "                (&#x27;rare_encoder&#x27;, RareLabelEncoder(replace_with=&#x27;rare&#x27;)),\n",
       "                (&#x27;onehot_encoder&#x27;, OneHotEncoder(drop_last_binary=True)),\n",
       "                (&#x27;bool_converter&#x27;,\n",
       "                 FunctionTransformer(func=&lt;function converse_types at 0x0000019058198220&gt;)),\n",
       "                (&#x27;constant_dropper&#x27;, DropConstantFeatures(tol=0.99)),\n",
       "                (&#x27;duplicated_dropper&#x27;, DropDuplicateFeatures()),\n",
       "                (&#x27;correlated_dropper&#x27;, DropCorrelatedFeatures())])</pre><b>In a Jupyter environment, please rerun this cell to show the HTML representation or trust the notebook. <br />On GitHub, the HTML representation is unable to render, please try loading this page with nbviewer.org.</b></div><div class=\"sk-container\" hidden><div class=\"sk-item sk-dashed-wrapped\"><div class=\"sk-label-container\"><div class=\"sk-label sk-toggleable\"><input class=\"sk-toggleable__control sk-hidden--visually\" id=\"sk-estimator-id-1\" type=\"checkbox\" ><label for=\"sk-estimator-id-1\" class=\"sk-toggleable__label sk-toggleable__label-arrow\">Pipeline</label><div class=\"sk-toggleable__content\"><pre>Pipeline(steps=[(&#x27;indexer&#x27;,\n",
       "                 FunctionTransformer(func=&lt;function set_index at 0x000001901803FCE0&gt;)),\n",
       "                (&#x27;imputer&#x27;,\n",
       "                 FunctionTransformer(func=&lt;function fill_missings at 0x000001901803F1A0&gt;)),\n",
       "                (&#x27;engineer&#x27;,\n",
       "                 FunctionTransformer(func=&lt;function create_features at 0x000001901803F420&gt;)),\n",
       "                (&#x27;dropper&#x27;,\n",
       "                 DropFeatures(features_to_drop=[&#x27;client_id&#x27;, &#x27;visit_date&#x27;,\n",
       "                                                &#x27;visit_time&#x27;,\n",
       "                                                &#x27;device_s...\n",
       "                 SklearnTransformerWrapper(transformer=StandardScaler())),\n",
       "                (&#x27;rare_encoder&#x27;, RareLabelEncoder(replace_with=&#x27;rare&#x27;)),\n",
       "                (&#x27;onehot_encoder&#x27;, OneHotEncoder(drop_last_binary=True)),\n",
       "                (&#x27;bool_converter&#x27;,\n",
       "                 FunctionTransformer(func=&lt;function converse_types at 0x0000019058198220&gt;)),\n",
       "                (&#x27;constant_dropper&#x27;, DropConstantFeatures(tol=0.99)),\n",
       "                (&#x27;duplicated_dropper&#x27;, DropDuplicateFeatures()),\n",
       "                (&#x27;correlated_dropper&#x27;, DropCorrelatedFeatures())])</pre></div></div></div><div class=\"sk-serial\"><div class=\"sk-item\"><div class=\"sk-estimator sk-toggleable\"><input class=\"sk-toggleable__control sk-hidden--visually\" id=\"sk-estimator-id-2\" type=\"checkbox\" ><label for=\"sk-estimator-id-2\" class=\"sk-toggleable__label sk-toggleable__label-arrow\">FunctionTransformer</label><div class=\"sk-toggleable__content\"><pre>FunctionTransformer(func=&lt;function set_index at 0x000001901803FCE0&gt;)</pre></div></div></div><div class=\"sk-item\"><div class=\"sk-estimator sk-toggleable\"><input class=\"sk-toggleable__control sk-hidden--visually\" id=\"sk-estimator-id-3\" type=\"checkbox\" ><label for=\"sk-estimator-id-3\" class=\"sk-toggleable__label sk-toggleable__label-arrow\">FunctionTransformer</label><div class=\"sk-toggleable__content\"><pre>FunctionTransformer(func=&lt;function fill_missings at 0x000001901803F1A0&gt;)</pre></div></div></div><div class=\"sk-item\"><div class=\"sk-estimator sk-toggleable\"><input class=\"sk-toggleable__control sk-hidden--visually\" id=\"sk-estimator-id-4\" type=\"checkbox\" ><label for=\"sk-estimator-id-4\" class=\"sk-toggleable__label sk-toggleable__label-arrow\">FunctionTransformer</label><div class=\"sk-toggleable__content\"><pre>FunctionTransformer(func=&lt;function create_features at 0x000001901803F420&gt;)</pre></div></div></div><div class=\"sk-item\"><div class=\"sk-estimator sk-toggleable\"><input class=\"sk-toggleable__control sk-hidden--visually\" id=\"sk-estimator-id-5\" type=\"checkbox\" ><label for=\"sk-estimator-id-5\" class=\"sk-toggleable__label sk-toggleable__label-arrow\">DropFeatures</label><div class=\"sk-toggleable__content\"><pre>DropFeatures(features_to_drop=[&#x27;client_id&#x27;, &#x27;visit_date&#x27;, &#x27;visit_time&#x27;,\n",
       "                               &#x27;device_screen_resolution&#x27;])</pre></div></div></div><div class=\"sk-item\"><div class=\"sk-estimator sk-toggleable\"><input class=\"sk-toggleable__control sk-hidden--visually\" id=\"sk-estimator-id-6\" type=\"checkbox\" ><label for=\"sk-estimator-id-6\" class=\"sk-toggleable__label sk-toggleable__label-arrow\">YeoJohnsonTransformer</label><div class=\"sk-toggleable__content\"><pre>YeoJohnsonTransformer()</pre></div></div></div><div class=\"sk-item\"><div class=\"sk-estimator sk-toggleable\"><input class=\"sk-toggleable__control sk-hidden--visually\" id=\"sk-estimator-id-7\" type=\"checkbox\" ><label for=\"sk-estimator-id-7\" class=\"sk-toggleable__label sk-toggleable__label-arrow\">Winsorizer</label><div class=\"sk-toggleable__content\"><pre>Winsorizer()</pre></div></div></div><div class=\"sk-item sk-dashed-wrapped\"><div class=\"sk-label-container\"><div class=\"sk-label sk-toggleable\"><input class=\"sk-toggleable__control sk-hidden--visually\" id=\"sk-estimator-id-8\" type=\"checkbox\" ><label for=\"sk-estimator-id-8\" class=\"sk-toggleable__label sk-toggleable__label-arrow\">scaler: SklearnTransformerWrapper</label><div class=\"sk-toggleable__content\"><pre>SklearnTransformerWrapper(transformer=StandardScaler())</pre></div></div></div><div class=\"sk-parallel\"><div class=\"sk-parallel-item\"><div class=\"sk-item\"><div class=\"sk-label-container\"><div class=\"sk-label sk-toggleable\"><input class=\"sk-toggleable__control sk-hidden--visually\" id=\"sk-estimator-id-9\" type=\"checkbox\" ><label for=\"sk-estimator-id-9\" class=\"sk-toggleable__label sk-toggleable__label-arrow\">transformer: StandardScaler</label><div class=\"sk-toggleable__content\"><pre>StandardScaler()</pre></div></div></div><div class=\"sk-serial\"><div class=\"sk-item\"><div class=\"sk-estimator sk-toggleable\"><input class=\"sk-toggleable__control sk-hidden--visually\" id=\"sk-estimator-id-10\" type=\"checkbox\" ><label for=\"sk-estimator-id-10\" class=\"sk-toggleable__label sk-toggleable__label-arrow\">StandardScaler</label><div class=\"sk-toggleable__content\"><pre>StandardScaler()</pre></div></div></div></div></div></div></div></div><div class=\"sk-item\"><div class=\"sk-estimator sk-toggleable\"><input class=\"sk-toggleable__control sk-hidden--visually\" id=\"sk-estimator-id-11\" type=\"checkbox\" ><label for=\"sk-estimator-id-11\" class=\"sk-toggleable__label sk-toggleable__label-arrow\">RareLabelEncoder</label><div class=\"sk-toggleable__content\"><pre>RareLabelEncoder(replace_with=&#x27;rare&#x27;)</pre></div></div></div><div class=\"sk-item\"><div class=\"sk-estimator sk-toggleable\"><input class=\"sk-toggleable__control sk-hidden--visually\" id=\"sk-estimator-id-12\" type=\"checkbox\" ><label for=\"sk-estimator-id-12\" class=\"sk-toggleable__label sk-toggleable__label-arrow\">OneHotEncoder</label><div class=\"sk-toggleable__content\"><pre>OneHotEncoder(drop_last_binary=True)</pre></div></div></div><div class=\"sk-item\"><div class=\"sk-estimator sk-toggleable\"><input class=\"sk-toggleable__control sk-hidden--visually\" id=\"sk-estimator-id-13\" type=\"checkbox\" ><label for=\"sk-estimator-id-13\" class=\"sk-toggleable__label sk-toggleable__label-arrow\">FunctionTransformer</label><div class=\"sk-toggleable__content\"><pre>FunctionTransformer(func=&lt;function converse_types at 0x0000019058198220&gt;)</pre></div></div></div><div class=\"sk-item\"><div class=\"sk-estimator sk-toggleable\"><input class=\"sk-toggleable__control sk-hidden--visually\" id=\"sk-estimator-id-14\" type=\"checkbox\" ><label for=\"sk-estimator-id-14\" class=\"sk-toggleable__label sk-toggleable__label-arrow\">DropConstantFeatures</label><div class=\"sk-toggleable__content\"><pre>DropConstantFeatures(tol=0.99)</pre></div></div></div><div class=\"sk-item\"><div class=\"sk-estimator sk-toggleable\"><input class=\"sk-toggleable__control sk-hidden--visually\" id=\"sk-estimator-id-15\" type=\"checkbox\" ><label for=\"sk-estimator-id-15\" class=\"sk-toggleable__label sk-toggleable__label-arrow\">DropDuplicateFeatures</label><div class=\"sk-toggleable__content\"><pre>DropDuplicateFeatures()</pre></div></div></div><div class=\"sk-item\"><div class=\"sk-estimator sk-toggleable\"><input class=\"sk-toggleable__control sk-hidden--visually\" id=\"sk-estimator-id-16\" type=\"checkbox\" ><label for=\"sk-estimator-id-16\" class=\"sk-toggleable__label sk-toggleable__label-arrow\">DropCorrelatedFeatures</label><div class=\"sk-toggleable__content\"><pre>DropCorrelatedFeatures()</pre></div></div></div></div></div></div></div>"
      ],
      "text/plain": [
       "Pipeline(steps=[('indexer',\n",
       "                 FunctionTransformer(func=<function set_index at 0x000001901803FCE0>)),\n",
       "                ('imputer',\n",
       "                 FunctionTransformer(func=<function fill_missings at 0x000001901803F1A0>)),\n",
       "                ('engineer',\n",
       "                 FunctionTransformer(func=<function create_features at 0x000001901803F420>)),\n",
       "                ('dropper',\n",
       "                 DropFeatures(features_to_drop=['client_id', 'visit_date',\n",
       "                                                'visit_time',\n",
       "                                                'device_s...\n",
       "                 SklearnTransformerWrapper(transformer=StandardScaler())),\n",
       "                ('rare_encoder', RareLabelEncoder(replace_with='rare')),\n",
       "                ('onehot_encoder', OneHotEncoder(drop_last_binary=True)),\n",
       "                ('bool_converter',\n",
       "                 FunctionTransformer(func=<function converse_types at 0x0000019058198220>)),\n",
       "                ('constant_dropper', DropConstantFeatures(tol=0.99)),\n",
       "                ('duplicated_dropper', DropDuplicateFeatures()),\n",
       "                ('correlated_dropper', DropCorrelatedFeatures())])"
      ]
     },
     "execution_count": 24,
     "metadata": {},
     "output_type": "execute_result"
    }
   ],
   "source": [
    "preprocessor"
   ]
  },
  {
   "cell_type": "markdown",
   "id": "a434954f-a68a-472a-b8f0-8efffb72157e",
   "metadata": {
    "id": "Vapx7kE14bXl",
    "tags": []
   },
   "source": [
    "## Моделирование"
   ]
  },
  {
   "cell_type": "markdown",
   "id": "8c5a3f14-7b2d-4284-929f-b8665f57f151",
   "metadata": {
    "id": "p7no5DMn5KQA",
    "tags": []
   },
   "source": [
    "### Разделение данных  \n",
    "\n",
    "Разделим данные на тренировочную, валидационную и тестовую выборки.  \n"
   ]
  },
  {
   "cell_type": "code",
   "execution_count": 25,
   "id": "c5968ea4-77c4-4486-83f6-90fd4b85eabc",
   "metadata": {
    "colab": {
     "base_uri": "https://localhost:8080/"
    },
    "id": "IbEwzDFl5SBC",
    "outputId": "fe8d6058-adff-403e-e6bb-9c3303eac4d1"
   },
   "outputs": [
    {
     "name": "stdout",
     "output_type": "stream",
     "text": [
      "train shapes: (1460042, 18) (1460042,)\n",
      "valid shapes: (200000, 18) (200000,)\n",
      "test  shapes: (200000, 18) (200000,)\n"
     ]
    }
   ],
   "source": [
    "X, X_test, y, y_test = train_test_split(\n",
    "    sessions, target, test_size=TEST_SIZE, \n",
    "    stratify=target, random_state=RANDOM_SEED)\n",
    "\n",
    "X_train, X_valid, y_train, y_valid = train_test_split(\n",
    "    X, y, test_size=TEST_SIZE, \n",
    "    stratify=y, random_state=RANDOM_SEED)\n",
    "\n",
    "print(f'train shapes: {X_train.shape} {y_train.shape}')\n",
    "print(f'valid shapes: {X_valid.shape} {y_valid.shape}')\n",
    "print(f'test  shapes: {X_test.shape} {y_test.shape}')"
   ]
  },
  {
   "cell_type": "markdown",
   "id": "a3d98cba-ece3-4253-9aa3-accb19aad0c5",
   "metadata": {
    "id": "faISJrub1s56",
    "tags": []
   },
   "source": [
    "### Препроцессинг данных  \n",
    "\n",
    "Преобразуем тренировочные и валидационные данные с помощью построенного конвейера."
   ]
  },
  {
   "cell_type": "code",
   "execution_count": 26,
   "id": "567f0ae0-c1d8-4bab-860d-c378063ecf3a",
   "metadata": {},
   "outputs": [
    {
     "data": {
      "text/html": [
       "<div>\n",
       "<style scoped>\n",
       "    .dataframe tbody tr th:only-of-type {\n",
       "        vertical-align: middle;\n",
       "    }\n",
       "\n",
       "    .dataframe tbody tr th {\n",
       "        vertical-align: top;\n",
       "    }\n",
       "\n",
       "    .dataframe thead th {\n",
       "        text-align: right;\n",
       "    }\n",
       "</style>\n",
       "<table border=\"1\" class=\"dataframe\">\n",
       "  <thead>\n",
       "    <tr style=\"text-align: right;\">\n",
       "      <th></th>\n",
       "      <th>session_id</th>\n",
       "      <th>client_id</th>\n",
       "      <th>visit_date</th>\n",
       "      <th>visit_time</th>\n",
       "      <th>visit_number</th>\n",
       "      <th>utm_source</th>\n",
       "      <th>utm_medium</th>\n",
       "      <th>utm_campaign</th>\n",
       "      <th>utm_adcontent</th>\n",
       "      <th>utm_keyword</th>\n",
       "      <th>device_category</th>\n",
       "      <th>device_os</th>\n",
       "      <th>device_brand</th>\n",
       "      <th>device_model</th>\n",
       "      <th>device_screen_resolution</th>\n",
       "      <th>device_browser</th>\n",
       "      <th>geo_country</th>\n",
       "      <th>geo_city</th>\n",
       "    </tr>\n",
       "  </thead>\n",
       "  <tbody>\n",
       "    <tr>\n",
       "      <th>1056663</th>\n",
       "      <td>547332070992313735.1638727047.1638727047</td>\n",
       "      <td>127435678.163873</td>\n",
       "      <td>2021-12-05</td>\n",
       "      <td>20:57:27</td>\n",
       "      <td>1</td>\n",
       "      <td>ZpYIoDJMcFzVoPFsHGJL</td>\n",
       "      <td>banner</td>\n",
       "      <td>TmThBvoCcwkCZZUWACYq</td>\n",
       "      <td>JNHcPlZPxEMWDnRiyoBf</td>\n",
       "      <td>puhZPIYqKXeFPaUviSjo</td>\n",
       "      <td>mobile</td>\n",
       "      <td>iOS</td>\n",
       "      <td>Apple</td>\n",
       "      <td>NaN</td>\n",
       "      <td>428x926</td>\n",
       "      <td>Safari</td>\n",
       "      <td>Russia</td>\n",
       "      <td>Novotroitsk</td>\n",
       "    </tr>\n",
       "    <tr>\n",
       "      <th>1409550</th>\n",
       "      <td>7049980726847853060.1629809978.1629809978</td>\n",
       "      <td>1641451550.162934</td>\n",
       "      <td>2021-08-24</td>\n",
       "      <td>15:00:00</td>\n",
       "      <td>5</td>\n",
       "      <td>MvfHsxITijuriZxsqZqt</td>\n",
       "      <td>cpm</td>\n",
       "      <td>FTjNLDyTrXaWYgZymFkV</td>\n",
       "      <td>PkybGvWbaqORmxjNunqZ</td>\n",
       "      <td>NaN</td>\n",
       "      <td>mobile</td>\n",
       "      <td>NaN</td>\n",
       "      <td>Xiaomi</td>\n",
       "      <td>NaN</td>\n",
       "      <td>393x851</td>\n",
       "      <td>Chrome</td>\n",
       "      <td>Russia</td>\n",
       "      <td>Balashikha</td>\n",
       "    </tr>\n",
       "    <tr>\n",
       "      <th>739873</th>\n",
       "      <td>4064566220882386809.1639930788.1639930788</td>\n",
       "      <td>946355569.163992</td>\n",
       "      <td>2021-12-19</td>\n",
       "      <td>19:19:48</td>\n",
       "      <td>2</td>\n",
       "      <td>ZpYIoDJMcFzVoPFsHGJL</td>\n",
       "      <td>banner</td>\n",
       "      <td>LEoPHuyFvzoNfnzGgfcd</td>\n",
       "      <td>vCIpmpaGBnIQhyYNkXqp</td>\n",
       "      <td>puhZPIYqKXeFPaUviSjo</td>\n",
       "      <td>mobile</td>\n",
       "      <td>Android</td>\n",
       "      <td>Samsung</td>\n",
       "      <td>NaN</td>\n",
       "      <td>339x753</td>\n",
       "      <td>Chrome</td>\n",
       "      <td>Russia</td>\n",
       "      <td>Almetyevsk</td>\n",
       "    </tr>\n",
       "    <tr>\n",
       "      <th>62902</th>\n",
       "      <td>1033849280328168809.1631647080.1631647080</td>\n",
       "      <td>240711793.163165</td>\n",
       "      <td>2021-09-14</td>\n",
       "      <td>22:00:00</td>\n",
       "      <td>1</td>\n",
       "      <td>ZpYIoDJMcFzVoPFsHGJL</td>\n",
       "      <td>banner</td>\n",
       "      <td>gecBYcKZCPMcVYdSSzKP</td>\n",
       "      <td>JNHcPlZPxEMWDnRiyoBf</td>\n",
       "      <td>NaN</td>\n",
       "      <td>mobile</td>\n",
       "      <td>NaN</td>\n",
       "      <td>Apple</td>\n",
       "      <td>NaN</td>\n",
       "      <td>414x896</td>\n",
       "      <td>Safari</td>\n",
       "      <td>Russia</td>\n",
       "      <td>Saint Petersburg</td>\n",
       "    </tr>\n",
       "    <tr>\n",
       "      <th>1297234</th>\n",
       "      <td>6544287746962620171.1638268683.1638268683</td>\n",
       "      <td>1523710728.163827</td>\n",
       "      <td>2021-11-30</td>\n",
       "      <td>13:38:03</td>\n",
       "      <td>1</td>\n",
       "      <td>ZpYIoDJMcFzVoPFsHGJL</td>\n",
       "      <td>banner</td>\n",
       "      <td>LEoPHuyFvzoNfnzGgfcd</td>\n",
       "      <td>vCIpmpaGBnIQhyYNkXqp</td>\n",
       "      <td>puhZPIYqKXeFPaUviSjo</td>\n",
       "      <td>mobile</td>\n",
       "      <td>Android</td>\n",
       "      <td>Xiaomi</td>\n",
       "      <td>NaN</td>\n",
       "      <td>393x851</td>\n",
       "      <td>Chrome</td>\n",
       "      <td>Russia</td>\n",
       "      <td>Moscow</td>\n",
       "    </tr>\n",
       "    <tr>\n",
       "      <th>...</th>\n",
       "      <td>...</td>\n",
       "      <td>...</td>\n",
       "      <td>...</td>\n",
       "      <td>...</td>\n",
       "      <td>...</td>\n",
       "      <td>...</td>\n",
       "      <td>...</td>\n",
       "      <td>...</td>\n",
       "      <td>...</td>\n",
       "      <td>...</td>\n",
       "      <td>...</td>\n",
       "      <td>...</td>\n",
       "      <td>...</td>\n",
       "      <td>...</td>\n",
       "      <td>...</td>\n",
       "      <td>...</td>\n",
       "      <td>...</td>\n",
       "      <td>...</td>\n",
       "    </tr>\n",
       "    <tr>\n",
       "      <th>1793000</th>\n",
       "      <td>8755082352522037809.1633552946.1633552946</td>\n",
       "      <td>2038451459.163355</td>\n",
       "      <td>2021-10-06</td>\n",
       "      <td>23:00:00</td>\n",
       "      <td>1</td>\n",
       "      <td>fDLlAcSmythWSCVMvqvL</td>\n",
       "      <td>(none)</td>\n",
       "      <td>LTuZkdKfxRGVceoWkVyg</td>\n",
       "      <td>JNHcPlZPxEMWDnRiyoBf</td>\n",
       "      <td>NaN</td>\n",
       "      <td>mobile</td>\n",
       "      <td>NaN</td>\n",
       "      <td>Samsung</td>\n",
       "      <td>NaN</td>\n",
       "      <td>360x800</td>\n",
       "      <td>Chrome</td>\n",
       "      <td>Russia</td>\n",
       "      <td>Moscow</td>\n",
       "    </tr>\n",
       "    <tr>\n",
       "      <th>207261</th>\n",
       "      <td>1682284231298311525.1640424805.1640424805</td>\n",
       "      <td>391687320.1640424805</td>\n",
       "      <td>2021-12-25</td>\n",
       "      <td>12:33:25</td>\n",
       "      <td>1</td>\n",
       "      <td>fDLlAcSmythWSCVMvqvL</td>\n",
       "      <td>(none)</td>\n",
       "      <td>LTuZkdKfxRGVceoWkVyg</td>\n",
       "      <td>JNHcPlZPxEMWDnRiyoBf</td>\n",
       "      <td>puhZPIYqKXeFPaUviSjo</td>\n",
       "      <td>mobile</td>\n",
       "      <td>iOS</td>\n",
       "      <td>Apple</td>\n",
       "      <td>NaN</td>\n",
       "      <td>375x812</td>\n",
       "      <td>Safari</td>\n",
       "      <td>Russia</td>\n",
       "      <td>Saint Petersburg</td>\n",
       "    </tr>\n",
       "    <tr>\n",
       "      <th>93412</th>\n",
       "      <td>1170303784354950884.1640345317.1640345317</td>\n",
       "      <td>272482583.164035</td>\n",
       "      <td>2021-12-24</td>\n",
       "      <td>14:28:37</td>\n",
       "      <td>1</td>\n",
       "      <td>fDLlAcSmythWSCVMvqvL</td>\n",
       "      <td>(none)</td>\n",
       "      <td>LTuZkdKfxRGVceoWkVyg</td>\n",
       "      <td>JNHcPlZPxEMWDnRiyoBf</td>\n",
       "      <td>puhZPIYqKXeFPaUviSjo</td>\n",
       "      <td>desktop</td>\n",
       "      <td>Windows</td>\n",
       "      <td>NaN</td>\n",
       "      <td>NaN</td>\n",
       "      <td>1920x1080</td>\n",
       "      <td>Chrome</td>\n",
       "      <td>Russia</td>\n",
       "      <td>Moscow</td>\n",
       "    </tr>\n",
       "    <tr>\n",
       "      <th>1568591</th>\n",
       "      <td>7753976912353269271.1634047522.1634047522</td>\n",
       "      <td>1805363435.163405</td>\n",
       "      <td>2021-10-12</td>\n",
       "      <td>17:00:00</td>\n",
       "      <td>1</td>\n",
       "      <td>ZpYIoDJMcFzVoPFsHGJL</td>\n",
       "      <td>banner</td>\n",
       "      <td>gecBYcKZCPMcVYdSSzKP</td>\n",
       "      <td>JNHcPlZPxEMWDnRiyoBf</td>\n",
       "      <td>NaN</td>\n",
       "      <td>mobile</td>\n",
       "      <td>NaN</td>\n",
       "      <td>Xiaomi</td>\n",
       "      <td>NaN</td>\n",
       "      <td>393x851</td>\n",
       "      <td>Chrome</td>\n",
       "      <td>Russia</td>\n",
       "      <td>Novosibirsk</td>\n",
       "    </tr>\n",
       "    <tr>\n",
       "      <th>1119538</th>\n",
       "      <td>5753600408244704247.1626854393.1626854393</td>\n",
       "      <td>1339614486.162685</td>\n",
       "      <td>2021-07-21</td>\n",
       "      <td>10:00:00</td>\n",
       "      <td>1</td>\n",
       "      <td>MvfHsxITijuriZxsqZqt</td>\n",
       "      <td>cpm</td>\n",
       "      <td>FTjNLDyTrXaWYgZymFkV</td>\n",
       "      <td>dUuXlWzvmhDSyclWRhNP</td>\n",
       "      <td>NaN</td>\n",
       "      <td>mobile</td>\n",
       "      <td>NaN</td>\n",
       "      <td>Xiaomi</td>\n",
       "      <td>NaN</td>\n",
       "      <td>393x851</td>\n",
       "      <td>Chrome</td>\n",
       "      <td>Russia</td>\n",
       "      <td>Saint Petersburg</td>\n",
       "    </tr>\n",
       "  </tbody>\n",
       "</table>\n",
       "<p>1460042 rows × 18 columns</p>\n",
       "</div>"
      ],
      "text/plain": [
       "                                        session_id             client_id  \\\n",
       "1056663   547332070992313735.1638727047.1638727047      127435678.163873   \n",
       "1409550  7049980726847853060.1629809978.1629809978     1641451550.162934   \n",
       "739873   4064566220882386809.1639930788.1639930788      946355569.163992   \n",
       "62902    1033849280328168809.1631647080.1631647080      240711793.163165   \n",
       "1297234  6544287746962620171.1638268683.1638268683     1523710728.163827   \n",
       "...                                            ...                   ...   \n",
       "1793000  8755082352522037809.1633552946.1633552946     2038451459.163355   \n",
       "207261   1682284231298311525.1640424805.1640424805  391687320.1640424805   \n",
       "93412    1170303784354950884.1640345317.1640345317      272482583.164035   \n",
       "1568591  7753976912353269271.1634047522.1634047522     1805363435.163405   \n",
       "1119538  5753600408244704247.1626854393.1626854393     1339614486.162685   \n",
       "\n",
       "         visit_date visit_time  visit_number            utm_source utm_medium  \\\n",
       "1056663  2021-12-05   20:57:27             1  ZpYIoDJMcFzVoPFsHGJL     banner   \n",
       "1409550  2021-08-24   15:00:00             5  MvfHsxITijuriZxsqZqt        cpm   \n",
       "739873   2021-12-19   19:19:48             2  ZpYIoDJMcFzVoPFsHGJL     banner   \n",
       "62902    2021-09-14   22:00:00             1  ZpYIoDJMcFzVoPFsHGJL     banner   \n",
       "1297234  2021-11-30   13:38:03             1  ZpYIoDJMcFzVoPFsHGJL     banner   \n",
       "...             ...        ...           ...                   ...        ...   \n",
       "1793000  2021-10-06   23:00:00             1  fDLlAcSmythWSCVMvqvL     (none)   \n",
       "207261   2021-12-25   12:33:25             1  fDLlAcSmythWSCVMvqvL     (none)   \n",
       "93412    2021-12-24   14:28:37             1  fDLlAcSmythWSCVMvqvL     (none)   \n",
       "1568591  2021-10-12   17:00:00             1  ZpYIoDJMcFzVoPFsHGJL     banner   \n",
       "1119538  2021-07-21   10:00:00             1  MvfHsxITijuriZxsqZqt        cpm   \n",
       "\n",
       "                 utm_campaign         utm_adcontent           utm_keyword  \\\n",
       "1056663  TmThBvoCcwkCZZUWACYq  JNHcPlZPxEMWDnRiyoBf  puhZPIYqKXeFPaUviSjo   \n",
       "1409550  FTjNLDyTrXaWYgZymFkV  PkybGvWbaqORmxjNunqZ                   NaN   \n",
       "739873   LEoPHuyFvzoNfnzGgfcd  vCIpmpaGBnIQhyYNkXqp  puhZPIYqKXeFPaUviSjo   \n",
       "62902    gecBYcKZCPMcVYdSSzKP  JNHcPlZPxEMWDnRiyoBf                   NaN   \n",
       "1297234  LEoPHuyFvzoNfnzGgfcd  vCIpmpaGBnIQhyYNkXqp  puhZPIYqKXeFPaUviSjo   \n",
       "...                       ...                   ...                   ...   \n",
       "1793000  LTuZkdKfxRGVceoWkVyg  JNHcPlZPxEMWDnRiyoBf                   NaN   \n",
       "207261   LTuZkdKfxRGVceoWkVyg  JNHcPlZPxEMWDnRiyoBf  puhZPIYqKXeFPaUviSjo   \n",
       "93412    LTuZkdKfxRGVceoWkVyg  JNHcPlZPxEMWDnRiyoBf  puhZPIYqKXeFPaUviSjo   \n",
       "1568591  gecBYcKZCPMcVYdSSzKP  JNHcPlZPxEMWDnRiyoBf                   NaN   \n",
       "1119538  FTjNLDyTrXaWYgZymFkV  dUuXlWzvmhDSyclWRhNP                   NaN   \n",
       "\n",
       "        device_category device_os device_brand device_model  \\\n",
       "1056663          mobile       iOS        Apple          NaN   \n",
       "1409550          mobile       NaN       Xiaomi          NaN   \n",
       "739873           mobile   Android      Samsung          NaN   \n",
       "62902            mobile       NaN        Apple          NaN   \n",
       "1297234          mobile   Android       Xiaomi          NaN   \n",
       "...                 ...       ...          ...          ...   \n",
       "1793000          mobile       NaN      Samsung          NaN   \n",
       "207261           mobile       iOS        Apple          NaN   \n",
       "93412           desktop   Windows          NaN          NaN   \n",
       "1568591          mobile       NaN       Xiaomi          NaN   \n",
       "1119538          mobile       NaN       Xiaomi          NaN   \n",
       "\n",
       "        device_screen_resolution device_browser geo_country          geo_city  \n",
       "1056663                  428x926         Safari      Russia       Novotroitsk  \n",
       "1409550                  393x851         Chrome      Russia        Balashikha  \n",
       "739873                   339x753         Chrome      Russia        Almetyevsk  \n",
       "62902                    414x896         Safari      Russia  Saint Petersburg  \n",
       "1297234                  393x851         Chrome      Russia            Moscow  \n",
       "...                          ...            ...         ...               ...  \n",
       "1793000                  360x800         Chrome      Russia            Moscow  \n",
       "207261                   375x812         Safari      Russia  Saint Petersburg  \n",
       "93412                  1920x1080         Chrome      Russia            Moscow  \n",
       "1568591                  393x851         Chrome      Russia       Novosibirsk  \n",
       "1119538                  393x851         Chrome      Russia  Saint Petersburg  \n",
       "\n",
       "[1460042 rows x 18 columns]"
      ]
     },
     "execution_count": 26,
     "metadata": {},
     "output_type": "execute_result"
    }
   ],
   "source": [
    "X_train"
   ]
  },
  {
   "cell_type": "code",
   "execution_count": 27,
   "id": "33a07438-4699-4594-b53b-f232fb74afdb",
   "metadata": {},
   "outputs": [],
   "source": [
    "missing_values = [float('nan'), '(none)', '(not set)', '0x0']"
   ]
  },
  {
   "cell_type": "code",
   "execution_count": 28,
   "id": "4ffb9a1f-56dd-42f6-976c-29145816669a",
   "metadata": {},
   "outputs": [],
   "source": [
    "russian_holidays = [\n",
    "    '2021-01-01', '2021-01-02', '2021-01-03', '2021-01-04', '2021-01-05', \n",
    "    '2021-01-06', '2021-01-07', '2021-01-08', '2021-02-22', '2021-02-23', \n",
    "    '2021-03-08', '2021-05-01', '2021-05-03', '2021-05-09', '2021-05-10', \n",
    "    '2021-06-12', '2021-06-14', '2021-11-04', '2021-11-05', '2021-12-31', \n",
    "    '2022-01-01', '2022-01-02', '2022-01-03', '2022-01-04', '2022-01-05', \n",
    "    '2022-01-06', '2022-01-07', '2022-01-08', '2022-02-23', '2022-03-08', \n",
    "    '2022-05-01', '2022-05-02', '2022-05-09', '2022-06-12', '2022-06-13', \n",
    "    '2022-11-04', '2022-12-31']"
   ]
  },
  {
   "cell_type": "code",
   "execution_count": 29,
   "id": "33dc06de-694b-43d1-9bdc-39140773df51",
   "metadata": {},
   "outputs": [],
   "source": [
    "organic_mediums = ['organic', 'referral', '(none)']"
   ]
  },
  {
   "cell_type": "code",
   "execution_count": 30,
   "id": "3b823b3c-84d3-455a-a6ca-ea21a4184e51",
   "metadata": {},
   "outputs": [],
   "source": [
    "social_media_sources = ['QxAxdyPLuQMEcrdZWdWb', 'MvfHsxITijuriZxsqZqt', \n",
    "                        'ISrKoXQCxqqYvAZICvjs', 'IZEXUFLARCUMynmHNBGo', \n",
    "                        'PlbkrSYoHuZBWfYjYnfw', 'gVRrcxiDQubJiljoTbGm']"
   ]
  },
  {
   "cell_type": "code",
   "execution_count": 31,
   "id": "28c58d1a-a995-4a59-a301-c75ae3efe83a",
   "metadata": {},
   "outputs": [],
   "source": [
    "moscow_region_cities = [\n",
    "    'Aprelevka', 'Balashikha', 'Chekhov', 'Chernogolovka', 'Dedovsk', \n",
    "    'Dmitrov', 'Dolgoprudny', 'Domodedovo', 'Dubna', 'Dzerzhinsky', \n",
    "    'Elektrogorsk', 'Elektrostal', 'Elektrougli', 'Fryazino', 'Golitsyno', \n",
    "    'Istra', 'Ivanteyevka', 'Kalininets', 'Kashira', 'Khimki', 'Khotkovo', \n",
    "    'Klimovsk', 'Klin', 'Kolomna', 'Korolyov', 'Kotelniki', 'Krasnoarmeysk', \n",
    "    'Krasnogorsk', 'Krasnoznamensk', 'Kubinka', 'Kurovskoye', \n",
    "    'Likino-Dulyovo', 'Lobnya', 'Losino-Petrovsky', 'Lukhovitsy', \n",
    "    'Lytkarino', 'Lyubertsy', 'Mozhaysk', 'Mytishchi', 'Naro-Fominsk', \n",
    "    'Noginsk', 'Odintsovo', 'Orekhovo-Zuyevo', 'Pavlovsky Posad', 'Podolsk', \n",
    "    'Protvino', 'Pushchino', 'Pushkino', 'Ramenskoye', 'Reutov', 'Ruza', \n",
    "    'Sergiyev Posad', 'Serpukhov', 'Shatura', 'Shchyolkovo', \n",
    "    'Solnechnogorsk', 'Staraya Kupavna', 'Stupino', 'Vidnoye', \n",
    "    'Volokolamsk', 'Voskresensk', 'Yakhroma', 'Yegoryevsk', 'Zvenigorod']"
   ]
  },
  {
   "cell_type": "code",
   "execution_count": 32,
   "id": "16fd9549-2670-46ef-91d8-c0bb9aff3bde",
   "metadata": {},
   "outputs": [],
   "source": [
    "big_cities = ['Moscow', 'Saint Petersburg', 'Novosibirsk', 'Yekaterinburg', \n",
    "              'Kazan', 'Nizhny Novgorod', 'Chelyabinsk', 'Samara', 'Omsk', \n",
    "              'Rostov-on-Don', 'Ufa', 'Krasnoyarsk', 'Voronezh', 'Perm', \n",
    "              'Volgograd', 'Krasnodar', 'Saratov', 'Tyumen']"
   ]
  },
  {
   "cell_type": "code",
   "execution_count": 33,
   "id": "b1a0aa6c-aa23-421e-85f8-5043fe42a745",
   "metadata": {},
   "outputs": [],
   "source": [
    "distances_from_moscow = {\n",
    "    'zlatoust': 1391.263586320666,\n",
    "    'moscow': 0.0,\n",
    "    'krasnoyarsk': 3336.039749777034,\n",
    "    'saint petersburg': 636.1695135872066,\n",
    "    'sochi': 1361.357154793485,\n",
    "    'yaroslavl': 251.13992274208584,\n",
    "    'mytishchi': 19.15256793901058,\n",
    "    'novorossiysk': 1226.5566120134847,\n",
    "    'balashikha': 22.57464380465976,\n",
    "    'pushkino': 32.29150343512499,\n",
    "    'vladivostok': 6434.301687239597,\n",
    "    'alexandrov': 99.03461742181614,\n",
    "    'astrakhan': 1272.5934764474214,\n",
    "    'reutov': 15.066736856880723,\n",
    "    'kazan': 721.4395898259049,\n",
    "    'ulyanovsk': 704.8643503547661,\n",
    "    'tula': 173.37597779851754,\n",
    "    'yekaterinburg': 1421.8971980595,\n",
    "    'rostov-on-don': 959.8830610946284,\n",
    "    'samara': 856.8315253096929,\n",
    "    'domodedovo': 36.1846810301295,\n",
    "    'yoshkar-ola': 645.0905459206801,\n",
    "    'chelyabinsk': 1498.8592485500628,\n",
    "    'krasnogorsk': 19.128893627152596,\n",
    "    'krasnodar': 1114.8111085097096,\n",
    "    'lipetsk': 353.93468708196895,\n",
    "    'nakhabino': 29.34753329618301,\n",
    "    'kyzyl': 3669.160067257817,\n",
    "    'ryazan': 184.0749867936237,\n",
    "    'tyumen': 1716.8034849522674,\n",
    "    'omsk': 2243.230614478407,\n",
    "    'nizhny novgorod': 403.1271008941555,\n",
    "    'irkutsk': 3997.3240242086913,\n",
    "    'mezhdurechensk': 3186.977397404048,\n",
    "    'stupino': 100.50298403934347,\n",
    "    'serpukhov': 93.79639415363022,\n",
    "    'saratov': 727.5243756615845,\n",
    "    'grozny': 1498.6390016944135,\n",
    "    'orenburg': 1230.997301228693,\n",
    "    'surgut': 2143.5097426260527,\n",
    "    'volgograd': 913.40653000604,\n",
    "    'engels': 734.1820123219143,\n",
    "    'fryazino': 35.68825436908673,\n",
    "    'naberezhnye chelny': 926.5455187130812,\n",
    "    'khabarovsk': 5955.703005291212,\n",
    "    'ufa': 1168.153047105715,\n",
    "    'novosibirsk': 2820.763592183317,\n",
    "    'kirov': 793.5857281587636,\n",
    "    'kotelniki': 18.556201509278427,\n",
    "    'kaluga': 162.98501946171325,\n",
    "    'vyborg': 758.2625638645857,\n",
    "    'barnaul': 2943.257935404941,\n",
    "    'tambov': 419.072146029825,\n",
    "    'tver': 162.03184502252185,\n",
    "    'korolyov': 23.240966914958825,\n",
    "    'kostroma': 302.3271334606748,\n",
    "    'zheleznodorozhny': 1051.3212963591216,\n",
    "    'dolgoprudny': 21.451753870279653,\n",
    "    'kursk': 456.3676328552856,\n",
    "    'pyatigorsk': 1359.1346795165907,\n",
    "    'khimki': 19.27787504978214,\n",
    "    'dubna': 113.336078534706,\n",
    "    'izhevsk': 970.8632565557036,\n",
    "    'chita': 4752.38859817778,\n",
    "    'cherkessk': 1319.672066231367,\n",
    "    'blagoveshchensk': 5630.258195023883,\n",
    "    'bryansk': 349.6394555186336,\n",
    "    'voronezh': 467.015180857099,\n",
    "    'kolomna': 103.33805649619023,\n",
    "    'nalchik': 1430.5028996363571,\n",
    "    'obninsk': 96.82910844583522,\n",
    "    'belgorod': 577.7869858749181,\n",
    "    'perm': 1170.262093684163,\n",
    "    'severodvinsk': 989.3463180226084,\n",
    "    'gatchina': 616.369780994091,\n",
    "    'syktyvkar': 1007.3633668496318,\n",
    "    'naro-fominsk': 68.51450800685191,\n",
    "    'protvino': 101.15152863427636,\n",
    "    'kamensk-uralsky': 1506.829417564834,\n",
    "    'zhukovskiy': 600.4219593564324,\n",
    "    'tomsk': 2655.7361007309364,\n",
    "    'stavropol': 1278.9876969538484,\n",
    "    'ivanteyevka': 31.051927448382365,\n",
    "    'yegoryevsk': 98.37617987397816,\n",
    "    'magnitogorsk': 1399.4447582737268,\n",
    "    'vidnoye': 22.273670822552017,\n",
    "    'abakan': 3386.4037130516103,\n",
    "    'kraskovo': 24.96235703886392,\n",
    "    'safonovo': 286.2924673657379,\n",
    "    'shlisselburg': 608.2272247268463,\n",
    "    'cherepovets': 376.65445395984784,\n",
    "    'arkhangelsk': 992.6837722348444,\n",
    "    'lyubertsy': 19.131687885364908,\n",
    "    'vologda': 578.1169534315311,\n",
    "    'petrozavodsk': 697.9721736505935,\n",
    "    'oryol': 325.58358692835327,\n",
    "    'odintsovo': 23.396555594006895,\n",
    "    'voskresensk': 82.36561436203819,\n",
    "    'almetyevsk': 934.756507490178,\n",
    "    'veliky novgorod': 492.2434986334845,\n",
    "    'kovrov': 240.34824684527445,\n",
    "    'ramenskoye': 43.322630130479546,\n",
    "    'berezniki': 1212.7987454012757,\n",
    "    'shchyolkovo': 30.14037479489325,\n",
    "    'novocheboksarsk': 617.6614496689281,\n",
    "    'maykop': 1252.0417154745587,\n",
    "    'nefteyugansk': 2101.016020281276,\n",
    "    'tomilino': 587.5370629562508,\n",
    "    'kaliningrad': 1091.7810203900708,\n",
    "    'vladimir': 179.35415952478112,\n",
    "    'velikiye luki': 446.4897914407206,\n",
    "    'nakhodka': 6512.826751067336,\n",
    "    'nizhnevartovsk': 2316.101568624056,\n",
    "    'nevinnomyssk': 1274.9648982402225,\n",
    "    'klin': 85.25341211585662,\n",
    "    'uchaly': 1395.0694573085807,\n",
    "    'novy urengoy': 2357.070596933191,\n",
    "    'smolensk': 370.11957641629294,\n",
    "    'dedovsk': 33.44282124708212,\n",
    "    'sergiyev posad': 70.71201081392101,\n",
    "    'vsevolozhsk': 629.8608377734972,\n",
    "    'dmitrov': 66.48470950822428,\n",
    "    'cheboksary': 602.6003537044186,\n",
    "    'podolsk': 35.868186236649,\n",
    "    'pervouralsk': 1380.892115200903,\n",
    "    'anapa': 1207.7697317191653,\n",
    "    'lytkarino': 26.171266900562145,\n",
    "    'kopeysk': 1513.6217762611632,\n",
    "    'tosno': 582.7586696635991,\n",
    "    'norilsk': 2890.251515258955,\n",
    "    'tolyatti': 799.8381096242144,\n",
    "    'temryuk': 1165.3624515813908,\n",
    "    'ussuriysk': 6381.347211888504,\n",
    "    'istra': 50.88951924026617,\n",
    "    'murmansk': 1491.035365952789,\n",
    "    'ivanovo': 249.58733461631263,\n",
    "    'verkhnyaya pyshma': 1418.646108882692,\n",
    "    'maloyaroslavets': 110.21255938028736,\n",
    "    'tikhvin': 496.9134080491585,\n",
    "    'neryungri': 5028.977481470272,\n",
    "    'kurgan': 1630.4830408964883,\n",
    "    'novomoskovsk': 198.39912622251103,\n",
    "    'kemerovo': 2996.19975700017,\n",
    "    'volokolamsk': 108.56175176242488,\n",
    "    'elektrostal': 51.84872232603937,\n",
    "    'essentuki': 1354.1058476615915,\n",
    "    'kislovodsk': 1365.9041690419383,\n",
    "    'malakhovka': 26.99082254199157,\n",
    "    'orekhovo-zuyevo': 85.6729405699771,\n",
    "    'angarsk': 4178.283677448494,\n",
    "    'chekhov': 68.44709881944979,\n",
    "    'severomorsk': 1499.3047699096576,\n",
    "    'leninsk-kuznetskiy': 3024.4663354351296,\n",
    "    'satka': 1353.5254445419057,\n",
    "    'dzerzhinsk': 368.59794417334047,\n",
    "    'хомутово': 6668.791623791499,\n",
    "    'penza': 556.0305682853448,\n",
    "    'biysk': 3068.7132170237933,\n",
    "    'novokuznetsk': 3127.6022996940287,\n",
    "    'lobnya': 30.440525152635374,\n",
    "    'sterlitamak': 1201.8214869231806,\n",
    "    'naryan-mar': 1546.3123404691437,\n",
    "    'kamyshin': 819.0343184384951,\n",
    "    'artyom': 6430.381425066174,\n",
    "    'yurga': 2914.0593434459674,\n",
    "    'asbest': 1471.9556267379069,\n",
    "    'sertolovo': 656.4737697387209,\n",
    "    'staraya kupavna': 35.69475828769861,\n",
    "    'volzhskiy': 915.5424228748903,\n",
    "    'yuzhno-sakhalinsk': 6662.822265097304,\n",
    "    'dzerzhinsky': 19.755817456584587,\n",
    "    'krasnoznamensk': 40.16986859789947,\n",
    "    'ulan-ude': 4432.539381037524,\n",
    "    'zarechnyy': 606.0887567751221,\n",
    "    'kostomuksha': 1057.376319264544,\n",
    "    'povarovo': 50.52734489960697,\n",
    "    'meleuz': 1226.2104294516412,\n",
    "    'nazran': 1483.2725769944918,\n",
    "    'klimovsk': 42.08840658931683,\n",
    "    'stary oskol': 495.74079214243545,\n",
    "    'vorkuta': 1891.6302759858595,\n",
    "    'poltavskaya': 1155.8248883948718,\n",
    "    'lukhovitsy': 125.0361461564636,\n",
    "    'beloozyorskiy': 61.073850334859074,\n",
    "    'elektrougli': 38.19286528690888,\n",
    "    'chebarkul': 1438.8690266914327,\n",
    "    'pskov': 611.6967383817062,\n",
    "    'ukhta': 1249.5980588134028,\n",
    "    'ruza': 89.5764906198789,\n",
    "    'nizhny tagil': 1377.8498180844908,\n",
    "    'yakutsk': 4901.163764820078,\n",
    "    'khotkovo': 60.72433440755533,\n",
    "    'elista': 1148.3051053640338,\n",
    "    'bratsk': 3852.601801304402,\n",
    "    'noginsk': 52.95761210648052,\n",
    "    'makhachkala': 1587.5655360528883,\n",
    "    'vladikavkaz': 1503.498930286972,\n",
    "    'belovo': 3048.147193273616,\n",
    "    'frolovo': 780.2333467253039,\n",
    "    'petropavlovsk-kamchatskiy': 6798.018682170094,\n",
    "    'borovichi': 370.0201002038788,\n",
    "    'kratovo': 38.27502643887081,\n",
    "    'prokopyevsk': 3097.586118228412,\n",
    "    'seversk': 2878.478697347678,\n",
    "    'rybinsk': 266.62620678639803,\n",
    "    'pereslavl-zalessky': 133.65119287257676,\n",
    "    'taganrog': 953.8988301108136,\n",
    "    'novouralsk': 1387.9078797741597,\n",
    "    'gelendzhik': 1245.0497234965765,\n",
    "    'aramil': 1438.094504062841,\n",
    "    'neftekamsk': 1037.9314586718494,\n",
    "    'novotroitsk': 1457.0530345108157,\n",
    "    'tuapse': 1300.1385167816816,\n",
    "    'mozhaysk': 103.83921583291148,\n",
    "    'sarov': 373.8154496798572,\n",
    "    'kimry': 126.08756924425133,\n",
    "    'kubinka': 61.218046614594186,\n",
    "    'zheleznogorsk': 3391.850347906158,\n",
    "    'saransk': 514.5759444962858,\n",
    "    'dimitrovgrad': 784.9888159828704,\n",
    "    'slavyansk-na-kubani': 1167.5855361519575,\n",
    "    'tikhoretsk': 1114.786471927972,\n",
    "    'salekhard': 1940.798233727196,\n",
    "    'ostrov': 596.0147871697434,\n",
    "    'kommunar': 609.0316563952802,\n",
    "    'tsivilsk': 617.608810996026,\n",
    "    'shakhty': 911.990910602426,\n",
    "    'pechora': 1487.3071484483453,\n",
    "    'svetogorsk': 784.6154471409538,\n",
    "    'megion': 2289.965764352699,\n",
    "    'bataysk': 969.330021045852,\n",
    "    'kirishi': 530.8309526915012,\n",
    "    'komsomolsk-on-amur': 6086.29642220532,\n",
    "    'novocherkassk': 943.5609192173324,\n",
    "    'chernogolovka': 55.75814822209252,\n",
    "    'gorki-2': 727.7907922818495,\n",
    "    'gus-khrustalny': 192.64146200083803,\n",
    "    'berdsk': 2842.4371674583103,\n",
    "    'lysva': 1251.2694243399262,\n",
    "    'korsakov': 6693.46814234493,\n",
    "    'sovetsk': 996.7695220314324,\n",
    "    'aprelevka': 41.18219415362496,\n",
    "    'semibratovo': 209.0654774418882,\n",
    "    'pavlovsky posad': 64.94947986028654,\n",
    "    'bor': 406.57781172305175,\n",
    "    'magadan': 5696.766522816334,\n",
    "    'kstovo': 413.3420040082879,\n",
    "    'shatura': 122.7240473979108,\n",
    "    'losino-petrovsky': 39.0856643165014,\n",
    "    'yalutorovsk': 1770.7930860972722,\n",
    "    'ust-ilimsk': 3824.762306477272,\n",
    "    'pushchino': 101.94688109279312,\n",
    "    'polysayevo': 3038.5975501321755,\n",
    "    'prokhladny': 1409.5731328427237,\n",
    "    'tobolsk': 1866.1259900513485,\n",
    "    'birobidzhan': 6025.667074308183,\n",
    "    'lipitsy': 488.33181946214216,\n",
    "    'volgodonsk': 968.7193376964842,\n",
    "    'yeysk': 1006.6702432800072,\n",
    "    'golitsyno': 42.32796602639879,\n",
    "    'miass': 1420.4111070245615,\n",
    "    'yelets': 352.953027033769,\n",
    "    'zvenigorod': 47.72843063332915,\n",
    "    'selyatino': 47.81307831562977,\n",
    "    'volkhov': 561.0120810417935,\n",
    "    'krasnoarmeysk': 52.84859748189735,\n",
    "    'apatity': 1335.0174311357218,\n",
    "    'solnechnogorsk': 62.75797256121989,\n",
    "    'buynaksk': 1591.6091181217846,\n",
    "    'bolshoy kamen': 6459.6647658063575,\n",
    "    'noyabrsk': 2258.5967649018207,\n",
    "    'tynda': 5133.7148203026745,\n",
    "    'nizhnekamsk': 891.351444472025,\n",
    "    'usolye-sibirskoye': 4152.668391343766,\n",
    "    'kingisepp': 673.0970220244146,\n",
    "    'zelenodolsk': 682.4973369990087,\n",
    "    'glazov': 950.3194914895024,\n",
    "    'achinsk': 3216.780147934828,\n",
    "    'rodniki': 295.0464136688749,\n",
    "    'shelekhov': 4209.77264099612,\n",
    "    'kaspiysk': 1601.679936799069,\n",
    "    'birsk': 1127.659719672664,\n",
    "    'nadym': 2157.8430358400265,\n",
    "    'gorno-altaysk': 3143.3301534511943,\n",
    "    'kolchugino': 3029.386251308493,\n",
    "    'kushchyovskaya': 1034.055831067238,\n",
    "    'yuzhnyy': 3482.931087966988,\n",
    "    'armavir': 1221.3111343868295,\n",
    "    'mozhga': 909.9695253925483,\n",
    "    'vyksa': 292.00651478106886,\n",
    "    'uzlovaya': 200.30676600029304,\n",
    "    'rostov': 959.8830610946284,\n",
    "    'kirovsk': 605.2671113612804,\n",
    "    \"ul'yanovka\": 192.0411085381513,\n",
    "    'novoaltaysk': 2950.9705068425405,\n",
    "    'kamensk-shakhtinsky': 846.2139538784264,\n",
    "    'ozersk': 1442.8560961441965,\n",
    "    'elektrogorsk': 74.63716516619932,\n",
    "    'arzamas': 394.35402804220274,\n",
    "    'snezhinsk': 1438.9690430594771,\n",
    "    'borisoglebsk': 569.9580301479704,\n",
    "    'mirny': 4170.726504147512,\n",
    "    'vyazniki': 287.308764186897,\n",
    "    'enem': 1207.821030982559,\n",
    "    'nyagan': 1734.888769945378,\n",
    "    'khanty-mansiysk': 1906.792032820939,\n",
    "    'monino': 37.715349372745926,\n",
    "    'mineralnye vody': 1342.0944633137724,\n",
    "    'verkhnyaya salda': 1413.7297090555912,\n",
    "    'russkiy': 1213.062834379814,\n",
    "    'revda': 1379.6717524046908,\n",
    "    'lesnoy gorodok': 28.475504020539947,\n",
    "    'argun': 1506.098028834171,\n",
    "    'kyshtym': 1434.2595681626117,\n",
    "    'salavat': 1210.078586205624,\n",
    "    'tuchkovo': 74.30089302855156,\n",
    "    'kumertau': 1226.5856038134475,\n",
    "    'polevskoy': 1399.151300955637,\n",
    "    'mikhaylovka': 734.9935677109922,\n",
    "    'murom': 279.2759175366648,\n",
    "    'kineshma': 335.5996758437128,\n",
    "    'kandalaksha': 1299.3304879892798,\n",
    "    'krasnouralsk': 1384.2334857967037,\n",
    "    'torzhok': 217.4706587749375,\n",
    "    'yuzhnouralsk': 1509.4408603749698,\n",
    "    'shuya': 263.59454702063505,\n",
    "    'serov': 1426.9672333775843,\n",
    "    'sosnovy bor': 685.2323134899109,\n",
    "    'shadrinsk': 1617.147870036188,\n",
    "    'kotlas': 806.4754172091222,\n",
    "    'novotitarovskaya': 1173.4741472213989,\n",
    "    'balakovo': 787.8822091993675,\n",
    "    '83709': 3202.813333769226,\n",
    "    'azov': 968.9726699294038,\n",
    "    'kirovo-chepetsk': 811.8571178014768,\n",
    "    'rubtsovsk': 2872.4015656846614,\n",
    "    'kirzhach': 90.62652039638547,\n",
    "    'anadyr': 6213.777177759523,\n",
    "    'khasavyurt': 1531.9145979750529,\n",
    "    'beryozovsky': 1433.634294395171,\n",
    "    'derbent': 1707.4033646935634,\n",
    "    'dubovoe': 414.1453826358143,\n",
    "    'vyazma': 217.54174988855237,\n",
    "    'pyt-yakh': 2113.4245970564507,\n",
    "    'semender': 1583.4934150903011,\n",
    "    'nikolskoye': 598.9997361692872,\n",
    "    'kashira': 107.13368440394626,\n",
    "    'kizlyar': 1473.3798545362304,\n",
    "    'zarinsk': 2997.181989822133,\n",
    "    'konakovo': 119.1786549464336,\n",
    "    'kurumoch': 839.7114992062343,\n",
    "    'udomlya': 285.6169847200254,\n",
    "    'minusinsk': 3402.637804653251,\n",
    "    'kropotkin': 1166.2245607801617,\n",
    "    'aleksandrovsk-sakhalinskiy': 6299.8823011927725,\n",
    "    'pavlovo': 342.2607377444623,\n",
    "    'otradny': 924.9037500182482,\n",
    "    'aksay': 956.2965486068668,\n",
    "    'balakhna': 381.1579987404556,\n",
    "    'monchegorsk': 1379.666459717234,\n",
    "    'kurchatov': 473.2883426264815,\n",
    "    'orsk': 1466.0377255809008,\n",
    "    'beloretsk': 1344.6724341902625,\n",
    "    'vyshny volochyok': 276.9809306440123,\n",
    "    'plastunovskaya': 1168.6851720045977,\n",
    "    'nizhnyaya tura': 1375.9166273461458,\n",
    "    'poronaysk': 6485.758764373887,\n",
    "    'oktyabrsky': 1018.8184366705572,\n",
    "    'shakhovskaya': 135.50534368151105,\n",
    "    'kizilyurt': 1545.4401863233754,\n",
    "    'chistopol': 821.3604105474976,\n",
    "    'kansk': 3517.5408678268373,\n",
    "    'inta': 1658.5575397677376,\n",
    "    'novoshakhtinsk': 903.6507811060995,\n",
    "    'kartaly': 1517.4593040784584,\n",
    "    'kurovskoye': 84.3681700784244,\n",
    "    'kuznetsk': 652.0791300259867,\n",
    "    'rossosh': 631.8948563881265,\n",
    "    'samarskoye': 990.9463636012208,\n",
    "    'usinsk': 1560.1926768575506,\n",
    "    'kanevskaya': 1079.414438120802,\n",
    "    'lyuban': 552.7103608674508,\n",
    "    'dalnegorsk': 6509.488452820776,\n",
    "    'urus-martan': 1513.9438781256622,\n",
    "    'votkinsk': 1018.7575282525304,\n",
    "    'katav-ivanovsk': 1309.0842038516064,\n",
    "    'olginka': 1287.7238993616631,\n",
    "    'yakhroma': 60.64340421625101,\n",
    "    'novokuybyshevsk': 851.6052629828683,\n",
    "    'ishimbay': 1214.0401210017262,\n",
    "    'sosnovoborsk': 3386.3759431879366,\n",
    "    'gudermes': 1506.983332793841,\n",
    "    'labytnangi': 1937.057017992013,\n",
    "    'likino-dulyovo': 84.31241624220513,\n",
    "    'lodeynoye pole': 604.1151265677914,\n",
    "    'syzran': 760.0979681269697,\n",
    "    'belaya kalitva': 870.3865327785855,\n",
    "    'spassk-dalny': 6362.30839868133,\n",
    "    'belorechensk': 1232.6961732990508,\n",
    "    'sarapul': 1008.78232479936,\n",
    "    'raduzhny': 2358.496974772968,\n",
    "    'trudovoye': 1090.3401905593514,\n",
    "    'kinel': 887.7664648811271,\n",
    "    'korkino': 1505.8826336695265,\n",
    "    'kiselyovsk': 3086.31280001039,\n",
    "    'berezovka': 1087.264673590551,\n",
    "    'goryachevodsky': 1360.7786042757737,\n",
    "    'michurinsk': 369.2508261957532,\n",
    "    'bobrovskiy': 322.39759418097685,\n",
    "    'chegem': 1420.378254627167,\n",
    "    'yelizovo': 6772.820421777107,\n",
    "    '53425': 3202.813333769226,\n",
    "    'тимофеевка': 1006.6834116656815,\n",
    "    'ust-labinsk': 1180.6818380079214,\n",
    "    'starokorsunskaya': 1196.1976393224706,\n",
    "    'tarko-sale': 2388.9780271861964,\n",
    "    'kachkanar': 1354.197212226372,\n",
    "    'iskitim': 2858.9099151934147,\n",
    "    'sibay': 1407.2647547506033,\n",
    "    'vlasikha': 2933.2726322389262,\n",
    "    '8756': 10.730176534095364,\n",
    "    'agoi': 1294.7427424182354,\n",
    "    'priozersk': 733.1545071632743,\n",
    "    'bologoye': 321.9803937484453,\n",
    "    'тарасовка': 1491.2541362483853,\n",
    "    'beloyarsky': 1836.5384486488076,\n",
    "    'ust-katav': 1302.724181677159,\n",
    "    'kanash': 622.9255607421362,\n",
    "    'dagestanskie ogni': 1698.208239037858,\n",
    "    'belogorsk': 5631.125637486317,\n",
    "    'labinsk': 1255.8319936717032,\n",
    "    'lyskovo': 465.1306258788371,\n",
    "    'afipsky': 1208.3956944522176,\n",
    "    'starnikovo': 65.1332863630618,\n",
    "    'juravskaia': 1139.1135698400817,\n",
    "    'korenovsk': 1151.523891415271,\n",
    "    'znamenskiy': 1194.8142115320263,\n",
    "    'slavgorod': 2644.610086488067,\n",
    "    'kungur': 1200.4961224183248,\n",
    "    'gadzhiyevo': 1519.9109169685858,\n",
    "    'shchyokino': 194.4698174383533,\n",
    "    'nogliki': 6268.259965863986,\n",
    "    '39404': 3202.813333769226,\n",
    "    'lenina': 1199.0498830456509,\n",
    "    'gaiduk': 1219.513851211696,\n",
    "    '9992': 982.845979460969,\n",
    "    'marks': 751.1509601828144,\n",
    "    'kugesi': 606.0520067073529,\n",
    "    'solikamsk': 1216.98913220201,\n",
    "    'bryukhovetskaya': 1111.082927529371,\n",
    "    'slavyanka': 6428.684709591151,\n",
    "    '24130': 3202.813333769226,\n",
    "    'menzelinsk': 970.9489283044122,\n",
    "    'vysokaya gora': 724.5834162625722,\n",
    "    'vanino': 6362.894335239535,\n",
    "    'malysheva': 1467.3592923926346,\n",
    "    'korzhevskiy': 1171.954752073123,\n",
    "    'troitsk': 1538.140668806304,\n",
    "    'nizhnebakanskaya': 1210.9986252672918,\n",
    "    'plast': 1482.6858068116453,\n",
    "    'gorodishche': 591.2765666147258,\n",
    "    'osinovo': 736.6860205116334,\n",
    "    'zavidovo': 353.2224718264869,\n",
    "    'zarechny': 1465.4555186281548,\n",
    "    'novaya adygeya': 1196.6866369650947,\n",
    "    'kholmsk': 6621.858284986929,\n",
    "    'asha': 1245.1907526999598,\n",
    "    '14076': 3202.813333769226,\n",
    "    'petrovskoye': 385.1673685384485,\n",
    "    'chernyakhovsk': 1012.0952920550218,\n",
    "    'salsk': 1067.2210501046166,\n",
    "    'argayash': 1458.8443906207276,\n",
    "    '13403': 1152.7191232199125,\n",
    "    'bavly': 1006.55370599998,\n",
    "    'beslan': 1482.7229051085862}\n",
    "\n",
    "\n",
    "def get_distance_from_moscow(city: str) -> float:\n",
    "    \"\"\"Возвращает расстояние от города `city` до Москвы в километрах. \n",
    "    Для неизвестных и зарубежных городов возвращает -1.\n",
    "    \"\"\"\n",
    "\n",
    "    return distances_from_moscow.get(str(city).lower(), -1.0)"
   ]
  },
  {
   "cell_type": "code",
   "execution_count": 34,
   "id": "420c3d7c-cc04-413e-9658-c2d130d2685b",
   "metadata": {
    "colab": {
     "base_uri": "https://localhost:8080/"
    },
    "id": "2vtF_r6P1sen",
    "outputId": "491885c9-2d6a-4a7e-d1a2-1e5325b51986"
   },
   "outputs": [
    {
     "name": "stdout",
     "output_type": "stream",
     "text": [
      "X_train.shape = (1460042, 55)\n"
     ]
    }
   ],
   "source": [
    "X_train_preprocessed = preprocessor.fit_transform(X_train)\n",
    "X_valid_preprocessed = preprocessor.transform(X_valid)\n",
    "\n",
    "print(f'X_train.shape = {X_train_preprocessed.shape}')"
   ]
  },
  {
   "cell_type": "markdown",
   "id": "a260a92f-8924-4c21-be3a-590857de7db5",
   "metadata": {
    "id": "-G6lNagZNfgM",
    "tags": []
   },
   "source": [
    "### Выбор метрик  \n",
    "\n",
    "Будем использовать в качестве основной метрики - `roc_auc`. Но также взглянем и на другие метрики: `accuracy`, `precision`, `recall`, `f1`.  \n"
   ]
  },
  {
   "cell_type": "code",
   "execution_count": 35,
   "id": "697ca8a7-e512-4fcf-aae6-b50d8fe9cab5",
   "metadata": {
    "id": "klHCY5FJOgDz"
   },
   "outputs": [],
   "source": [
    "def find_best_threshold(\n",
    "    y_true: pd.Series, \n",
    "    y_proba: pd.Series, \n",
    "    metriс_name: str = 'roc_auc', \n",
    "    iterations: int = 250, \n",
    "    learning_rate: float = 0.05\n",
    ") -> float:\n",
    "    \"\"\"Находит лучший порог перевода вероятностей `y_proba` \n",
    "    в принадлежность к классу 1.\n",
    "    \"\"\"\n",
    "    \n",
    "    # Получение функции метрики, которую оптимизируем\n",
    "    metrics = {'roc_auc': roc_auc_score, 'f1': f1_score, \n",
    "               'precision': precision_score, 'recall': recall_score}\n",
    "    metric_function = metrics.get(metriс_name, accuracy_score)\n",
    "\n",
    "    # Получение метрики\n",
    "    def get_metric(threshold: float) -> float:\n",
    "        prediction = (y_proba > threshold).astype(int)\n",
    "        return metric_function(y_true, prediction)\n",
    "\n",
    "    direction = -1\n",
    "    shift = 0.25\n",
    "\n",
    "    best_threshold = 0.5\n",
    "    best_metric = get_metric(best_threshold)\n",
    "\n",
    "    # На каждой итерации\n",
    "    for i in range(iterations):\n",
    "\n",
    "        # Меняем порог\n",
    "        threshold = best_threshold + direction * shift\n",
    "        shift *= (1 - learning_rate)\n",
    "        metric = get_metric(threshold)\n",
    "\n",
    "        # И проверяем, улучшилась ли метрика\n",
    "        if metric > best_metric: \n",
    "            best_threshold = threshold\n",
    "            best_metric = metric\n",
    "        else: \n",
    "            direction *= -1\n",
    "            \n",
    "    return best_threshold"
   ]
  },
  {
   "cell_type": "code",
   "execution_count": 36,
   "id": "7bfd74bc-a35a-4619-9f09-24e459455ba2",
   "metadata": {
    "id": "Gy9AoqAeowRX"
   },
   "outputs": [],
   "source": [
    "def print_metrics(\n",
    "    model: BaseEstimator, \n",
    "    X: pd.DataFrame, \n",
    "    y: pd.Series, \n",
    "    threshold: Union[float, None] = None, \n",
    "    show_roc_curve: bool = False\n",
    ") -> None:\n",
    "\n",
    "    # Получим предсказания, если возможно в виде вероятностей\n",
    "    try: \n",
    "        probas = model.predict_proba(X)[:, 1]\n",
    "    except AttributeError:\n",
    "        prediction = model.predict(X)\n",
    "        threshold = None\n",
    "        probas = None\n",
    "    else:\n",
    "        threshold = threshold or find_best_threshold(y, probas, 'roc_auc')\n",
    "        prediction = (probas > threshold).astype(int)\n",
    "\n",
    "    # Распечатаем порог перевода вероятностей в классы\n",
    "    if threshold is None:\n",
    "        print(\"Порог перевода вероятностей в классы: не используется\")\n",
    "    else:\n",
    "        print(f\"Порог перевода вероятностей в классы: {threshold}\")\n",
    "        print(f\"{roc_auc_score(y, probas)} - roc_auc на вероятностях\")\n",
    "\n",
    "    # Распечатаем однострочные метрики\n",
    "    print()\n",
    "    print(f\"{roc_auc_score(y, prediction):0.8f} - roc_auc\")\n",
    "    print(f\"{accuracy_score(y, prediction):0.8f} - accuracy\")\n",
    "    print(f\"{precision_score(y, prediction):0.8f} - precision\")\n",
    "    print(f\"{recall_score(y, prediction):0.8f} - recall\")\n",
    "    print(f\"{f1_score(y, prediction):0.8f} - f1\")\n",
    "\n",
    "    # Распечатаем матрицу ошибок\n",
    "    conf_mat = confusion_matrix(y, prediction)\n",
    "    classes = model.classes_\n",
    "    n_classes = len(classes)\n",
    "    print()\n",
    "    print(\"|\".join(f\"{i:^10}\" for i in [\"prediction\"] + list(classes)))\n",
    "    print(f\"{'true label':^10}\" + (\"|\" + \" \" * 10) * n_classes)\n",
    "    print(\"-\" * ((n_classes * 10) + n_classes + 10))\n",
    "    for i in range(n_classes):\n",
    "        print(\"|\".join(f\"{j:>10}\" for j in [classes[i]] + list(conf_mat[i])))\n",
    "\n",
    "    # Отобразим ROC-кривую\n",
    "    if show_roc_curve:\n",
    "        print()\n",
    "        plt.figure(figsize=(7, 4))\n",
    "        if probas is not None:\n",
    "            plt.plot(*roc_curve(y_test, probas)[:2], \n",
    "                     c='r', label='on probability')\n",
    "        plt.plot(*roc_curve(y_test, prediction)[:2], c='b', label='on class')\n",
    "        plt.plot([0, 1], [0, 1], c='y', label='random', linestyle='dashed')\n",
    "        plt.title('Receiver operating characteristic')\n",
    "        plt.xlabel('False Positive Rate')\n",
    "        plt.ylabel('True Positive Rate')\n",
    "        plt.legend()\n",
    "        plt.show()"
   ]
  },
  {
   "cell_type": "markdown",
   "id": "4d0e8fa6-2e14-4b19-a47d-dad05e838935",
   "metadata": {
    "id": "Fm7hN89g4g4_",
    "tags": []
   },
   "source": [
    "### Базовая модель  \n",
    "\n",
    "Так как целевая переменная распределена не равномерно, то в качестве бейзлайна можно выбрать стратегию, которая для каждой сессии предсказывает значение 0.  \n"
   ]
  },
  {
   "cell_type": "code",
   "execution_count": 37,
   "id": "59101a7e-1a0e-4e69-a993-166d061131be",
   "metadata": {
    "colab": {
     "base_uri": "https://localhost:8080/"
    },
    "id": "MoTDCM7V4FUm",
    "outputId": "9e083a1b-b379-488e-c3f4-f51f4451742a"
   },
   "outputs": [
    {
     "name": "stdout",
     "output_type": "stream",
     "text": [
      "Порог перевода вероятностей в классы: 0.5\n",
      "0.5 - roc_auc на вероятностях\n",
      "\n",
      "0.50000000 - roc_auc\n",
      "0.97295000 - accuracy\n",
      "0.00000000 - precision\n",
      "0.00000000 - recall\n",
      "0.00000000 - f1\n",
      "\n",
      "prediction|   0.0    |   1.0    \n",
      "true label|          |          \n",
      "--------------------------------\n",
      "       0.0|    194590|         0\n",
      "       1.0|      5410|         0\n"
     ]
    }
   ],
   "source": [
    "# Обучим базовую модель \n",
    "baseline = DummyClassifier(strategy='constant', constant=0)\n",
    "baseline.fit(X_train_preprocessed, y_train)\n",
    "\n",
    "# И получим её метрики\n",
    "print_metrics(baseline, X_valid_preprocessed, y_valid, 0.5)"
   ]
  },
  {
   "cell_type": "markdown",
   "id": "66b4b78d-7419-4ce2-9430-e373a4945d3a",
   "metadata": {
    "id": "PWvFBh-uZo0b",
    "tags": []
   },
   "source": [
    "### Выбор модели  \n",
    "\n",
    "Обучим несколько моделей, которые нам известны и выберем лучшую, которую уже будем оптимизировать."
   ]
  },
  {
   "cell_type": "markdown",
   "id": "24c0100b-1214-410c-9109-a3d3acbef360",
   "metadata": {
    "id": "mx3teaVL1vJH",
    "tags": []
   },
   "source": [
    "#### Логистическая регрессия"
   ]
  },
  {
   "cell_type": "code",
   "execution_count": 38,
   "id": "8cdadecb-45b6-4a41-9f94-4529d60834b3",
   "metadata": {
    "id": "MQN5cdrGBsAl"
   },
   "outputs": [],
   "source": [
    "logreg = LogisticRegression(random_state=RANDOM_SEED)"
   ]
  },
  {
   "cell_type": "code",
   "execution_count": 39,
   "id": "f7ec62f2-66a7-42bd-83bd-553b84db050b",
   "metadata": {
    "colab": {
     "base_uri": "https://localhost:8080/"
    },
    "id": "HmSC_wnWt7CO",
    "outputId": "d22897ac-3f5f-47ab-ad03-6b22e0f09a02"
   },
   "outputs": [
    {
     "name": "stdout",
     "output_type": "stream",
     "text": [
      "CPU times: total: 42.7 s\n",
      "Wall time: 11.1 s\n"
     ]
    }
   ],
   "source": [
    "%%time\n",
    "logreg.fit(X_train_preprocessed, y_train);"
   ]
  },
  {
   "cell_type": "code",
   "execution_count": 40,
   "id": "f11f2105-1b54-42bf-bbf3-5149968a6cc4",
   "metadata": {
    "colab": {
     "base_uri": "https://localhost:8080/"
    },
    "id": "TwU_sjsouHq4",
    "outputId": "795b7551-fcba-4c81-b120-dacde071370f"
   },
   "outputs": [
    {
     "name": "stdout",
     "output_type": "stream",
     "text": [
      "Порог перевода вероятностей в классы: 0.5\n",
      "0.6683122284030721 - roc_auc на вероятностях\n",
      "\n",
      "0.50000000 - roc_auc\n",
      "0.97295000 - accuracy\n",
      "0.00000000 - precision\n",
      "0.00000000 - recall\n",
      "0.00000000 - f1\n",
      "\n",
      "prediction|   0.0    |   1.0    \n",
      "true label|          |          \n",
      "--------------------------------\n",
      "       0.0|    194590|         0\n",
      "       1.0|      5410|         0\n"
     ]
    }
   ],
   "source": [
    "print_metrics(logreg, X_valid_preprocessed, y_valid)"
   ]
  },
  {
   "cell_type": "code",
   "execution_count": 41,
   "id": "aaa2b7ed-ea03-4bea-97e1-b544ce3fecd2",
   "metadata": {},
   "outputs": [],
   "source": [
    "# Логистическая регрессия проходит roc_auc"
   ]
  },
  {
   "cell_type": "markdown",
   "id": "9ddf2776-ac48-426d-b585-d189388af7da",
   "metadata": {
    "tags": []
   },
   "source": [
    "#### Метод опорных векторов"
   ]
  },
  {
   "cell_type": "code",
   "execution_count": 42,
   "id": "6cedeea3-d504-40d1-9add-14f05218d059",
   "metadata": {
    "id": "FIH3-eifJ3Ik"
   },
   "outputs": [],
   "source": [
    "svc = LinearSVC(class_weight='balanced')\n"
   ]
  },
  {
   "cell_type": "code",
   "execution_count": 43,
   "id": "19e43dd3-45f8-46ea-8f6c-a598ab268140",
   "metadata": {
    "colab": {
     "base_uri": "https://localhost:8080/"
    },
    "id": "rOSy-TIcJ3EE",
    "outputId": "a7249970-0541-43b1-fc57-4195235ab6f1"
   },
   "outputs": [
    {
     "name": "stdout",
     "output_type": "stream",
     "text": [
      "CPU times: total: 9min 35s\n",
      "Wall time: 9min 37s\n"
     ]
    }
   ],
   "source": [
    "%%time\n",
    "svc.fit(X_train_preprocessed, y_train);"
   ]
  },
  {
   "cell_type": "code",
   "execution_count": 44,
   "id": "bffcdb8e-1111-4ded-8f59-1bd183181c7f",
   "metadata": {
    "colab": {
     "base_uri": "https://localhost:8080/"
    },
    "id": "3MM_qupCKUuU",
    "outputId": "2ded8b17-c265-44fa-f036-03b86b7ec8b1"
   },
   "outputs": [
    {
     "name": "stdout",
     "output_type": "stream",
     "text": [
      "Порог перевода вероятностей в классы: не используется\n",
      "\n",
      "0.62028562 - roc_auc\n",
      "0.61587000 - accuracy\n",
      "0.04324746 - precision\n",
      "0.62495379 - recall\n",
      "0.08089678 - f1\n",
      "\n",
      "prediction|   0.0    |   1.0    \n",
      "true label|          |          \n",
      "--------------------------------\n",
      "       0.0|    119793|     74797\n",
      "       1.0|      2029|      3381\n"
     ]
    }
   ],
   "source": [
    "print_metrics(svc, X_valid_preprocessed, y_valid)"
   ]
  },
  {
   "cell_type": "code",
   "execution_count": 45,
   "id": "474ae914-24c7-489a-adfd-dd1b42eb636b",
   "metadata": {},
   "outputs": [],
   "source": [
    "# Метод опорных векторов не проходит roc_auc"
   ]
  },
  {
   "cell_type": "markdown",
   "id": "9a2bbeb2-8fb6-4767-bc70-72c2b8390537",
   "metadata": {
    "id": "Z8jQU-SKCPXh",
    "tags": []
   },
   "source": [
    "#### Многослойный персептрон"
   ]
  },
  {
   "cell_type": "code",
   "execution_count": 46,
   "id": "57380d52-ad8c-468f-92d5-4cb63f170c69",
   "metadata": {
    "id": "I1CuFrrmCOaX"
   },
   "outputs": [],
   "source": [
    "mlp = MLPClassifier((32,), random_state=RANDOM_SEED)"
   ]
  },
  {
   "cell_type": "code",
   "execution_count": 47,
   "id": "961e9bd4-a00d-44a3-a65b-77ebb3929fb9",
   "metadata": {
    "colab": {
     "base_uri": "https://localhost:8080/"
    },
    "id": "tGqKzgskCOa3",
    "outputId": "c2f3a0be-79f6-4d38-df54-7b8a473a3ff7"
   },
   "outputs": [
    {
     "name": "stdout",
     "output_type": "stream",
     "text": [
      "CPU times: total: 5min 6s\n",
      "Wall time: 1min 20s\n"
     ]
    }
   ],
   "source": [
    "%%time\n",
    "mlp.fit(X_train_preprocessed, y_train);"
   ]
  },
  {
   "cell_type": "code",
   "execution_count": 48,
   "id": "046583f3-cd6d-41c5-802c-75110c83813f",
   "metadata": {
    "colab": {
     "base_uri": "https://localhost:8080/"
    },
    "id": "GWrCizlgCOa4",
    "outputId": "1f9249a7-7436-4fb1-b1d8-b9419b75e01c"
   },
   "outputs": [
    {
     "name": "stdout",
     "output_type": "stream",
     "text": [
      "Порог перевода вероятностей в классы: 0.5\n",
      "0.6982130825521674 - roc_auc на вероятностях\n",
      "\n",
      "0.50000000 - roc_auc\n",
      "0.97295000 - accuracy\n",
      "0.00000000 - precision\n",
      "0.00000000 - recall\n",
      "0.00000000 - f1\n",
      "\n",
      "prediction|   0.0    |   1.0    \n",
      "true label|          |          \n",
      "--------------------------------\n",
      "       0.0|    194590|         0\n",
      "       1.0|      5410|         0\n"
     ]
    }
   ],
   "source": [
    "print_metrics(mlp, X_valid_preprocessed, y_valid)"
   ]
  },
  {
   "cell_type": "code",
   "execution_count": 49,
   "id": "2a231c05-b520-4d70-bb6a-f5947fceb26a",
   "metadata": {},
   "outputs": [],
   "source": [
    "# Многослойный персептрон проходит roc_auc"
   ]
  },
  {
   "cell_type": "markdown",
   "id": "19ee19af-db67-4d9d-a245-d5c95c164796",
   "metadata": {
    "id": "ND_qC0SnPczC",
    "tags": []
   },
   "source": [
    "#### Случайный лес"
   ]
  },
  {
   "cell_type": "code",
   "execution_count": 50,
   "id": "965d6c4e-357d-4127-9cf5-715e945dba21",
   "metadata": {
    "id": "Ohu0p_RCPgUd"
   },
   "outputs": [],
   "source": [
    "forest = RandomForestClassifier(random_state=RANDOM_SEED)"
   ]
  },
  {
   "cell_type": "code",
   "execution_count": 51,
   "id": "000a8a8e-26dc-465b-8c43-7f3c1b7a94e3",
   "metadata": {
    "colab": {
     "base_uri": "https://localhost:8080/"
    },
    "id": "X_NwrOzUPgQT",
    "outputId": "79c8b478-f712-4133-de0a-f52b5de26bf2"
   },
   "outputs": [
    {
     "name": "stdout",
     "output_type": "stream",
     "text": [
      "CPU times: total: 5min 16s\n",
      "Wall time: 5min 17s\n"
     ]
    }
   ],
   "source": [
    "%%time\n",
    "forest.fit(X_train_preprocessed, y_train);"
   ]
  },
  {
   "cell_type": "code",
   "execution_count": 52,
   "id": "abb3a780-67a3-4a2a-8f9c-98668575ecbc",
   "metadata": {
    "colab": {
     "base_uri": "https://localhost:8080/"
    },
    "id": "MbvfSLq2PdKb",
    "outputId": "089b21ed-6c37-4138-c6a4-fd6583be1973",
    "scrolled": true
   },
   "outputs": [
    {
     "name": "stdout",
     "output_type": "stream",
     "text": [
      "Порог перевода вероятностей в классы: 0.010218123817113232\n",
      "0.6253519433580381 - roc_auc на вероятностях\n",
      "\n",
      "0.59594638 - roc_auc\n",
      "0.59998000 - accuracy\n",
      "0.03952047 - precision\n",
      "0.59168207 - recall\n",
      "0.07409208 - f1\n",
      "\n",
      "prediction|   0.0    |   1.0    \n",
      "true label|          |          \n",
      "--------------------------------\n",
      "       0.0|    116795|     77795\n",
      "       1.0|      2209|      3201\n"
     ]
    }
   ],
   "source": [
    "print_metrics(forest, X_valid_preprocessed, y_valid)"
   ]
  },
  {
   "cell_type": "code",
   "execution_count": 53,
   "id": "2f14e62e-c5a0-4835-9ba5-84b1aaac5f01",
   "metadata": {},
   "outputs": [],
   "source": [
    "# Случайный лес не проходит roc_auc"
   ]
  },
  {
   "cell_type": "markdown",
   "id": "56f652ab-54c5-45ba-a72c-e85fdcefbd42",
   "metadata": {
    "id": "UqnvrGRY7wWC",
    "tags": []
   },
   "source": [
    "### Оптимизация модели  \n",
    "\n",
    "Лучшей моделью является MLPClassifier по следующим причинам:\n",
    "+ Один из лучших показателей `roc_auc`.\n",
    "+ Быстрое обучение. \n",
    "+ Модель интерпретируема, то есть можно получить показатели важности признаков.\n",
    "\n",
    "Оптимизация модели и конвейера по подготовке данных проводится с помощью байесовской оптимизации. При разных гиперпараметрах модель обучается на тренировочных данных, а оценивается на валидационных."
   ]
  },
  {
   "cell_type": "code",
   "execution_count": 54,
   "id": "d229b860-3fbd-4fbe-8a6d-2d166f2d5080",
   "metadata": {
    "id": "r9DJbmb5m26A"
   },
   "outputs": [
    {
     "name": "stdout",
     "output_type": "stream",
     "text": [
      "Iteration 1, loss = 0.12050511\n",
      "Validation score: 0.972953\n",
      "Iteration 2, loss = 0.11857216\n",
      "Validation score: 0.972953\n",
      "Iteration 3, loss = 0.11811853\n",
      "Validation score: 0.972953\n",
      "Iteration 4, loss = 0.11786109\n",
      "Validation score: 0.972953\n",
      "Iteration 5, loss = 0.11764496\n",
      "Validation score: 0.972953\n",
      "Iteration 6, loss = 0.11748358\n",
      "Validation score: 0.972953\n",
      "Iteration 7, loss = 0.11735609\n",
      "Validation score: 0.972953\n",
      "Iteration 8, loss = 0.11727137\n",
      "Validation score: 0.972953\n",
      "Iteration 9, loss = 0.11717053\n",
      "Validation score: 0.972946\n",
      "Iteration 10, loss = 0.11710842\n",
      "Validation score: 0.972946\n",
      "Iteration 11, loss = 0.11700463\n",
      "Validation score: 0.972953\n",
      "Iteration 12, loss = 0.11688827\n",
      "Validation score: 0.972953\n",
      "Validation score did not improve more than tol=0.000100 for 10 consecutive epochs. Stopping.\n"
     ]
    },
    {
     "ename": "SyntaxError",
     "evalue": "'return' outside function (3330711562.py, line 28)",
     "output_type": "error",
     "traceback": [
      "\u001b[1;36m  Cell \u001b[1;32mIn[54], line 28\u001b[1;36m\u001b[0m\n\u001b[1;33m    return roc_auc_score(y_valid, prediction)\u001b[0m\n\u001b[1;37m    ^\u001b[0m\n\u001b[1;31mSyntaxError\u001b[0m\u001b[1;31m:\u001b[0m 'return' outside function\n"
     ]
    }
   ],
   "source": [
    "    # Создадим конвейер с заданными гиперпараметрами\n",
    "    model = Pipeline(steps=[\n",
    "        # Создание дополнительных признаков\n",
    "        ('indexer', FunctionTransformer(set_index)), \n",
    "        ('imputer', FunctionTransformer(fill_missings)), \n",
    "        ('engineer', FunctionTransformer(create_features)), \n",
    "        ('dropper', DropFeatures(['client_id', 'visit_date', 'visit_time', \n",
    "                                  'device_screen_resolution'])), \n",
    "        # Преобразования численных переменных\n",
    "        ('normalization', YeoJohnsonTransformer()), \n",
    "        ('outlier_remover', Winsorizer()), \n",
    "        ('scaler', SklearnTransformerWrapper(StandardScaler())), \n",
    "        # Преобразования категориальных признаков\n",
    "        ('rare_encoder', RareLabelEncoder(replace_with='rare')),\n",
    "        ('onehot_encoder', OneHotEncoder(drop_last_binary=True)), \n",
    "        ('bool_converter', FunctionTransformer(converse_types)), \n",
    "        # Удаление дубликатов и коррелируемых признаков\n",
    "        ('constant_dropper', DropConstantFeatures()), \n",
    "        ('duplicated_dropper', DropDuplicateFeatures()), \n",
    "        ('correlated_dropper', DropCorrelatedFeatures()), \n",
    "        # Лучшая модель с оптимизированными гиперпараметрами\n",
    "        ('model', MLPClassifier( \n",
    "            random_state=RANDOM_SEED, batch_size=256, verbose=True, early_stopping=True))])\n",
    "    \n",
    "    # Обучим и оценим модель\n",
    "    model.fit(X_train, y_train)\n",
    "    prediction = model.predict_proba(X_valid)[:, 1]\n",
    "    return roc_auc_score(y_valid, prediction)"
   ]
  },
  {
   "cell_type": "code",
   "execution_count": null,
   "id": "1f97018a-2759-436a-b588-0d673025de35",
   "metadata": {},
   "outputs": [],
   "source": [
    "X_train"
   ]
  },
  {
   "cell_type": "code",
   "execution_count": null,
   "id": "f9d7999c-7aa0-4765-8d10-38a5b81c22b4",
   "metadata": {},
   "outputs": [],
   "source": [
    "y"
   ]
  },
  {
   "cell_type": "markdown",
   "id": "79d332e9-611f-477f-803e-d048cfec4620",
   "metadata": {
    "id": "n-mXUuF72-6z",
    "tags": []
   },
   "source": [
    "## Оценка модели"
   ]
  },
  {
   "cell_type": "code",
   "execution_count": null,
   "id": "dfda30a4-d290-44fb-b6fe-489f11c4149b",
   "metadata": {
    "id": "JWVR-muRJ77Y"
   },
   "outputs": [],
   "source": [
    "final_pipeline = Pipeline(steps=[\n",
    "\n",
    "    # Создание дополнительных признаков и\n",
    "    # Приведение датафрейма к удобному виду \n",
    "    ('indexer', FunctionTransformer(set_index)), \n",
    "    ('imputer', FunctionTransformer(fill_missings)), \n",
    "    ('engineer', FunctionTransformer(create_features)), \n",
    "    ('dropper', DropFeatures(['client_id', 'visit_date', 'visit_time', \n",
    "                              'device_screen_resolution'])), \n",
    "\n",
    "    # Преобразования численных переменных\n",
    "    ('normalization', YeoJohnsonTransformer()), \n",
    "    ('outlier_remover', Winsorizer()), \n",
    "    ('scaler', SklearnTransformerWrapper(StandardScaler())), \n",
    "\n",
    "    # Преобразования категориальных признаков\n",
    "    ('rare_encoder', RareLabelEncoder(tol=0.047319, replace_with='rare')),\n",
    "    ('onehot_encoder', OneHotEncoder(drop_last_binary=True)), \n",
    "    ('bool_converter', FunctionTransformer(converse_types)), \n",
    "\n",
    "    # Удаление дубликатов и коррелируемых признаков\n",
    "    ('constant_dropper', DropConstantFeatures(tol=0.95579)), \n",
    "    ('duplicated_dropper', DropDuplicateFeatures()), \n",
    "    ('correlated_dropper', DropCorrelatedFeatures(threshold=0.8856)), \n",
    "\n",
    "    # Лучшая модель с оптимизированными гиперпараметрами\n",
    "    ('model', MLPClassifier(random_state=RANDOM_SEED, batch_size=256, verbose=True, early_stopping=True)),])"
   ]
  },
  {
   "cell_type": "markdown",
   "id": "1ad9c36e-1fd3-4426-ab0a-f66d0f1914c3",
   "metadata": {
    "id": "oafZ3oICgABQ",
    "tags": []
   },
   "source": [
    "### Метрики модели\n",
    "\n",
    "Для оценки метрик модели обучим её на объектах тренировочной и валидационной выборках и сделаем предсказания на тестовых данных. \n",
    "\n",
    "Целевая метрика `roc-auc=0.6998` (для пресказанных классов) выбранной модели превосходит 0.65, а значит, цель работы выполнена.\n"
   ]
  },
  {
   "cell_type": "code",
   "execution_count": null,
   "id": "071b3339-d772-4929-baec-37c4261877d2",
   "metadata": {
    "id": "5PrafZ4L3Xnj"
   },
   "outputs": [],
   "source": [
    "final_pipeline.fit(X, y);"
   ]
  },
  {
   "cell_type": "code",
   "execution_count": null,
   "id": "35458768-29bb-492c-86d7-f3bae30d83b2",
   "metadata": {
    "colab": {
     "base_uri": "https://localhost:8080/"
    },
    "id": "Y3sbdVdEUgw0",
    "outputId": "bc65ace9-343b-4068-de62-f59b1de969c1"
   },
   "outputs": [],
   "source": [
    "test_proba = final_pipeline.predict_proba(X_test)[:, 1]\n",
    "best_threshold = find_best_threshold(y_test, test_proba)\n",
    "test_prediction = (test_proba > best_threshold).astype(int)\n",
    "\n",
    "print(f'Лучший порог перевода вероятностей в класс: {best_threshold}')"
   ]
  },
  {
   "cell_type": "code",
   "execution_count": null,
   "id": "bf65fafe-9126-482c-a441-9eff93e34ff2",
   "metadata": {
    "colab": {
     "base_uri": "https://localhost:8080/"
    },
    "id": "OMPFEzUXUgtP",
    "outputId": "4607bd5c-4aaf-41a3-e2d9-eb5f1f79eaeb"
   },
   "outputs": [],
   "source": [
    "print(f'Метрики лучшей модели на обучающей выборке:')\n",
    "print_metrics(final_pipeline, X, y, best_threshold)"
   ]
  },
  {
   "cell_type": "code",
   "execution_count": null,
   "id": "cb409464-2680-42c1-b7bd-5d785fe66387",
   "metadata": {
    "colab": {
     "base_uri": "https://localhost:8080/",
     "height": 589
    },
    "id": "QoGbh-kvJ5rI",
    "outputId": "06bda910-e7b9-4eb5-bb2d-426d8125927f"
   },
   "outputs": [],
   "source": [
    "print(f'Метрики лучшей модели на тестовой выборке:')\n",
    "print_metrics(\n",
    "    final_pipeline, X_test, y_test, best_threshold, show_roc_curve=True)"
   ]
  },
  {
   "cell_type": "markdown",
   "id": "aee5076d-756e-42fa-a4e5-e42f604131a2",
   "metadata": {
    "id": "rmqEm1P2nT94",
    "tags": []
   },
   "source": [
    "### Обучение на всех данных\n",
    "\n",
    "Для анализа обработки данных и важности признаков разобъём финальный конвейер на препроцессор и модель и обучим их на всех данных. А перед сохранением модели объединим обратно."
   ]
  },
  {
   "cell_type": "code",
   "execution_count": null,
   "id": "80eb6add-d351-492f-b820-722a1b6138e2",
   "metadata": {
    "id": "40ri9TC6MbLJ"
   },
   "outputs": [],
   "source": [
    "final_model = final_pipeline.named_steps['model']\n",
    "final_preprocessor = final_pipeline.set_params(model=None)"
   ]
  },
  {
   "cell_type": "code",
   "execution_count": null,
   "id": "3661db53-0665-4131-9e9b-091601da5446",
   "metadata": {
    "id": "Zb-xUv8GzPtR"
   },
   "outputs": [],
   "source": [
    "sessions_preprocessed = final_preprocessor.fit_transform(sessions)"
   ]
  },
  {
   "cell_type": "code",
   "execution_count": null,
   "id": "c88b35d4-9cfd-46b8-a5e6-bcff6f745140",
   "metadata": {
    "id": "-kdJDViDVV6B"
   },
   "outputs": [],
   "source": [
    "final_model.fit(sessions_preprocessed, target);"
   ]
  },
  {
   "cell_type": "markdown",
   "id": "f2453418-a984-4876-b08b-d51e4a21e630",
   "metadata": {
    "id": "nAkkyr8O4wjG",
    "tags": []
   },
   "source": [
    "### Анализ обработки данных\n",
    "\n",
    "В итоге всех преобразований получается 62 признака, при том, что ещё 16 признаков были удалены из-за корреляций и т.п..\n",
    "\n",
    "Датасет имеет 176667 дубликатов, но как показали эксперименты, удаление дубликатов из тренировочной выборки ведёт к небольшому ухудшению метрик. \n",
    "\n",
    "Признаков, коррелируемых с целевой переменной, нет."
   ]
  },
  {
   "cell_type": "code",
   "execution_count": null,
   "id": "b5b13f86-110d-40ae-a553-d67b78b97922",
   "metadata": {
    "colab": {
     "base_uri": "https://localhost:8080/",
     "height": 319
    },
    "id": "O08IthBdYwd2",
    "outputId": "28a29ed1-06c0-441b-e5d0-c254e372a2f6"
   },
   "outputs": [],
   "source": [
    "sessions_preprocessed.shape"
   ]
  },
  {
   "cell_type": "code",
   "execution_count": null,
   "id": "6d544cd4-40f7-429f-a84f-97c427d1a7bc",
   "metadata": {
    "colab": {
     "base_uri": "https://localhost:8080/"
    },
    "id": "5SWe0lAcbtwE",
    "outputId": "766f231b-d80e-4239-ccd6-5dbb824f3cc7"
   },
   "outputs": [],
   "source": [
    "sessions_preprocessed.info()"
   ]
  },
  {
   "cell_type": "code",
   "execution_count": null,
   "id": "cb1c9191-a0b4-4aa6-b8b1-9066c8a01932",
   "metadata": {
    "colab": {
     "base_uri": "https://localhost:8080/"
    },
    "id": "ENj_Uf0YzbOl",
    "outputId": "f1eb2712-0b39-4b53-be2a-e71e4890b823"
   },
   "outputs": [],
   "source": [
    "print('Количество дубликатов:', sessions_preprocessed.duplicated().sum())"
   ]
  },
  {
   "cell_type": "code",
   "execution_count": null,
   "id": "1f90dfb3-dfb9-4833-9128-f109f96c0e79",
   "metadata": {
    "colab": {
     "base_uri": "https://localhost:8080/"
    },
    "id": "f2yUUnezly5y",
    "outputId": "3d868753-ff6c-4bff-a229-6903cb26ce07"
   },
   "outputs": [],
   "source": [
    "print('Корреляция с целевой переменной:')\n",
    "correlation = pd.concat([sessions_preprocessed, target], axis=1).corr()\n",
    "correlation['target'].sort_values(ascending=False, key=abs).head(5)"
   ]
  },
  {
   "cell_type": "markdown",
   "id": "607c5685-2046-492e-a12e-c33202598cb7",
   "metadata": {
    "id": "pCDZ_HVmgDaJ",
    "tags": []
   },
   "source": [
    "### Важность признаков\n",
    "\n",
    "Самыми важными признаками после преобразования оказались численные переменные: день (месяца и недели), час, минута (скорее всего именно нулевая минута часа) и номер посещения, размеры экрана и расстояние до Москвы.\n",
    "\n",
    "После этих признаков важность остальных сильно падает. Возможно такова особенность работы с категориальными признаками (особенно с большим количеством неравномерно распределенных уникальных значений).\n",
    "\n",
    "Самыми важными исходными признаками окзаались: размеры экрана, дата, время и номер посещения, город пользователя, а также признаки с дополнительными данными (как индикатор органического трафика). "
   ]
  },
  {
   "cell_type": "code",
   "execution_count": null,
   "id": "b5a531b7-3590-4c58-8550-a5b41b81fcc5",
   "metadata": {
    "colab": {
     "base_uri": "https://localhost:8080/"
    },
    "id": "YL5n0vtek5-h",
    "outputId": "df021af6-99c0-4b38-87a9-76d4b78be43a"
   },
   "outputs": [],
   "source": [
    "print('Признаки, удалённые во время feature selection\\n')\n",
    "all = 0\n",
    "\n",
    "for step in ('constant_dropper', 'duplicated_dropper', 'correlated_dropper'):\n",
    "    print(step + ':')\n",
    "    for column in final_preprocessor.named_steps[step].features_to_drop_:\n",
    "        print(f'\\t{column}')\n",
    "        all += 1\n",
    "\n",
    "print(f'Всего удалено: {all}')"
   ]
  },
  {
   "cell_type": "markdown",
   "id": "caf6e11f-32dd-402c-a10d-346bfd54bba0",
   "metadata": {
    "id": "SD8WsuyWgHfD",
    "tags": []
   },
   "source": [
    "### Сохранение модели"
   ]
  },
  {
   "cell_type": "code",
   "execution_count": null,
   "id": "fe92d155-cb94-4eb6-b8c6-0f977e742f6f",
   "metadata": {
    "id": "XiidXrOEY8bU"
   },
   "outputs": [],
   "source": [
    "# Объединим препроцессор и модель обратно\n",
    "\n",
    "final_pipeline = final_preprocessor.set_params(model=final_model)"
   ]
  },
  {
   "cell_type": "code",
   "execution_count": null,
   "id": "f32d4805-27d6-4127-9735-600928899e0c",
   "metadata": {
    "id": "OAGb1h73XpXq"
   },
   "outputs": [],
   "source": [
    "# Добавим метаданные для модели\n",
    "\n",
    "metadata = {\n",
    "    'name': 'SberAutopodpiska: target event prediction', \n",
    "    'descripton': ('Модель по предсказанию совершения пользователем одного из '\n",
    "                   'целевых действий \"Заказать звонок\" или \"Оставить заявку\" '\n",
    "                   'на сайте сервиса СберАвтоподписка.'), \n",
    "    'model_type': final_model.__class__.__name__, \n",
    "    'version': 1.0, \n",
    "    'training_datetime': datetime.now(), \n",
    "    'author': 'Igor Putsenko', \n",
    "    'threshold': best_threshold, \n",
    "    'metrics': {\n",
    "        'roc_auc': roc_auc_score(y_test, test_proba), \n",
    "        'roc_auc_by_class': roc_auc_score(y_test, test_prediction),\n",
    "        'accuracy': accuracy_score(y_test, test_prediction), \n",
    "        'precision': precision_score(y_test, test_prediction), \n",
    "        'recall': recall_score(y_test, test_prediction), \n",
    "        'f1': f1_score(y_test, test_prediction),\n",
    "    }\n",
    "}\n",
    "\n",
    "final_pipeline.metadata = metadata"
   ]
  },
  {
   "cell_type": "code",
   "execution_count": null,
   "id": "4df262ee-b770-42e6-b038-ba2a5c7b38c3",
   "metadata": {
    "id": "y_UVM_E4XeSH"
   },
   "outputs": [],
   "source": [
    "# Сохраним модель\n",
    "\n",
    "models_folder.mkdir(exist_ok=True)\n",
    "filename = f'model_{datetime.now():%Y%m%d%H%M%S}.pkl'\n",
    "\n",
    "with open(models_folder / filename, 'wb') as file:\n",
    "    dill.dump(final_pipeline, file)"
   ]
  },
  {
   "cell_type": "markdown",
   "id": "0bb39fad-d0da-41be-9105-f20ee93dc2b1",
   "metadata": {
    "id": "YuL-rxUw4JmK"
   },
   "source": [
    "## Выводы"
   ]
  },
  {
   "cell_type": "markdown",
   "id": "768b39bc-e7fe-4b36-b22d-c4da4e389eb2",
   "metadata": {
    "id": "Cq2Ps1_Ymsw4"
   },
   "source": [
    "Для преобразования входных данных, со структурой как в файле `ga_sessions.csv`, в удобный для предсказания вид понадобилось четыре этапа:\n",
    "1. Заполнение пропусков и генерация признаков. В том числе добавление новых данных, как-то органический трафик или расстояние до Москвы (ох и не просто это было).\n",
    "2. Преобразование численных переменных: нормализация и удаление выбросов.\n",
    "3. Преобразование категориальных признаков. Основная сложность с ними была в многообразии редких уникальных значений. В итоге только самые популярные значения были закодированы методом one-hot.\n",
    "4. Удаление дублирующих и коррелируемых признаков. Признаки могут коррелировать до 0.95, но именно с таким порогом финальная модель даёт лучший результат.\n",
    "\n",
    "В итоге в качестве лучшей модели был выбран `MLPClassifier` по следующим причинам: \n",
    "+ Один из лучших показателей `roc_auc`.\n",
    "+ Быстрое обучение. \n",
    "+ Может предсказывать вероятность класса.\n",
    "\n",
    "Качество модели по метрике `roc-auc` составляет **0.698**, на тестовой выборке 0.68, правда, на финальном обучении модели она несколько снизилась, и составила **0.698** .Тем не менее, переобучения нет и цель проекта выполнена - `roc-auc` > 0.65."
   ]
  },
  {
   "cell_type": "code",
   "execution_count": null,
   "id": "12f55320",
   "metadata": {},
   "outputs": [],
   "source": []
  },
  {
   "cell_type": "code",
   "execution_count": null,
   "id": "d6d2f08d",
   "metadata": {},
   "outputs": [],
   "source": []
  },
  {
   "cell_type": "code",
   "execution_count": null,
   "id": "b82e22ef",
   "metadata": {},
   "outputs": [],
   "source": []
  }
 ],
 "metadata": {
  "kernelspec": {
   "display_name": "Python 3 (ipykernel)",
   "language": "python",
   "name": "python3"
  },
  "language_info": {
   "codemirror_mode": {
    "name": "ipython",
    "version": 3
   },
   "file_extension": ".py",
   "mimetype": "text/x-python",
   "name": "python",
   "nbconvert_exporter": "python",
   "pygments_lexer": "ipython3",
   "version": "3.11.5"
  }
 },
 "nbformat": 4,
 "nbformat_minor": 5
}
