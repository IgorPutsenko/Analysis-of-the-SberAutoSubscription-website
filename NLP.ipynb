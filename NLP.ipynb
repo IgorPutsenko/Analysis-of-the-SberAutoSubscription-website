{
  "nbformat": 4,
  "nbformat_minor": 0,
  "metadata": {
    "colab": {
      "provenance": [],
      "gpuType": "T4",
      "include_colab_link": true
    },
    "kernelspec": {
      "name": "python3",
      "display_name": "Python 3"
    },
    "language_info": {
      "name": "python"
    },
    "accelerator": "GPU"
  },
  "cells": [
    {
      "cell_type": "markdown",
      "metadata": {
        "id": "view-in-github",
        "colab_type": "text"
      },
      "source": [
        "<a href=\"https://colab.research.google.com/github/IgorPutsenko/Data-Science-Pro/blob/main/NLP.ipynb\" target=\"_parent\"><img src=\"https://colab.research.google.com/assets/colab-badge.svg\" alt=\"Open In Colab\"/></a>"
      ]
    },
    {
      "cell_type": "code",
      "execution_count": 1,
      "metadata": {
        "colab": {
          "base_uri": "https://localhost:8080/"
        },
        "id": "ihy2oQefqfr7",
        "outputId": "bb49b5ee-5422-4415-d02b-071c1d1ff22b"
      },
      "outputs": [
        {
          "output_type": "stream",
          "name": "stdout",
          "text": [
            "Requirement already satisfied: kaggle in /usr/local/lib/python3.10/dist-packages (1.6.17)\n",
            "Requirement already satisfied: six>=1.10 in /usr/local/lib/python3.10/dist-packages (from kaggle) (1.17.0)\n",
            "Requirement already satisfied: certifi>=2023.7.22 in /usr/local/lib/python3.10/dist-packages (from kaggle) (2024.12.14)\n",
            "Requirement already satisfied: python-dateutil in /usr/local/lib/python3.10/dist-packages (from kaggle) (2.8.2)\n",
            "Requirement already satisfied: requests in /usr/local/lib/python3.10/dist-packages (from kaggle) (2.32.3)\n",
            "Requirement already satisfied: tqdm in /usr/local/lib/python3.10/dist-packages (from kaggle) (4.67.1)\n",
            "Requirement already satisfied: python-slugify in /usr/local/lib/python3.10/dist-packages (from kaggle) (8.0.4)\n",
            "Requirement already satisfied: urllib3 in /usr/local/lib/python3.10/dist-packages (from kaggle) (2.2.3)\n",
            "Requirement already satisfied: bleach in /usr/local/lib/python3.10/dist-packages (from kaggle) (6.2.0)\n",
            "Requirement already satisfied: webencodings in /usr/local/lib/python3.10/dist-packages (from bleach->kaggle) (0.5.1)\n",
            "Requirement already satisfied: text-unidecode>=1.3 in /usr/local/lib/python3.10/dist-packages (from python-slugify->kaggle) (1.3)\n",
            "Requirement already satisfied: charset-normalizer<4,>=2 in /usr/local/lib/python3.10/dist-packages (from requests->kaggle) (3.4.0)\n",
            "Requirement already satisfied: idna<4,>=2.5 in /usr/local/lib/python3.10/dist-packages (from requests->kaggle) (3.10)\n"
          ]
        }
      ],
      "source": [
        "!pip install kaggle"
      ]
    },
    {
      "cell_type": "code",
      "source": [
        "!kaggle datasets download -d algord/fake-news"
      ],
      "metadata": {
        "colab": {
          "base_uri": "https://localhost:8080/"
        },
        "id": "Ci0wKOk0q76q",
        "outputId": "c1fe1e2e-f23f-49c2-b9b8-d8440fd0e718"
      },
      "execution_count": 2,
      "outputs": [
        {
          "output_type": "stream",
          "name": "stdout",
          "text": [
            "Dataset URL: https://www.kaggle.com/datasets/algord/fake-news\n",
            "License(s): CC0-1.0\n",
            "Downloading fake-news.zip to /content\n",
            "  0% 0.00/1.68M [00:00<?, ?B/s]\n",
            "100% 1.68M/1.68M [00:00<00:00, 179MB/s]\n"
          ]
        }
      ]
    },
    {
      "cell_type": "code",
      "source": [
        "! pip install torch torchtext gensim"
      ],
      "metadata": {
        "id": "Dhrr6eqM65ta"
      },
      "execution_count": null,
      "outputs": []
    },
    {
      "cell_type": "markdown",
      "source": [
        "Загрузка библиотек"
      ],
      "metadata": {
        "id": "2JXKjo5S6Xi2"
      }
    },
    {
      "cell_type": "code",
      "source": [
        "import zipfile\n",
        "import os\n",
        "import pandas as pd\n",
        "from collections import Counter\n",
        "from sklearn.model_selection import train_test_split\n",
        "import torch\n",
        "from torch.utils.data import TensorDataset, DataLoader\n",
        "from torch.utils.data import DataLoader\n",
        "import gensim\n",
        "from gensim.models import Word2Vec\n",
        "from sklearn.manifold import TSNE\n",
        "import matplotlib.pyplot as plt"
      ],
      "metadata": {
        "id": "zZjfPGk76U-T"
      },
      "execution_count": null,
      "outputs": []
    },
    {
      "cell_type": "code",
      "source": [
        "# Путь к вашему архиву fake-news.zip\n",
        "zip_file = '/content/fake-news.zip'\n",
        "\n",
        "# Папка, куда вы хотите распаковать файлы\n",
        "extract_dir = '/content/fake-news'\n",
        "\n",
        "# Распаковка архива\n",
        "with zipfile.ZipFile(zip_file, 'r') as zip_ref:\n",
        "    zip_ref.extractall(extract_dir)\n",
        "\n",
        "# Вывод содержимого распакованной папки\n",
        "os.listdir(extract_dir)\n"
      ],
      "metadata": {
        "colab": {
          "base_uri": "https://localhost:8080/"
        },
        "id": "yoBWb__4rJD8",
        "outputId": "0f3a970e-9fdd-408d-9aa2-e762cbf5273f"
      },
      "execution_count": 4,
      "outputs": [
        {
          "output_type": "execute_result",
          "data": {
            "text/plain": [
              "['FakeNewsNet.csv']"
            ]
          },
          "metadata": {},
          "execution_count": 4
        }
      ]
    },
    {
      "cell_type": "code",
      "source": [
        "# Путь к файлу CSV\n",
        "file_path = '/content/fake-news/FakeNewsNet.csv'\n",
        "\n",
        "# Загрузка данных в датафрейм\n",
        "df = pd.read_csv(file_path)\n",
        "\n",
        "# Вывод первых нескольких строк для проверки\n",
        "df.head()\n"
      ],
      "metadata": {
        "colab": {
          "base_uri": "https://localhost:8080/",
          "height": 206
        },
        "id": "jCG5PvrErkOy",
        "outputId": "0f30e656-defb-474c-fd6f-9e62c143ef8d"
      },
      "execution_count": 5,
      "outputs": [
        {
          "output_type": "execute_result",
          "data": {
            "text/plain": [
              "                                               title  \\\n",
              "0  Kandi Burruss Explodes Over Rape Accusation on...   \n",
              "1  People's Choice Awards 2018: The best red carp...   \n",
              "2  Sophia Bush Sends Sweet Birthday Message to 'O...   \n",
              "3  Colombian singer Maluma sparks rumours of inap...   \n",
              "4  Gossip Girl 10 Years Later: How Upper East Sid...   \n",
              "\n",
              "                                            news_url        source_domain  \\\n",
              "0  http://toofab.com/2017/05/08/real-housewives-a...           toofab.com   \n",
              "1  https://www.today.com/style/see-people-s-choic...        www.today.com   \n",
              "2  https://www.etonline.com/news/220806_sophia_bu...     www.etonline.com   \n",
              "3  https://www.dailymail.co.uk/news/article-33655...  www.dailymail.co.uk   \n",
              "4  https://www.zerchoo.com/entertainment/gossip-g...      www.zerchoo.com   \n",
              "\n",
              "   tweet_num  real  \n",
              "0         42     1  \n",
              "1          0     1  \n",
              "2         63     1  \n",
              "3         20     1  \n",
              "4         38     1  "
            ],
            "text/html": [
              "\n",
              "  <div id=\"df-2f6433e5-cfb3-4622-8c22-f26c8d670089\" class=\"colab-df-container\">\n",
              "    <div>\n",
              "<style scoped>\n",
              "    .dataframe tbody tr th:only-of-type {\n",
              "        vertical-align: middle;\n",
              "    }\n",
              "\n",
              "    .dataframe tbody tr th {\n",
              "        vertical-align: top;\n",
              "    }\n",
              "\n",
              "    .dataframe thead th {\n",
              "        text-align: right;\n",
              "    }\n",
              "</style>\n",
              "<table border=\"1\" class=\"dataframe\">\n",
              "  <thead>\n",
              "    <tr style=\"text-align: right;\">\n",
              "      <th></th>\n",
              "      <th>title</th>\n",
              "      <th>news_url</th>\n",
              "      <th>source_domain</th>\n",
              "      <th>tweet_num</th>\n",
              "      <th>real</th>\n",
              "    </tr>\n",
              "  </thead>\n",
              "  <tbody>\n",
              "    <tr>\n",
              "      <th>0</th>\n",
              "      <td>Kandi Burruss Explodes Over Rape Accusation on...</td>\n",
              "      <td>http://toofab.com/2017/05/08/real-housewives-a...</td>\n",
              "      <td>toofab.com</td>\n",
              "      <td>42</td>\n",
              "      <td>1</td>\n",
              "    </tr>\n",
              "    <tr>\n",
              "      <th>1</th>\n",
              "      <td>People's Choice Awards 2018: The best red carp...</td>\n",
              "      <td>https://www.today.com/style/see-people-s-choic...</td>\n",
              "      <td>www.today.com</td>\n",
              "      <td>0</td>\n",
              "      <td>1</td>\n",
              "    </tr>\n",
              "    <tr>\n",
              "      <th>2</th>\n",
              "      <td>Sophia Bush Sends Sweet Birthday Message to 'O...</td>\n",
              "      <td>https://www.etonline.com/news/220806_sophia_bu...</td>\n",
              "      <td>www.etonline.com</td>\n",
              "      <td>63</td>\n",
              "      <td>1</td>\n",
              "    </tr>\n",
              "    <tr>\n",
              "      <th>3</th>\n",
              "      <td>Colombian singer Maluma sparks rumours of inap...</td>\n",
              "      <td>https://www.dailymail.co.uk/news/article-33655...</td>\n",
              "      <td>www.dailymail.co.uk</td>\n",
              "      <td>20</td>\n",
              "      <td>1</td>\n",
              "    </tr>\n",
              "    <tr>\n",
              "      <th>4</th>\n",
              "      <td>Gossip Girl 10 Years Later: How Upper East Sid...</td>\n",
              "      <td>https://www.zerchoo.com/entertainment/gossip-g...</td>\n",
              "      <td>www.zerchoo.com</td>\n",
              "      <td>38</td>\n",
              "      <td>1</td>\n",
              "    </tr>\n",
              "  </tbody>\n",
              "</table>\n",
              "</div>\n",
              "    <div class=\"colab-df-buttons\">\n",
              "\n",
              "  <div class=\"colab-df-container\">\n",
              "    <button class=\"colab-df-convert\" onclick=\"convertToInteractive('df-2f6433e5-cfb3-4622-8c22-f26c8d670089')\"\n",
              "            title=\"Convert this dataframe to an interactive table.\"\n",
              "            style=\"display:none;\">\n",
              "\n",
              "  <svg xmlns=\"http://www.w3.org/2000/svg\" height=\"24px\" viewBox=\"0 -960 960 960\">\n",
              "    <path d=\"M120-120v-720h720v720H120Zm60-500h600v-160H180v160Zm220 220h160v-160H400v160Zm0 220h160v-160H400v160ZM180-400h160v-160H180v160Zm440 0h160v-160H620v160ZM180-180h160v-160H180v160Zm440 0h160v-160H620v160Z\"/>\n",
              "  </svg>\n",
              "    </button>\n",
              "\n",
              "  <style>\n",
              "    .colab-df-container {\n",
              "      display:flex;\n",
              "      gap: 12px;\n",
              "    }\n",
              "\n",
              "    .colab-df-convert {\n",
              "      background-color: #E8F0FE;\n",
              "      border: none;\n",
              "      border-radius: 50%;\n",
              "      cursor: pointer;\n",
              "      display: none;\n",
              "      fill: #1967D2;\n",
              "      height: 32px;\n",
              "      padding: 0 0 0 0;\n",
              "      width: 32px;\n",
              "    }\n",
              "\n",
              "    .colab-df-convert:hover {\n",
              "      background-color: #E2EBFA;\n",
              "      box-shadow: 0px 1px 2px rgba(60, 64, 67, 0.3), 0px 1px 3px 1px rgba(60, 64, 67, 0.15);\n",
              "      fill: #174EA6;\n",
              "    }\n",
              "\n",
              "    .colab-df-buttons div {\n",
              "      margin-bottom: 4px;\n",
              "    }\n",
              "\n",
              "    [theme=dark] .colab-df-convert {\n",
              "      background-color: #3B4455;\n",
              "      fill: #D2E3FC;\n",
              "    }\n",
              "\n",
              "    [theme=dark] .colab-df-convert:hover {\n",
              "      background-color: #434B5C;\n",
              "      box-shadow: 0px 1px 3px 1px rgba(0, 0, 0, 0.15);\n",
              "      filter: drop-shadow(0px 1px 2px rgba(0, 0, 0, 0.3));\n",
              "      fill: #FFFFFF;\n",
              "    }\n",
              "  </style>\n",
              "\n",
              "    <script>\n",
              "      const buttonEl =\n",
              "        document.querySelector('#df-2f6433e5-cfb3-4622-8c22-f26c8d670089 button.colab-df-convert');\n",
              "      buttonEl.style.display =\n",
              "        google.colab.kernel.accessAllowed ? 'block' : 'none';\n",
              "\n",
              "      async function convertToInteractive(key) {\n",
              "        const element = document.querySelector('#df-2f6433e5-cfb3-4622-8c22-f26c8d670089');\n",
              "        const dataTable =\n",
              "          await google.colab.kernel.invokeFunction('convertToInteractive',\n",
              "                                                    [key], {});\n",
              "        if (!dataTable) return;\n",
              "\n",
              "        const docLinkHtml = 'Like what you see? Visit the ' +\n",
              "          '<a target=\"_blank\" href=https://colab.research.google.com/notebooks/data_table.ipynb>data table notebook</a>'\n",
              "          + ' to learn more about interactive tables.';\n",
              "        element.innerHTML = '';\n",
              "        dataTable['output_type'] = 'display_data';\n",
              "        await google.colab.output.renderOutput(dataTable, element);\n",
              "        const docLink = document.createElement('div');\n",
              "        docLink.innerHTML = docLinkHtml;\n",
              "        element.appendChild(docLink);\n",
              "      }\n",
              "    </script>\n",
              "  </div>\n",
              "\n",
              "\n",
              "<div id=\"df-bdd3c6f0-acb2-43f6-ad8d-4d2817e1e498\">\n",
              "  <button class=\"colab-df-quickchart\" onclick=\"quickchart('df-bdd3c6f0-acb2-43f6-ad8d-4d2817e1e498')\"\n",
              "            title=\"Suggest charts\"\n",
              "            style=\"display:none;\">\n",
              "\n",
              "<svg xmlns=\"http://www.w3.org/2000/svg\" height=\"24px\"viewBox=\"0 0 24 24\"\n",
              "     width=\"24px\">\n",
              "    <g>\n",
              "        <path d=\"M19 3H5c-1.1 0-2 .9-2 2v14c0 1.1.9 2 2 2h14c1.1 0 2-.9 2-2V5c0-1.1-.9-2-2-2zM9 17H7v-7h2v7zm4 0h-2V7h2v10zm4 0h-2v-4h2v4z\"/>\n",
              "    </g>\n",
              "</svg>\n",
              "  </button>\n",
              "\n",
              "<style>\n",
              "  .colab-df-quickchart {\n",
              "      --bg-color: #E8F0FE;\n",
              "      --fill-color: #1967D2;\n",
              "      --hover-bg-color: #E2EBFA;\n",
              "      --hover-fill-color: #174EA6;\n",
              "      --disabled-fill-color: #AAA;\n",
              "      --disabled-bg-color: #DDD;\n",
              "  }\n",
              "\n",
              "  [theme=dark] .colab-df-quickchart {\n",
              "      --bg-color: #3B4455;\n",
              "      --fill-color: #D2E3FC;\n",
              "      --hover-bg-color: #434B5C;\n",
              "      --hover-fill-color: #FFFFFF;\n",
              "      --disabled-bg-color: #3B4455;\n",
              "      --disabled-fill-color: #666;\n",
              "  }\n",
              "\n",
              "  .colab-df-quickchart {\n",
              "    background-color: var(--bg-color);\n",
              "    border: none;\n",
              "    border-radius: 50%;\n",
              "    cursor: pointer;\n",
              "    display: none;\n",
              "    fill: var(--fill-color);\n",
              "    height: 32px;\n",
              "    padding: 0;\n",
              "    width: 32px;\n",
              "  }\n",
              "\n",
              "  .colab-df-quickchart:hover {\n",
              "    background-color: var(--hover-bg-color);\n",
              "    box-shadow: 0 1px 2px rgba(60, 64, 67, 0.3), 0 1px 3px 1px rgba(60, 64, 67, 0.15);\n",
              "    fill: var(--button-hover-fill-color);\n",
              "  }\n",
              "\n",
              "  .colab-df-quickchart-complete:disabled,\n",
              "  .colab-df-quickchart-complete:disabled:hover {\n",
              "    background-color: var(--disabled-bg-color);\n",
              "    fill: var(--disabled-fill-color);\n",
              "    box-shadow: none;\n",
              "  }\n",
              "\n",
              "  .colab-df-spinner {\n",
              "    border: 2px solid var(--fill-color);\n",
              "    border-color: transparent;\n",
              "    border-bottom-color: var(--fill-color);\n",
              "    animation:\n",
              "      spin 1s steps(1) infinite;\n",
              "  }\n",
              "\n",
              "  @keyframes spin {\n",
              "    0% {\n",
              "      border-color: transparent;\n",
              "      border-bottom-color: var(--fill-color);\n",
              "      border-left-color: var(--fill-color);\n",
              "    }\n",
              "    20% {\n",
              "      border-color: transparent;\n",
              "      border-left-color: var(--fill-color);\n",
              "      border-top-color: var(--fill-color);\n",
              "    }\n",
              "    30% {\n",
              "      border-color: transparent;\n",
              "      border-left-color: var(--fill-color);\n",
              "      border-top-color: var(--fill-color);\n",
              "      border-right-color: var(--fill-color);\n",
              "    }\n",
              "    40% {\n",
              "      border-color: transparent;\n",
              "      border-right-color: var(--fill-color);\n",
              "      border-top-color: var(--fill-color);\n",
              "    }\n",
              "    60% {\n",
              "      border-color: transparent;\n",
              "      border-right-color: var(--fill-color);\n",
              "    }\n",
              "    80% {\n",
              "      border-color: transparent;\n",
              "      border-right-color: var(--fill-color);\n",
              "      border-bottom-color: var(--fill-color);\n",
              "    }\n",
              "    90% {\n",
              "      border-color: transparent;\n",
              "      border-bottom-color: var(--fill-color);\n",
              "    }\n",
              "  }\n",
              "</style>\n",
              "\n",
              "  <script>\n",
              "    async function quickchart(key) {\n",
              "      const quickchartButtonEl =\n",
              "        document.querySelector('#' + key + ' button');\n",
              "      quickchartButtonEl.disabled = true;  // To prevent multiple clicks.\n",
              "      quickchartButtonEl.classList.add('colab-df-spinner');\n",
              "      try {\n",
              "        const charts = await google.colab.kernel.invokeFunction(\n",
              "            'suggestCharts', [key], {});\n",
              "      } catch (error) {\n",
              "        console.error('Error during call to suggestCharts:', error);\n",
              "      }\n",
              "      quickchartButtonEl.classList.remove('colab-df-spinner');\n",
              "      quickchartButtonEl.classList.add('colab-df-quickchart-complete');\n",
              "    }\n",
              "    (() => {\n",
              "      let quickchartButtonEl =\n",
              "        document.querySelector('#df-bdd3c6f0-acb2-43f6-ad8d-4d2817e1e498 button');\n",
              "      quickchartButtonEl.style.display =\n",
              "        google.colab.kernel.accessAllowed ? 'block' : 'none';\n",
              "    })();\n",
              "  </script>\n",
              "</div>\n",
              "    </div>\n",
              "  </div>\n"
            ],
            "application/vnd.google.colaboratory.intrinsic+json": {
              "type": "dataframe",
              "variable_name": "df",
              "summary": "{\n  \"name\": \"df\",\n  \"rows\": 23196,\n  \"fields\": [\n    {\n      \"column\": \"title\",\n      \"properties\": {\n        \"dtype\": \"string\",\n        \"num_unique_values\": 21724,\n        \"samples\": [\n          \"Rick Santorum sworn in as Pennsylvania\\u2019s newest senator\",\n          \"Rihanna On Her Romance With Hassan Jameel \\u2014 She Yearns To Be \\u2018More Than A Booty Call\\u2019\",\n          \"Katy Perry Confirms She is \\u2018Not Single\\u2019 During \\u2018American Idol\\u2019 Finale\"\n        ],\n        \"semantic_type\": \"\",\n        \"description\": \"\"\n      }\n    },\n    {\n      \"column\": \"news_url\",\n      \"properties\": {\n        \"dtype\": \"string\",\n        \"num_unique_values\": 21658,\n        \"samples\": [\n          \"https://medium.com/@AndreAguirre25111NTZ/teen-moms-amber-portwood-reacts-to-latest-cheating-allegations-surrounding-matt-baier-550f37fe8c0\",\n          \"https://www.dailymail.co.uk/tvshowbiz/article-5515133/Eddie-Redmayne-wife-Hannah-welcome-second-child.html\",\n          \"www.intouchweekly.com/posts/sister-wives-kody-brown-robyn-153443\"\n        ],\n        \"semantic_type\": \"\",\n        \"description\": \"\"\n      }\n    },\n    {\n      \"column\": \"source_domain\",\n      \"properties\": {\n        \"dtype\": \"category\",\n        \"num_unique_values\": 2441,\n        \"samples\": [\n          \"www.rawstory.com\",\n          \"www.newscabal.co.uk\",\n          \"cmtcody.iheart.com\"\n        ],\n        \"semantic_type\": \"\",\n        \"description\": \"\"\n      }\n    },\n    {\n      \"column\": \"tweet_num\",\n      \"properties\": {\n        \"dtype\": \"number\",\n        \"std\": 488,\n        \"min\": 0,\n        \"max\": 29060,\n        \"num_unique_values\": 825,\n        \"samples\": [\n          4601,\n          407,\n          67\n        ],\n        \"semantic_type\": \"\",\n        \"description\": \"\"\n      }\n    },\n    {\n      \"column\": \"real\",\n      \"properties\": {\n        \"dtype\": \"number\",\n        \"std\": 0,\n        \"min\": 0,\n        \"max\": 1,\n        \"num_unique_values\": 2,\n        \"samples\": [\n          0,\n          1\n        ],\n        \"semantic_type\": \"\",\n        \"description\": \"\"\n      }\n    }\n  ]\n}"
            }
          },
          "metadata": {},
          "execution_count": 5
        }
      ]
    },
    {
      "cell_type": "markdown",
      "source": [
        "Обработка данных"
      ],
      "metadata": {
        "id": "BxUF8rlO6flu"
      }
    },
    {
      "cell_type": "code",
      "source": [
        "# Выбор нужных столбцов\n",
        "df_subset = df[['title', 'news_url', 'source_domain', 'real']]\n",
        "\n",
        "# Вывод первых нескольких строк для проверки\n",
        "df_subset.head()\n"
      ],
      "metadata": {
        "colab": {
          "base_uri": "https://localhost:8080/",
          "height": 206
        },
        "id": "LnA_khR5r2SC",
        "outputId": "7c7a7a42-4b9c-4e4b-bfa1-6a5955df4c39"
      },
      "execution_count": 6,
      "outputs": [
        {
          "output_type": "execute_result",
          "data": {
            "text/plain": [
              "                                               title  \\\n",
              "0  Kandi Burruss Explodes Over Rape Accusation on...   \n",
              "1  People's Choice Awards 2018: The best red carp...   \n",
              "2  Sophia Bush Sends Sweet Birthday Message to 'O...   \n",
              "3  Colombian singer Maluma sparks rumours of inap...   \n",
              "4  Gossip Girl 10 Years Later: How Upper East Sid...   \n",
              "\n",
              "                                            news_url        source_domain  \\\n",
              "0  http://toofab.com/2017/05/08/real-housewives-a...           toofab.com   \n",
              "1  https://www.today.com/style/see-people-s-choic...        www.today.com   \n",
              "2  https://www.etonline.com/news/220806_sophia_bu...     www.etonline.com   \n",
              "3  https://www.dailymail.co.uk/news/article-33655...  www.dailymail.co.uk   \n",
              "4  https://www.zerchoo.com/entertainment/gossip-g...      www.zerchoo.com   \n",
              "\n",
              "   real  \n",
              "0     1  \n",
              "1     1  \n",
              "2     1  \n",
              "3     1  \n",
              "4     1  "
            ],
            "text/html": [
              "\n",
              "  <div id=\"df-377fb6cb-9d32-4854-8b72-ab10227c3b4a\" class=\"colab-df-container\">\n",
              "    <div>\n",
              "<style scoped>\n",
              "    .dataframe tbody tr th:only-of-type {\n",
              "        vertical-align: middle;\n",
              "    }\n",
              "\n",
              "    .dataframe tbody tr th {\n",
              "        vertical-align: top;\n",
              "    }\n",
              "\n",
              "    .dataframe thead th {\n",
              "        text-align: right;\n",
              "    }\n",
              "</style>\n",
              "<table border=\"1\" class=\"dataframe\">\n",
              "  <thead>\n",
              "    <tr style=\"text-align: right;\">\n",
              "      <th></th>\n",
              "      <th>title</th>\n",
              "      <th>news_url</th>\n",
              "      <th>source_domain</th>\n",
              "      <th>real</th>\n",
              "    </tr>\n",
              "  </thead>\n",
              "  <tbody>\n",
              "    <tr>\n",
              "      <th>0</th>\n",
              "      <td>Kandi Burruss Explodes Over Rape Accusation on...</td>\n",
              "      <td>http://toofab.com/2017/05/08/real-housewives-a...</td>\n",
              "      <td>toofab.com</td>\n",
              "      <td>1</td>\n",
              "    </tr>\n",
              "    <tr>\n",
              "      <th>1</th>\n",
              "      <td>People's Choice Awards 2018: The best red carp...</td>\n",
              "      <td>https://www.today.com/style/see-people-s-choic...</td>\n",
              "      <td>www.today.com</td>\n",
              "      <td>1</td>\n",
              "    </tr>\n",
              "    <tr>\n",
              "      <th>2</th>\n",
              "      <td>Sophia Bush Sends Sweet Birthday Message to 'O...</td>\n",
              "      <td>https://www.etonline.com/news/220806_sophia_bu...</td>\n",
              "      <td>www.etonline.com</td>\n",
              "      <td>1</td>\n",
              "    </tr>\n",
              "    <tr>\n",
              "      <th>3</th>\n",
              "      <td>Colombian singer Maluma sparks rumours of inap...</td>\n",
              "      <td>https://www.dailymail.co.uk/news/article-33655...</td>\n",
              "      <td>www.dailymail.co.uk</td>\n",
              "      <td>1</td>\n",
              "    </tr>\n",
              "    <tr>\n",
              "      <th>4</th>\n",
              "      <td>Gossip Girl 10 Years Later: How Upper East Sid...</td>\n",
              "      <td>https://www.zerchoo.com/entertainment/gossip-g...</td>\n",
              "      <td>www.zerchoo.com</td>\n",
              "      <td>1</td>\n",
              "    </tr>\n",
              "  </tbody>\n",
              "</table>\n",
              "</div>\n",
              "    <div class=\"colab-df-buttons\">\n",
              "\n",
              "  <div class=\"colab-df-container\">\n",
              "    <button class=\"colab-df-convert\" onclick=\"convertToInteractive('df-377fb6cb-9d32-4854-8b72-ab10227c3b4a')\"\n",
              "            title=\"Convert this dataframe to an interactive table.\"\n",
              "            style=\"display:none;\">\n",
              "\n",
              "  <svg xmlns=\"http://www.w3.org/2000/svg\" height=\"24px\" viewBox=\"0 -960 960 960\">\n",
              "    <path d=\"M120-120v-720h720v720H120Zm60-500h600v-160H180v160Zm220 220h160v-160H400v160Zm0 220h160v-160H400v160ZM180-400h160v-160H180v160Zm440 0h160v-160H620v160ZM180-180h160v-160H180v160Zm440 0h160v-160H620v160Z\"/>\n",
              "  </svg>\n",
              "    </button>\n",
              "\n",
              "  <style>\n",
              "    .colab-df-container {\n",
              "      display:flex;\n",
              "      gap: 12px;\n",
              "    }\n",
              "\n",
              "    .colab-df-convert {\n",
              "      background-color: #E8F0FE;\n",
              "      border: none;\n",
              "      border-radius: 50%;\n",
              "      cursor: pointer;\n",
              "      display: none;\n",
              "      fill: #1967D2;\n",
              "      height: 32px;\n",
              "      padding: 0 0 0 0;\n",
              "      width: 32px;\n",
              "    }\n",
              "\n",
              "    .colab-df-convert:hover {\n",
              "      background-color: #E2EBFA;\n",
              "      box-shadow: 0px 1px 2px rgba(60, 64, 67, 0.3), 0px 1px 3px 1px rgba(60, 64, 67, 0.15);\n",
              "      fill: #174EA6;\n",
              "    }\n",
              "\n",
              "    .colab-df-buttons div {\n",
              "      margin-bottom: 4px;\n",
              "    }\n",
              "\n",
              "    [theme=dark] .colab-df-convert {\n",
              "      background-color: #3B4455;\n",
              "      fill: #D2E3FC;\n",
              "    }\n",
              "\n",
              "    [theme=dark] .colab-df-convert:hover {\n",
              "      background-color: #434B5C;\n",
              "      box-shadow: 0px 1px 3px 1px rgba(0, 0, 0, 0.15);\n",
              "      filter: drop-shadow(0px 1px 2px rgba(0, 0, 0, 0.3));\n",
              "      fill: #FFFFFF;\n",
              "    }\n",
              "  </style>\n",
              "\n",
              "    <script>\n",
              "      const buttonEl =\n",
              "        document.querySelector('#df-377fb6cb-9d32-4854-8b72-ab10227c3b4a button.colab-df-convert');\n",
              "      buttonEl.style.display =\n",
              "        google.colab.kernel.accessAllowed ? 'block' : 'none';\n",
              "\n",
              "      async function convertToInteractive(key) {\n",
              "        const element = document.querySelector('#df-377fb6cb-9d32-4854-8b72-ab10227c3b4a');\n",
              "        const dataTable =\n",
              "          await google.colab.kernel.invokeFunction('convertToInteractive',\n",
              "                                                    [key], {});\n",
              "        if (!dataTable) return;\n",
              "\n",
              "        const docLinkHtml = 'Like what you see? Visit the ' +\n",
              "          '<a target=\"_blank\" href=https://colab.research.google.com/notebooks/data_table.ipynb>data table notebook</a>'\n",
              "          + ' to learn more about interactive tables.';\n",
              "        element.innerHTML = '';\n",
              "        dataTable['output_type'] = 'display_data';\n",
              "        await google.colab.output.renderOutput(dataTable, element);\n",
              "        const docLink = document.createElement('div');\n",
              "        docLink.innerHTML = docLinkHtml;\n",
              "        element.appendChild(docLink);\n",
              "      }\n",
              "    </script>\n",
              "  </div>\n",
              "\n",
              "\n",
              "<div id=\"df-f715518d-8d72-4f9b-bdfd-69810f03cabd\">\n",
              "  <button class=\"colab-df-quickchart\" onclick=\"quickchart('df-f715518d-8d72-4f9b-bdfd-69810f03cabd')\"\n",
              "            title=\"Suggest charts\"\n",
              "            style=\"display:none;\">\n",
              "\n",
              "<svg xmlns=\"http://www.w3.org/2000/svg\" height=\"24px\"viewBox=\"0 0 24 24\"\n",
              "     width=\"24px\">\n",
              "    <g>\n",
              "        <path d=\"M19 3H5c-1.1 0-2 .9-2 2v14c0 1.1.9 2 2 2h14c1.1 0 2-.9 2-2V5c0-1.1-.9-2-2-2zM9 17H7v-7h2v7zm4 0h-2V7h2v10zm4 0h-2v-4h2v4z\"/>\n",
              "    </g>\n",
              "</svg>\n",
              "  </button>\n",
              "\n",
              "<style>\n",
              "  .colab-df-quickchart {\n",
              "      --bg-color: #E8F0FE;\n",
              "      --fill-color: #1967D2;\n",
              "      --hover-bg-color: #E2EBFA;\n",
              "      --hover-fill-color: #174EA6;\n",
              "      --disabled-fill-color: #AAA;\n",
              "      --disabled-bg-color: #DDD;\n",
              "  }\n",
              "\n",
              "  [theme=dark] .colab-df-quickchart {\n",
              "      --bg-color: #3B4455;\n",
              "      --fill-color: #D2E3FC;\n",
              "      --hover-bg-color: #434B5C;\n",
              "      --hover-fill-color: #FFFFFF;\n",
              "      --disabled-bg-color: #3B4455;\n",
              "      --disabled-fill-color: #666;\n",
              "  }\n",
              "\n",
              "  .colab-df-quickchart {\n",
              "    background-color: var(--bg-color);\n",
              "    border: none;\n",
              "    border-radius: 50%;\n",
              "    cursor: pointer;\n",
              "    display: none;\n",
              "    fill: var(--fill-color);\n",
              "    height: 32px;\n",
              "    padding: 0;\n",
              "    width: 32px;\n",
              "  }\n",
              "\n",
              "  .colab-df-quickchart:hover {\n",
              "    background-color: var(--hover-bg-color);\n",
              "    box-shadow: 0 1px 2px rgba(60, 64, 67, 0.3), 0 1px 3px 1px rgba(60, 64, 67, 0.15);\n",
              "    fill: var(--button-hover-fill-color);\n",
              "  }\n",
              "\n",
              "  .colab-df-quickchart-complete:disabled,\n",
              "  .colab-df-quickchart-complete:disabled:hover {\n",
              "    background-color: var(--disabled-bg-color);\n",
              "    fill: var(--disabled-fill-color);\n",
              "    box-shadow: none;\n",
              "  }\n",
              "\n",
              "  .colab-df-spinner {\n",
              "    border: 2px solid var(--fill-color);\n",
              "    border-color: transparent;\n",
              "    border-bottom-color: var(--fill-color);\n",
              "    animation:\n",
              "      spin 1s steps(1) infinite;\n",
              "  }\n",
              "\n",
              "  @keyframes spin {\n",
              "    0% {\n",
              "      border-color: transparent;\n",
              "      border-bottom-color: var(--fill-color);\n",
              "      border-left-color: var(--fill-color);\n",
              "    }\n",
              "    20% {\n",
              "      border-color: transparent;\n",
              "      border-left-color: var(--fill-color);\n",
              "      border-top-color: var(--fill-color);\n",
              "    }\n",
              "    30% {\n",
              "      border-color: transparent;\n",
              "      border-left-color: var(--fill-color);\n",
              "      border-top-color: var(--fill-color);\n",
              "      border-right-color: var(--fill-color);\n",
              "    }\n",
              "    40% {\n",
              "      border-color: transparent;\n",
              "      border-right-color: var(--fill-color);\n",
              "      border-top-color: var(--fill-color);\n",
              "    }\n",
              "    60% {\n",
              "      border-color: transparent;\n",
              "      border-right-color: var(--fill-color);\n",
              "    }\n",
              "    80% {\n",
              "      border-color: transparent;\n",
              "      border-right-color: var(--fill-color);\n",
              "      border-bottom-color: var(--fill-color);\n",
              "    }\n",
              "    90% {\n",
              "      border-color: transparent;\n",
              "      border-bottom-color: var(--fill-color);\n",
              "    }\n",
              "  }\n",
              "</style>\n",
              "\n",
              "  <script>\n",
              "    async function quickchart(key) {\n",
              "      const quickchartButtonEl =\n",
              "        document.querySelector('#' + key + ' button');\n",
              "      quickchartButtonEl.disabled = true;  // To prevent multiple clicks.\n",
              "      quickchartButtonEl.classList.add('colab-df-spinner');\n",
              "      try {\n",
              "        const charts = await google.colab.kernel.invokeFunction(\n",
              "            'suggestCharts', [key], {});\n",
              "      } catch (error) {\n",
              "        console.error('Error during call to suggestCharts:', error);\n",
              "      }\n",
              "      quickchartButtonEl.classList.remove('colab-df-spinner');\n",
              "      quickchartButtonEl.classList.add('colab-df-quickchart-complete');\n",
              "    }\n",
              "    (() => {\n",
              "      let quickchartButtonEl =\n",
              "        document.querySelector('#df-f715518d-8d72-4f9b-bdfd-69810f03cabd button');\n",
              "      quickchartButtonEl.style.display =\n",
              "        google.colab.kernel.accessAllowed ? 'block' : 'none';\n",
              "    })();\n",
              "  </script>\n",
              "</div>\n",
              "    </div>\n",
              "  </div>\n"
            ],
            "application/vnd.google.colaboratory.intrinsic+json": {
              "type": "dataframe",
              "variable_name": "df_subset",
              "summary": "{\n  \"name\": \"df_subset\",\n  \"rows\": 23196,\n  \"fields\": [\n    {\n      \"column\": \"title\",\n      \"properties\": {\n        \"dtype\": \"string\",\n        \"num_unique_values\": 21724,\n        \"samples\": [\n          \"Rick Santorum sworn in as Pennsylvania\\u2019s newest senator\",\n          \"Rihanna On Her Romance With Hassan Jameel \\u2014 She Yearns To Be \\u2018More Than A Booty Call\\u2019\",\n          \"Katy Perry Confirms She is \\u2018Not Single\\u2019 During \\u2018American Idol\\u2019 Finale\"\n        ],\n        \"semantic_type\": \"\",\n        \"description\": \"\"\n      }\n    },\n    {\n      \"column\": \"news_url\",\n      \"properties\": {\n        \"dtype\": \"string\",\n        \"num_unique_values\": 21658,\n        \"samples\": [\n          \"https://medium.com/@AndreAguirre25111NTZ/teen-moms-amber-portwood-reacts-to-latest-cheating-allegations-surrounding-matt-baier-550f37fe8c0\",\n          \"https://www.dailymail.co.uk/tvshowbiz/article-5515133/Eddie-Redmayne-wife-Hannah-welcome-second-child.html\",\n          \"www.intouchweekly.com/posts/sister-wives-kody-brown-robyn-153443\"\n        ],\n        \"semantic_type\": \"\",\n        \"description\": \"\"\n      }\n    },\n    {\n      \"column\": \"source_domain\",\n      \"properties\": {\n        \"dtype\": \"category\",\n        \"num_unique_values\": 2441,\n        \"samples\": [\n          \"www.rawstory.com\",\n          \"www.newscabal.co.uk\",\n          \"cmtcody.iheart.com\"\n        ],\n        \"semantic_type\": \"\",\n        \"description\": \"\"\n      }\n    },\n    {\n      \"column\": \"real\",\n      \"properties\": {\n        \"dtype\": \"number\",\n        \"std\": 0,\n        \"min\": 0,\n        \"max\": 1,\n        \"num_unique_values\": 2,\n        \"samples\": [\n          0,\n          1\n        ],\n        \"semantic_type\": \"\",\n        \"description\": \"\"\n      }\n    }\n  ]\n}"
            }
          },
          "metadata": {},
          "execution_count": 6
        }
      ]
    },
    {
      "cell_type": "code",
      "source": [
        "df_subset.shape"
      ],
      "metadata": {
        "colab": {
          "base_uri": "https://localhost:8080/"
        },
        "id": "nOXCun6hsisJ",
        "outputId": "140623ca-443f-445c-9052-89694d22570e"
      },
      "execution_count": 7,
      "outputs": [
        {
          "output_type": "execute_result",
          "data": {
            "text/plain": [
              "(23196, 4)"
            ]
          },
          "metadata": {},
          "execution_count": 7
        }
      ]
    },
    {
      "cell_type": "code",
      "source": [
        "# Проверка наличия null-значений\n",
        "null_counts = df_subset.isnull().sum()\n",
        "print(\"Количество null-значений по столбцам:\")\n",
        "print(null_counts)"
      ],
      "metadata": {
        "colab": {
          "base_uri": "https://localhost:8080/"
        },
        "id": "3hj2is6PsRwy",
        "outputId": "417d5a56-6759-4d4a-c71e-7643b9d8a3d2"
      },
      "execution_count": 8,
      "outputs": [
        {
          "output_type": "stream",
          "name": "stdout",
          "text": [
            "Количество null-значений по столбцам:\n",
            "title              0\n",
            "news_url         330\n",
            "source_domain    330\n",
            "real               0\n",
            "dtype: int64\n"
          ]
        }
      ]
    },
    {
      "cell_type": "code",
      "source": [
        "# Удаление строк с null-значениями\n",
        "df_subset = df_subset.dropna()"
      ],
      "metadata": {
        "id": "1JQfnSGMscW6"
      },
      "execution_count": 9,
      "outputs": []
    },
    {
      "cell_type": "code",
      "source": [
        "# Проверка, что null-значения были удалены\n",
        "print(\"После удаления null-значений:\")\n",
        "print(df_subset.isnull().sum())\n",
        "\n",
        "df_subset.shape"
      ],
      "metadata": {
        "colab": {
          "base_uri": "https://localhost:8080/"
        },
        "id": "2S8f6vnvspsJ",
        "outputId": "7f66f320-c0b9-4145-b7e1-bd665b546344"
      },
      "execution_count": 10,
      "outputs": [
        {
          "output_type": "stream",
          "name": "stdout",
          "text": [
            "После удаления null-значений:\n",
            "title            0\n",
            "news_url         0\n",
            "source_domain    0\n",
            "real             0\n",
            "dtype: int64\n"
          ]
        },
        {
          "output_type": "execute_result",
          "data": {
            "text/plain": [
              "(22866, 4)"
            ]
          },
          "metadata": {},
          "execution_count": 10
        }
      ]
    },
    {
      "cell_type": "code",
      "source": [
        "# Подсчет количества каждого класса\n",
        "class_counts = df_subset['real'].value_counts()\n",
        "\n",
        "# Вывод результатов\n",
        "print(\"Баланс классов:\")\n",
        "print(class_counts)"
      ],
      "metadata": {
        "colab": {
          "base_uri": "https://localhost:8080/"
        },
        "id": "DAHuZvfgst05",
        "outputId": "be95467a-09cf-4878-83f2-eaa718fc2fd8"
      },
      "execution_count": 11,
      "outputs": [
        {
          "output_type": "stream",
          "name": "stdout",
          "text": [
            "Баланс классов:\n",
            "real\n",
            "1    17371\n",
            "0     5495\n",
            "Name: count, dtype: int64\n"
          ]
        }
      ]
    },
    {
      "cell_type": "code",
      "source": [
        "# Функция для комбинирования текста из нескольких столбцов\n",
        "def combine_text(row):\n",
        "    return row['title'] + ' ' + row['news_url'] + ' ' + row['source_domain']\n",
        "\n",
        "# Применение функции к датафрейму для создания нового столбца 'text'\n",
        "df_subset['text'] = df_subset.apply(combine_text, axis=1)\n",
        "\n",
        "# Вывод первых нескольких строк для проверки\n",
        "df_subset.head()"
      ],
      "metadata": {
        "colab": {
          "base_uri": "https://localhost:8080/",
          "height": 206
        },
        "id": "F7DW4XO-xYiF",
        "outputId": "48c0565b-9d48-456d-c83f-f4e3011c8d2c"
      },
      "execution_count": 12,
      "outputs": [
        {
          "output_type": "execute_result",
          "data": {
            "text/plain": [
              "                                               title  \\\n",
              "0  Kandi Burruss Explodes Over Rape Accusation on...   \n",
              "1  People's Choice Awards 2018: The best red carp...   \n",
              "2  Sophia Bush Sends Sweet Birthday Message to 'O...   \n",
              "3  Colombian singer Maluma sparks rumours of inap...   \n",
              "4  Gossip Girl 10 Years Later: How Upper East Sid...   \n",
              "\n",
              "                                            news_url        source_domain  \\\n",
              "0  http://toofab.com/2017/05/08/real-housewives-a...           toofab.com   \n",
              "1  https://www.today.com/style/see-people-s-choic...        www.today.com   \n",
              "2  https://www.etonline.com/news/220806_sophia_bu...     www.etonline.com   \n",
              "3  https://www.dailymail.co.uk/news/article-33655...  www.dailymail.co.uk   \n",
              "4  https://www.zerchoo.com/entertainment/gossip-g...      www.zerchoo.com   \n",
              "\n",
              "   real                                               text  \n",
              "0     1  Kandi Burruss Explodes Over Rape Accusation on...  \n",
              "1     1  People's Choice Awards 2018: The best red carp...  \n",
              "2     1  Sophia Bush Sends Sweet Birthday Message to 'O...  \n",
              "3     1  Colombian singer Maluma sparks rumours of inap...  \n",
              "4     1  Gossip Girl 10 Years Later: How Upper East Sid...  "
            ],
            "text/html": [
              "\n",
              "  <div id=\"df-e3ddb95d-aaba-4c85-b90e-929adb7b5cc8\" class=\"colab-df-container\">\n",
              "    <div>\n",
              "<style scoped>\n",
              "    .dataframe tbody tr th:only-of-type {\n",
              "        vertical-align: middle;\n",
              "    }\n",
              "\n",
              "    .dataframe tbody tr th {\n",
              "        vertical-align: top;\n",
              "    }\n",
              "\n",
              "    .dataframe thead th {\n",
              "        text-align: right;\n",
              "    }\n",
              "</style>\n",
              "<table border=\"1\" class=\"dataframe\">\n",
              "  <thead>\n",
              "    <tr style=\"text-align: right;\">\n",
              "      <th></th>\n",
              "      <th>title</th>\n",
              "      <th>news_url</th>\n",
              "      <th>source_domain</th>\n",
              "      <th>real</th>\n",
              "      <th>text</th>\n",
              "    </tr>\n",
              "  </thead>\n",
              "  <tbody>\n",
              "    <tr>\n",
              "      <th>0</th>\n",
              "      <td>Kandi Burruss Explodes Over Rape Accusation on...</td>\n",
              "      <td>http://toofab.com/2017/05/08/real-housewives-a...</td>\n",
              "      <td>toofab.com</td>\n",
              "      <td>1</td>\n",
              "      <td>Kandi Burruss Explodes Over Rape Accusation on...</td>\n",
              "    </tr>\n",
              "    <tr>\n",
              "      <th>1</th>\n",
              "      <td>People's Choice Awards 2018: The best red carp...</td>\n",
              "      <td>https://www.today.com/style/see-people-s-choic...</td>\n",
              "      <td>www.today.com</td>\n",
              "      <td>1</td>\n",
              "      <td>People's Choice Awards 2018: The best red carp...</td>\n",
              "    </tr>\n",
              "    <tr>\n",
              "      <th>2</th>\n",
              "      <td>Sophia Bush Sends Sweet Birthday Message to 'O...</td>\n",
              "      <td>https://www.etonline.com/news/220806_sophia_bu...</td>\n",
              "      <td>www.etonline.com</td>\n",
              "      <td>1</td>\n",
              "      <td>Sophia Bush Sends Sweet Birthday Message to 'O...</td>\n",
              "    </tr>\n",
              "    <tr>\n",
              "      <th>3</th>\n",
              "      <td>Colombian singer Maluma sparks rumours of inap...</td>\n",
              "      <td>https://www.dailymail.co.uk/news/article-33655...</td>\n",
              "      <td>www.dailymail.co.uk</td>\n",
              "      <td>1</td>\n",
              "      <td>Colombian singer Maluma sparks rumours of inap...</td>\n",
              "    </tr>\n",
              "    <tr>\n",
              "      <th>4</th>\n",
              "      <td>Gossip Girl 10 Years Later: How Upper East Sid...</td>\n",
              "      <td>https://www.zerchoo.com/entertainment/gossip-g...</td>\n",
              "      <td>www.zerchoo.com</td>\n",
              "      <td>1</td>\n",
              "      <td>Gossip Girl 10 Years Later: How Upper East Sid...</td>\n",
              "    </tr>\n",
              "  </tbody>\n",
              "</table>\n",
              "</div>\n",
              "    <div class=\"colab-df-buttons\">\n",
              "\n",
              "  <div class=\"colab-df-container\">\n",
              "    <button class=\"colab-df-convert\" onclick=\"convertToInteractive('df-e3ddb95d-aaba-4c85-b90e-929adb7b5cc8')\"\n",
              "            title=\"Convert this dataframe to an interactive table.\"\n",
              "            style=\"display:none;\">\n",
              "\n",
              "  <svg xmlns=\"http://www.w3.org/2000/svg\" height=\"24px\" viewBox=\"0 -960 960 960\">\n",
              "    <path d=\"M120-120v-720h720v720H120Zm60-500h600v-160H180v160Zm220 220h160v-160H400v160Zm0 220h160v-160H400v160ZM180-400h160v-160H180v160Zm440 0h160v-160H620v160ZM180-180h160v-160H180v160Zm440 0h160v-160H620v160Z\"/>\n",
              "  </svg>\n",
              "    </button>\n",
              "\n",
              "  <style>\n",
              "    .colab-df-container {\n",
              "      display:flex;\n",
              "      gap: 12px;\n",
              "    }\n",
              "\n",
              "    .colab-df-convert {\n",
              "      background-color: #E8F0FE;\n",
              "      border: none;\n",
              "      border-radius: 50%;\n",
              "      cursor: pointer;\n",
              "      display: none;\n",
              "      fill: #1967D2;\n",
              "      height: 32px;\n",
              "      padding: 0 0 0 0;\n",
              "      width: 32px;\n",
              "    }\n",
              "\n",
              "    .colab-df-convert:hover {\n",
              "      background-color: #E2EBFA;\n",
              "      box-shadow: 0px 1px 2px rgba(60, 64, 67, 0.3), 0px 1px 3px 1px rgba(60, 64, 67, 0.15);\n",
              "      fill: #174EA6;\n",
              "    }\n",
              "\n",
              "    .colab-df-buttons div {\n",
              "      margin-bottom: 4px;\n",
              "    }\n",
              "\n",
              "    [theme=dark] .colab-df-convert {\n",
              "      background-color: #3B4455;\n",
              "      fill: #D2E3FC;\n",
              "    }\n",
              "\n",
              "    [theme=dark] .colab-df-convert:hover {\n",
              "      background-color: #434B5C;\n",
              "      box-shadow: 0px 1px 3px 1px rgba(0, 0, 0, 0.15);\n",
              "      filter: drop-shadow(0px 1px 2px rgba(0, 0, 0, 0.3));\n",
              "      fill: #FFFFFF;\n",
              "    }\n",
              "  </style>\n",
              "\n",
              "    <script>\n",
              "      const buttonEl =\n",
              "        document.querySelector('#df-e3ddb95d-aaba-4c85-b90e-929adb7b5cc8 button.colab-df-convert');\n",
              "      buttonEl.style.display =\n",
              "        google.colab.kernel.accessAllowed ? 'block' : 'none';\n",
              "\n",
              "      async function convertToInteractive(key) {\n",
              "        const element = document.querySelector('#df-e3ddb95d-aaba-4c85-b90e-929adb7b5cc8');\n",
              "        const dataTable =\n",
              "          await google.colab.kernel.invokeFunction('convertToInteractive',\n",
              "                                                    [key], {});\n",
              "        if (!dataTable) return;\n",
              "\n",
              "        const docLinkHtml = 'Like what you see? Visit the ' +\n",
              "          '<a target=\"_blank\" href=https://colab.research.google.com/notebooks/data_table.ipynb>data table notebook</a>'\n",
              "          + ' to learn more about interactive tables.';\n",
              "        element.innerHTML = '';\n",
              "        dataTable['output_type'] = 'display_data';\n",
              "        await google.colab.output.renderOutput(dataTable, element);\n",
              "        const docLink = document.createElement('div');\n",
              "        docLink.innerHTML = docLinkHtml;\n",
              "        element.appendChild(docLink);\n",
              "      }\n",
              "    </script>\n",
              "  </div>\n",
              "\n",
              "\n",
              "<div id=\"df-dad9577c-f093-4fc6-b489-4dd7dbf47333\">\n",
              "  <button class=\"colab-df-quickchart\" onclick=\"quickchart('df-dad9577c-f093-4fc6-b489-4dd7dbf47333')\"\n",
              "            title=\"Suggest charts\"\n",
              "            style=\"display:none;\">\n",
              "\n",
              "<svg xmlns=\"http://www.w3.org/2000/svg\" height=\"24px\"viewBox=\"0 0 24 24\"\n",
              "     width=\"24px\">\n",
              "    <g>\n",
              "        <path d=\"M19 3H5c-1.1 0-2 .9-2 2v14c0 1.1.9 2 2 2h14c1.1 0 2-.9 2-2V5c0-1.1-.9-2-2-2zM9 17H7v-7h2v7zm4 0h-2V7h2v10zm4 0h-2v-4h2v4z\"/>\n",
              "    </g>\n",
              "</svg>\n",
              "  </button>\n",
              "\n",
              "<style>\n",
              "  .colab-df-quickchart {\n",
              "      --bg-color: #E8F0FE;\n",
              "      --fill-color: #1967D2;\n",
              "      --hover-bg-color: #E2EBFA;\n",
              "      --hover-fill-color: #174EA6;\n",
              "      --disabled-fill-color: #AAA;\n",
              "      --disabled-bg-color: #DDD;\n",
              "  }\n",
              "\n",
              "  [theme=dark] .colab-df-quickchart {\n",
              "      --bg-color: #3B4455;\n",
              "      --fill-color: #D2E3FC;\n",
              "      --hover-bg-color: #434B5C;\n",
              "      --hover-fill-color: #FFFFFF;\n",
              "      --disabled-bg-color: #3B4455;\n",
              "      --disabled-fill-color: #666;\n",
              "  }\n",
              "\n",
              "  .colab-df-quickchart {\n",
              "    background-color: var(--bg-color);\n",
              "    border: none;\n",
              "    border-radius: 50%;\n",
              "    cursor: pointer;\n",
              "    display: none;\n",
              "    fill: var(--fill-color);\n",
              "    height: 32px;\n",
              "    padding: 0;\n",
              "    width: 32px;\n",
              "  }\n",
              "\n",
              "  .colab-df-quickchart:hover {\n",
              "    background-color: var(--hover-bg-color);\n",
              "    box-shadow: 0 1px 2px rgba(60, 64, 67, 0.3), 0 1px 3px 1px rgba(60, 64, 67, 0.15);\n",
              "    fill: var(--button-hover-fill-color);\n",
              "  }\n",
              "\n",
              "  .colab-df-quickchart-complete:disabled,\n",
              "  .colab-df-quickchart-complete:disabled:hover {\n",
              "    background-color: var(--disabled-bg-color);\n",
              "    fill: var(--disabled-fill-color);\n",
              "    box-shadow: none;\n",
              "  }\n",
              "\n",
              "  .colab-df-spinner {\n",
              "    border: 2px solid var(--fill-color);\n",
              "    border-color: transparent;\n",
              "    border-bottom-color: var(--fill-color);\n",
              "    animation:\n",
              "      spin 1s steps(1) infinite;\n",
              "  }\n",
              "\n",
              "  @keyframes spin {\n",
              "    0% {\n",
              "      border-color: transparent;\n",
              "      border-bottom-color: var(--fill-color);\n",
              "      border-left-color: var(--fill-color);\n",
              "    }\n",
              "    20% {\n",
              "      border-color: transparent;\n",
              "      border-left-color: var(--fill-color);\n",
              "      border-top-color: var(--fill-color);\n",
              "    }\n",
              "    30% {\n",
              "      border-color: transparent;\n",
              "      border-left-color: var(--fill-color);\n",
              "      border-top-color: var(--fill-color);\n",
              "      border-right-color: var(--fill-color);\n",
              "    }\n",
              "    40% {\n",
              "      border-color: transparent;\n",
              "      border-right-color: var(--fill-color);\n",
              "      border-top-color: var(--fill-color);\n",
              "    }\n",
              "    60% {\n",
              "      border-color: transparent;\n",
              "      border-right-color: var(--fill-color);\n",
              "    }\n",
              "    80% {\n",
              "      border-color: transparent;\n",
              "      border-right-color: var(--fill-color);\n",
              "      border-bottom-color: var(--fill-color);\n",
              "    }\n",
              "    90% {\n",
              "      border-color: transparent;\n",
              "      border-bottom-color: var(--fill-color);\n",
              "    }\n",
              "  }\n",
              "</style>\n",
              "\n",
              "  <script>\n",
              "    async function quickchart(key) {\n",
              "      const quickchartButtonEl =\n",
              "        document.querySelector('#' + key + ' button');\n",
              "      quickchartButtonEl.disabled = true;  // To prevent multiple clicks.\n",
              "      quickchartButtonEl.classList.add('colab-df-spinner');\n",
              "      try {\n",
              "        const charts = await google.colab.kernel.invokeFunction(\n",
              "            'suggestCharts', [key], {});\n",
              "      } catch (error) {\n",
              "        console.error('Error during call to suggestCharts:', error);\n",
              "      }\n",
              "      quickchartButtonEl.classList.remove('colab-df-spinner');\n",
              "      quickchartButtonEl.classList.add('colab-df-quickchart-complete');\n",
              "    }\n",
              "    (() => {\n",
              "      let quickchartButtonEl =\n",
              "        document.querySelector('#df-dad9577c-f093-4fc6-b489-4dd7dbf47333 button');\n",
              "      quickchartButtonEl.style.display =\n",
              "        google.colab.kernel.accessAllowed ? 'block' : 'none';\n",
              "    })();\n",
              "  </script>\n",
              "</div>\n",
              "    </div>\n",
              "  </div>\n"
            ],
            "application/vnd.google.colaboratory.intrinsic+json": {
              "type": "dataframe",
              "variable_name": "df_subset",
              "summary": "{\n  \"name\": \"df_subset\",\n  \"rows\": 22866,\n  \"fields\": [\n    {\n      \"column\": \"title\",\n      \"properties\": {\n        \"dtype\": \"string\",\n        \"num_unique_values\": 21398,\n        \"samples\": [\n          \"Ashley Iaconetti and Jared Haibon Want a TV Wedding\",\n          \"Olivia Munn wipes away 'luscious lips' created by makeup\",\n          \"Blake Lively Gets Sweet Revenge On Ryan Reynolds With Hilarious Birthday Message About Ryan Gosling\"\n        ],\n        \"semantic_type\": \"\",\n        \"description\": \"\"\n      }\n    },\n    {\n      \"column\": \"news_url\",\n      \"properties\": {\n        \"dtype\": \"string\",\n        \"num_unique_values\": 21658,\n        \"samples\": [\n          \"https://medium.com/@AndreAguirre25111NTZ/teen-moms-amber-portwood-reacts-to-latest-cheating-allegations-surrounding-matt-baier-550f37fe8c0\",\n          \"https://www.dailymail.co.uk/tvshowbiz/article-5515133/Eddie-Redmayne-wife-Hannah-welcome-second-child.html\",\n          \"www.intouchweekly.com/posts/sister-wives-kody-brown-robyn-153443\"\n        ],\n        \"semantic_type\": \"\",\n        \"description\": \"\"\n      }\n    },\n    {\n      \"column\": \"source_domain\",\n      \"properties\": {\n        \"dtype\": \"category\",\n        \"num_unique_values\": 2441,\n        \"samples\": [\n          \"www.rawstory.com\",\n          \"www.newscabal.co.uk\",\n          \"cmtcody.iheart.com\"\n        ],\n        \"semantic_type\": \"\",\n        \"description\": \"\"\n      }\n    },\n    {\n      \"column\": \"real\",\n      \"properties\": {\n        \"dtype\": \"number\",\n        \"std\": 0,\n        \"min\": 0,\n        \"max\": 1,\n        \"num_unique_values\": 2,\n        \"samples\": [\n          0,\n          1\n        ],\n        \"semantic_type\": \"\",\n        \"description\": \"\"\n      }\n    },\n    {\n      \"column\": \"text\",\n      \"properties\": {\n        \"dtype\": \"string\",\n        \"num_unique_values\": 21663,\n        \"samples\": [\n          \"Tamar Braxton Gets Candid About Split From Vincent Herbert on 'The View' https://www.etonline.com/tamar-braxton-gets-candid-about-split-from-vincent-herbert-on-the-view-96983 www.etonline.com\",\n          \"Remarks by the President on Oil and Gas Subsidies http://www.whitehouse.gov/the-press-office/2012/03/29/remarks-president-oil-and-gas-subsidies www.whitehouse.gov\"\n        ],\n        \"semantic_type\": \"\",\n        \"description\": \"\"\n      }\n    }\n  ]\n}"
            }
          },
          "metadata": {},
          "execution_count": 12
        }
      ]
    },
    {
      "cell_type": "code",
      "source": [
        "df_subset['text'][0]"
      ],
      "metadata": {
        "colab": {
          "base_uri": "https://localhost:8080/",
          "height": 53
        },
        "id": "H3zZhb3lxwzs",
        "outputId": "e5990713-7aac-41dc-8d14-25e11dd00629"
      },
      "execution_count": 13,
      "outputs": [
        {
          "output_type": "execute_result",
          "data": {
            "text/plain": [
              "\"Kandi Burruss Explodes Over Rape Accusation on 'Real Housewives of Atlanta' Reunion (Video) http://toofab.com/2017/05/08/real-housewives-atlanta-kandi-burruss-rape-phaedra-parks-porsha-williams/ toofab.com\""
            ],
            "application/vnd.google.colaboratory.intrinsic+json": {
              "type": "string"
            }
          },
          "metadata": {},
          "execution_count": 13
        }
      ]
    },
    {
      "cell_type": "code",
      "source": [
        "# Определение переменных TEXT и LABEL\n",
        "TEXT = df_subset['text'].values\n",
        "LABEL = df_subset['real'].values"
      ],
      "metadata": {
        "id": "9hkyZTjCx97U"
      },
      "execution_count": 14,
      "outputs": []
    },
    {
      "cell_type": "code",
      "source": [
        "# Создание датасета\n",
        "dataset = pd.DataFrame({\n",
        "    'text': TEXT,\n",
        "    'label': LABEL\n",
        "})"
      ],
      "metadata": {
        "id": "DNqZCOxRyZy8"
      },
      "execution_count": 15,
      "outputs": []
    },
    {
      "cell_type": "code",
      "source": [
        "dataset"
      ],
      "metadata": {
        "colab": {
          "base_uri": "https://localhost:8080/",
          "height": 423
        },
        "id": "IJ7jj2DsybXc",
        "outputId": "d58b9646-cd83-47db-993e-ed8badae081d"
      },
      "execution_count": 16,
      "outputs": [
        {
          "output_type": "execute_result",
          "data": {
            "text/plain": [
              "                                                    text  label\n",
              "0      Kandi Burruss Explodes Over Rape Accusation on...      1\n",
              "1      People's Choice Awards 2018: The best red carp...      1\n",
              "2      Sophia Bush Sends Sweet Birthday Message to 'O...      1\n",
              "3      Colombian singer Maluma sparks rumours of inap...      1\n",
              "4      Gossip Girl 10 Years Later: How Upper East Sid...      1\n",
              "...                                                  ...    ...\n",
              "22861  Pippa Middleton wedding: In case you missed it...      1\n",
              "22862  Zayn Malik & Gigi Hadid’s Shocking Split: Why ...      0\n",
              "22863  Jessica Chastain Recalls the Moment Her Mother...      1\n",
              "22864  Tristan Thompson Feels \"Dumped\" After Khloé Ka...      0\n",
              "22865  Kelly Clarkson Performs a Medley of Kendrick L...      1\n",
              "\n",
              "[22866 rows x 2 columns]"
            ],
            "text/html": [
              "\n",
              "  <div id=\"df-e3b62634-5ccf-413c-9a70-8e2e17d7bdb2\" class=\"colab-df-container\">\n",
              "    <div>\n",
              "<style scoped>\n",
              "    .dataframe tbody tr th:only-of-type {\n",
              "        vertical-align: middle;\n",
              "    }\n",
              "\n",
              "    .dataframe tbody tr th {\n",
              "        vertical-align: top;\n",
              "    }\n",
              "\n",
              "    .dataframe thead th {\n",
              "        text-align: right;\n",
              "    }\n",
              "</style>\n",
              "<table border=\"1\" class=\"dataframe\">\n",
              "  <thead>\n",
              "    <tr style=\"text-align: right;\">\n",
              "      <th></th>\n",
              "      <th>text</th>\n",
              "      <th>label</th>\n",
              "    </tr>\n",
              "  </thead>\n",
              "  <tbody>\n",
              "    <tr>\n",
              "      <th>0</th>\n",
              "      <td>Kandi Burruss Explodes Over Rape Accusation on...</td>\n",
              "      <td>1</td>\n",
              "    </tr>\n",
              "    <tr>\n",
              "      <th>1</th>\n",
              "      <td>People's Choice Awards 2018: The best red carp...</td>\n",
              "      <td>1</td>\n",
              "    </tr>\n",
              "    <tr>\n",
              "      <th>2</th>\n",
              "      <td>Sophia Bush Sends Sweet Birthday Message to 'O...</td>\n",
              "      <td>1</td>\n",
              "    </tr>\n",
              "    <tr>\n",
              "      <th>3</th>\n",
              "      <td>Colombian singer Maluma sparks rumours of inap...</td>\n",
              "      <td>1</td>\n",
              "    </tr>\n",
              "    <tr>\n",
              "      <th>4</th>\n",
              "      <td>Gossip Girl 10 Years Later: How Upper East Sid...</td>\n",
              "      <td>1</td>\n",
              "    </tr>\n",
              "    <tr>\n",
              "      <th>...</th>\n",
              "      <td>...</td>\n",
              "      <td>...</td>\n",
              "    </tr>\n",
              "    <tr>\n",
              "      <th>22861</th>\n",
              "      <td>Pippa Middleton wedding: In case you missed it...</td>\n",
              "      <td>1</td>\n",
              "    </tr>\n",
              "    <tr>\n",
              "      <th>22862</th>\n",
              "      <td>Zayn Malik &amp; Gigi Hadid’s Shocking Split: Why ...</td>\n",
              "      <td>0</td>\n",
              "    </tr>\n",
              "    <tr>\n",
              "      <th>22863</th>\n",
              "      <td>Jessica Chastain Recalls the Moment Her Mother...</td>\n",
              "      <td>1</td>\n",
              "    </tr>\n",
              "    <tr>\n",
              "      <th>22864</th>\n",
              "      <td>Tristan Thompson Feels \"Dumped\" After Khloé Ka...</td>\n",
              "      <td>0</td>\n",
              "    </tr>\n",
              "    <tr>\n",
              "      <th>22865</th>\n",
              "      <td>Kelly Clarkson Performs a Medley of Kendrick L...</td>\n",
              "      <td>1</td>\n",
              "    </tr>\n",
              "  </tbody>\n",
              "</table>\n",
              "<p>22866 rows × 2 columns</p>\n",
              "</div>\n",
              "    <div class=\"colab-df-buttons\">\n",
              "\n",
              "  <div class=\"colab-df-container\">\n",
              "    <button class=\"colab-df-convert\" onclick=\"convertToInteractive('df-e3b62634-5ccf-413c-9a70-8e2e17d7bdb2')\"\n",
              "            title=\"Convert this dataframe to an interactive table.\"\n",
              "            style=\"display:none;\">\n",
              "\n",
              "  <svg xmlns=\"http://www.w3.org/2000/svg\" height=\"24px\" viewBox=\"0 -960 960 960\">\n",
              "    <path d=\"M120-120v-720h720v720H120Zm60-500h600v-160H180v160Zm220 220h160v-160H400v160Zm0 220h160v-160H400v160ZM180-400h160v-160H180v160Zm440 0h160v-160H620v160ZM180-180h160v-160H180v160Zm440 0h160v-160H620v160Z\"/>\n",
              "  </svg>\n",
              "    </button>\n",
              "\n",
              "  <style>\n",
              "    .colab-df-container {\n",
              "      display:flex;\n",
              "      gap: 12px;\n",
              "    }\n",
              "\n",
              "    .colab-df-convert {\n",
              "      background-color: #E8F0FE;\n",
              "      border: none;\n",
              "      border-radius: 50%;\n",
              "      cursor: pointer;\n",
              "      display: none;\n",
              "      fill: #1967D2;\n",
              "      height: 32px;\n",
              "      padding: 0 0 0 0;\n",
              "      width: 32px;\n",
              "    }\n",
              "\n",
              "    .colab-df-convert:hover {\n",
              "      background-color: #E2EBFA;\n",
              "      box-shadow: 0px 1px 2px rgba(60, 64, 67, 0.3), 0px 1px 3px 1px rgba(60, 64, 67, 0.15);\n",
              "      fill: #174EA6;\n",
              "    }\n",
              "\n",
              "    .colab-df-buttons div {\n",
              "      margin-bottom: 4px;\n",
              "    }\n",
              "\n",
              "    [theme=dark] .colab-df-convert {\n",
              "      background-color: #3B4455;\n",
              "      fill: #D2E3FC;\n",
              "    }\n",
              "\n",
              "    [theme=dark] .colab-df-convert:hover {\n",
              "      background-color: #434B5C;\n",
              "      box-shadow: 0px 1px 3px 1px rgba(0, 0, 0, 0.15);\n",
              "      filter: drop-shadow(0px 1px 2px rgba(0, 0, 0, 0.3));\n",
              "      fill: #FFFFFF;\n",
              "    }\n",
              "  </style>\n",
              "\n",
              "    <script>\n",
              "      const buttonEl =\n",
              "        document.querySelector('#df-e3b62634-5ccf-413c-9a70-8e2e17d7bdb2 button.colab-df-convert');\n",
              "      buttonEl.style.display =\n",
              "        google.colab.kernel.accessAllowed ? 'block' : 'none';\n",
              "\n",
              "      async function convertToInteractive(key) {\n",
              "        const element = document.querySelector('#df-e3b62634-5ccf-413c-9a70-8e2e17d7bdb2');\n",
              "        const dataTable =\n",
              "          await google.colab.kernel.invokeFunction('convertToInteractive',\n",
              "                                                    [key], {});\n",
              "        if (!dataTable) return;\n",
              "\n",
              "        const docLinkHtml = 'Like what you see? Visit the ' +\n",
              "          '<a target=\"_blank\" href=https://colab.research.google.com/notebooks/data_table.ipynb>data table notebook</a>'\n",
              "          + ' to learn more about interactive tables.';\n",
              "        element.innerHTML = '';\n",
              "        dataTable['output_type'] = 'display_data';\n",
              "        await google.colab.output.renderOutput(dataTable, element);\n",
              "        const docLink = document.createElement('div');\n",
              "        docLink.innerHTML = docLinkHtml;\n",
              "        element.appendChild(docLink);\n",
              "      }\n",
              "    </script>\n",
              "  </div>\n",
              "\n",
              "\n",
              "<div id=\"df-aa2de6f7-a0e1-4957-9017-dbee62d6e6ba\">\n",
              "  <button class=\"colab-df-quickchart\" onclick=\"quickchart('df-aa2de6f7-a0e1-4957-9017-dbee62d6e6ba')\"\n",
              "            title=\"Suggest charts\"\n",
              "            style=\"display:none;\">\n",
              "\n",
              "<svg xmlns=\"http://www.w3.org/2000/svg\" height=\"24px\"viewBox=\"0 0 24 24\"\n",
              "     width=\"24px\">\n",
              "    <g>\n",
              "        <path d=\"M19 3H5c-1.1 0-2 .9-2 2v14c0 1.1.9 2 2 2h14c1.1 0 2-.9 2-2V5c0-1.1-.9-2-2-2zM9 17H7v-7h2v7zm4 0h-2V7h2v10zm4 0h-2v-4h2v4z\"/>\n",
              "    </g>\n",
              "</svg>\n",
              "  </button>\n",
              "\n",
              "<style>\n",
              "  .colab-df-quickchart {\n",
              "      --bg-color: #E8F0FE;\n",
              "      --fill-color: #1967D2;\n",
              "      --hover-bg-color: #E2EBFA;\n",
              "      --hover-fill-color: #174EA6;\n",
              "      --disabled-fill-color: #AAA;\n",
              "      --disabled-bg-color: #DDD;\n",
              "  }\n",
              "\n",
              "  [theme=dark] .colab-df-quickchart {\n",
              "      --bg-color: #3B4455;\n",
              "      --fill-color: #D2E3FC;\n",
              "      --hover-bg-color: #434B5C;\n",
              "      --hover-fill-color: #FFFFFF;\n",
              "      --disabled-bg-color: #3B4455;\n",
              "      --disabled-fill-color: #666;\n",
              "  }\n",
              "\n",
              "  .colab-df-quickchart {\n",
              "    background-color: var(--bg-color);\n",
              "    border: none;\n",
              "    border-radius: 50%;\n",
              "    cursor: pointer;\n",
              "    display: none;\n",
              "    fill: var(--fill-color);\n",
              "    height: 32px;\n",
              "    padding: 0;\n",
              "    width: 32px;\n",
              "  }\n",
              "\n",
              "  .colab-df-quickchart:hover {\n",
              "    background-color: var(--hover-bg-color);\n",
              "    box-shadow: 0 1px 2px rgba(60, 64, 67, 0.3), 0 1px 3px 1px rgba(60, 64, 67, 0.15);\n",
              "    fill: var(--button-hover-fill-color);\n",
              "  }\n",
              "\n",
              "  .colab-df-quickchart-complete:disabled,\n",
              "  .colab-df-quickchart-complete:disabled:hover {\n",
              "    background-color: var(--disabled-bg-color);\n",
              "    fill: var(--disabled-fill-color);\n",
              "    box-shadow: none;\n",
              "  }\n",
              "\n",
              "  .colab-df-spinner {\n",
              "    border: 2px solid var(--fill-color);\n",
              "    border-color: transparent;\n",
              "    border-bottom-color: var(--fill-color);\n",
              "    animation:\n",
              "      spin 1s steps(1) infinite;\n",
              "  }\n",
              "\n",
              "  @keyframes spin {\n",
              "    0% {\n",
              "      border-color: transparent;\n",
              "      border-bottom-color: var(--fill-color);\n",
              "      border-left-color: var(--fill-color);\n",
              "    }\n",
              "    20% {\n",
              "      border-color: transparent;\n",
              "      border-left-color: var(--fill-color);\n",
              "      border-top-color: var(--fill-color);\n",
              "    }\n",
              "    30% {\n",
              "      border-color: transparent;\n",
              "      border-left-color: var(--fill-color);\n",
              "      border-top-color: var(--fill-color);\n",
              "      border-right-color: var(--fill-color);\n",
              "    }\n",
              "    40% {\n",
              "      border-color: transparent;\n",
              "      border-right-color: var(--fill-color);\n",
              "      border-top-color: var(--fill-color);\n",
              "    }\n",
              "    60% {\n",
              "      border-color: transparent;\n",
              "      border-right-color: var(--fill-color);\n",
              "    }\n",
              "    80% {\n",
              "      border-color: transparent;\n",
              "      border-right-color: var(--fill-color);\n",
              "      border-bottom-color: var(--fill-color);\n",
              "    }\n",
              "    90% {\n",
              "      border-color: transparent;\n",
              "      border-bottom-color: var(--fill-color);\n",
              "    }\n",
              "  }\n",
              "</style>\n",
              "\n",
              "  <script>\n",
              "    async function quickchart(key) {\n",
              "      const quickchartButtonEl =\n",
              "        document.querySelector('#' + key + ' button');\n",
              "      quickchartButtonEl.disabled = true;  // To prevent multiple clicks.\n",
              "      quickchartButtonEl.classList.add('colab-df-spinner');\n",
              "      try {\n",
              "        const charts = await google.colab.kernel.invokeFunction(\n",
              "            'suggestCharts', [key], {});\n",
              "      } catch (error) {\n",
              "        console.error('Error during call to suggestCharts:', error);\n",
              "      }\n",
              "      quickchartButtonEl.classList.remove('colab-df-spinner');\n",
              "      quickchartButtonEl.classList.add('colab-df-quickchart-complete');\n",
              "    }\n",
              "    (() => {\n",
              "      let quickchartButtonEl =\n",
              "        document.querySelector('#df-aa2de6f7-a0e1-4957-9017-dbee62d6e6ba button');\n",
              "      quickchartButtonEl.style.display =\n",
              "        google.colab.kernel.accessAllowed ? 'block' : 'none';\n",
              "    })();\n",
              "  </script>\n",
              "</div>\n",
              "    </div>\n",
              "  </div>\n"
            ],
            "application/vnd.google.colaboratory.intrinsic+json": {
              "type": "dataframe",
              "variable_name": "dataset",
              "summary": "{\n  \"name\": \"dataset\",\n  \"rows\": 22866,\n  \"fields\": [\n    {\n      \"column\": \"text\",\n      \"properties\": {\n        \"dtype\": \"string\",\n        \"num_unique_values\": 21663,\n        \"samples\": [\n          \"Tamar Braxton Gets Candid About Split From Vincent Herbert on 'The View' https://www.etonline.com/tamar-braxton-gets-candid-about-split-from-vincent-herbert-on-the-view-96983 www.etonline.com\",\n          \"Remarks by the President on Oil and Gas Subsidies http://www.whitehouse.gov/the-press-office/2012/03/29/remarks-president-oil-and-gas-subsidies www.whitehouse.gov\",\n          \"Oprah and Katy Perry's Homes Threatened as Thomas Fire Grows to Third Largest in State History https://people.com/celebrity/oprah-winfrey-katy-perry-homes-threatened-thomas-fire-third-largest-in-california-history/ people.com\"\n        ],\n        \"semantic_type\": \"\",\n        \"description\": \"\"\n      }\n    },\n    {\n      \"column\": \"label\",\n      \"properties\": {\n        \"dtype\": \"number\",\n        \"std\": 0,\n        \"min\": 0,\n        \"max\": 1,\n        \"num_unique_values\": 2,\n        \"samples\": [\n          0,\n          1\n        ],\n        \"semantic_type\": \"\",\n        \"description\": \"\"\n      }\n    }\n  ]\n}"
            }
          },
          "metadata": {},
          "execution_count": 16
        }
      ]
    },
    {
      "cell_type": "code",
      "source": [
        "words_counter = Counter()\n",
        "for text in TEXT:\n",
        "    words_counter.update(text.split())\n",
        "\n",
        "# Вывод словаря с самыми часто встречающимися словами\n",
        "print(\"Словарь слов:\")\n",
        "print(words_counter.most_common(10))  # вывод 10 самых частых слов"
      ],
      "metadata": {
        "colab": {
          "base_uri": "https://localhost:8080/"
        },
        "id": "OLMJcgyhymdD",
        "outputId": "329633fb-541f-4f47-a69e-2096bad89908"
      },
      "execution_count": 17,
      "outputs": [
        {
          "output_type": "stream",
          "name": "stdout",
          "text": [
            "Словарь слов:\n",
            "[('and', 4432), ('to', 3754), ('the', 3686), ('of', 2761), ('in', 2428), ('a', 2159), ('on', 2139), ('The', 2087), ('people.com', 1786), ('for', 1758)]\n"
          ]
        }
      ]
    },
    {
      "cell_type": "markdown",
      "source": [
        "Разделение данных на обучающую и тестовою выборки"
      ],
      "metadata": {
        "id": "neAboBlQ6tMq"
      }
    },
    {
      "cell_type": "code",
      "source": [
        "# Разделение данных на обучающую и тестовую выборки\n",
        "train_data, test_data = train_test_split(dataset, test_size=0.2, random_state=42)\n",
        "\n",
        "# Вывод размеров обучающей и тестовой выборок для проверки\n",
        "print(\"Размеры обучающей и тестовой выборок:\")\n",
        "print(\"Обучающая выборка:\", train_data.shape)\n",
        "print(\"Тестовая выборка:\", test_data.shape)"
      ],
      "metadata": {
        "colab": {
          "base_uri": "https://localhost:8080/"
        },
        "id": "ss1MoaaDy4iq",
        "outputId": "ae807b9b-a6b1-426e-c697-af9bcdffe34d"
      },
      "execution_count": 18,
      "outputs": [
        {
          "output_type": "stream",
          "name": "stdout",
          "text": [
            "Размеры обучающей и тестовой выборок:\n",
            "Обучающая выборка: (18292, 2)\n",
            "Тестовая выборка: (4574, 2)\n"
          ]
        }
      ]
    },
    {
      "cell_type": "code",
      "source": [
        "test_data"
      ],
      "metadata": {
        "colab": {
          "base_uri": "https://localhost:8080/",
          "height": 423
        },
        "id": "UMmGY5Pi2CG0",
        "outputId": "6cca3ed2-e580-4fab-9bd5-c830e3ea821e"
      },
      "execution_count": 19,
      "outputs": [
        {
          "output_type": "execute_result",
          "data": {
            "text/plain": [
              "                                                    text  label\n",
              "17659  Why Prince Harry Didn't Get a Prenup Before Ma...      0\n",
              "7217   The cast of Halloweentown reunited to celebrat...      1\n",
              "7495   Jessie James Decker Catches Married Woman Send...      1\n",
              "11203  Jennifer Aniston casually dating again www.emi...      0\n",
              "12870  Moana Hits Netflix Today So Let’s Celebrate Wi...      1\n",
              "...                                                  ...    ...\n",
              "9437   Food Network Star Winners: Where Are They Now?...      1\n",
              "20649  Rashad Jennings' Dancing With the Stars Finale...      1\n",
              "10154  The First Author To Become A Billionaire Was? ...      1\n",
              "19549  Rihanna Laughing Off Pregnancy Rumors: “She’s ...      0\n",
              "14034  Quincy Jones Awarded $9.42 Million in Royaltie...      1\n",
              "\n",
              "[4574 rows x 2 columns]"
            ],
            "text/html": [
              "\n",
              "  <div id=\"df-b2201af3-2f32-486c-86ef-9c5b9956cff3\" class=\"colab-df-container\">\n",
              "    <div>\n",
              "<style scoped>\n",
              "    .dataframe tbody tr th:only-of-type {\n",
              "        vertical-align: middle;\n",
              "    }\n",
              "\n",
              "    .dataframe tbody tr th {\n",
              "        vertical-align: top;\n",
              "    }\n",
              "\n",
              "    .dataframe thead th {\n",
              "        text-align: right;\n",
              "    }\n",
              "</style>\n",
              "<table border=\"1\" class=\"dataframe\">\n",
              "  <thead>\n",
              "    <tr style=\"text-align: right;\">\n",
              "      <th></th>\n",
              "      <th>text</th>\n",
              "      <th>label</th>\n",
              "    </tr>\n",
              "  </thead>\n",
              "  <tbody>\n",
              "    <tr>\n",
              "      <th>17659</th>\n",
              "      <td>Why Prince Harry Didn't Get a Prenup Before Ma...</td>\n",
              "      <td>0</td>\n",
              "    </tr>\n",
              "    <tr>\n",
              "      <th>7217</th>\n",
              "      <td>The cast of Halloweentown reunited to celebrat...</td>\n",
              "      <td>1</td>\n",
              "    </tr>\n",
              "    <tr>\n",
              "      <th>7495</th>\n",
              "      <td>Jessie James Decker Catches Married Woman Send...</td>\n",
              "      <td>1</td>\n",
              "    </tr>\n",
              "    <tr>\n",
              "      <th>11203</th>\n",
              "      <td>Jennifer Aniston casually dating again www.emi...</td>\n",
              "      <td>0</td>\n",
              "    </tr>\n",
              "    <tr>\n",
              "      <th>12870</th>\n",
              "      <td>Moana Hits Netflix Today So Let’s Celebrate Wi...</td>\n",
              "      <td>1</td>\n",
              "    </tr>\n",
              "    <tr>\n",
              "      <th>...</th>\n",
              "      <td>...</td>\n",
              "      <td>...</td>\n",
              "    </tr>\n",
              "    <tr>\n",
              "      <th>9437</th>\n",
              "      <td>Food Network Star Winners: Where Are They Now?...</td>\n",
              "      <td>1</td>\n",
              "    </tr>\n",
              "    <tr>\n",
              "      <th>20649</th>\n",
              "      <td>Rashad Jennings' Dancing With the Stars Finale...</td>\n",
              "      <td>1</td>\n",
              "    </tr>\n",
              "    <tr>\n",
              "      <th>10154</th>\n",
              "      <td>The First Author To Become A Billionaire Was? ...</td>\n",
              "      <td>1</td>\n",
              "    </tr>\n",
              "    <tr>\n",
              "      <th>19549</th>\n",
              "      <td>Rihanna Laughing Off Pregnancy Rumors: “She’s ...</td>\n",
              "      <td>0</td>\n",
              "    </tr>\n",
              "    <tr>\n",
              "      <th>14034</th>\n",
              "      <td>Quincy Jones Awarded $9.42 Million in Royaltie...</td>\n",
              "      <td>1</td>\n",
              "    </tr>\n",
              "  </tbody>\n",
              "</table>\n",
              "<p>4574 rows × 2 columns</p>\n",
              "</div>\n",
              "    <div class=\"colab-df-buttons\">\n",
              "\n",
              "  <div class=\"colab-df-container\">\n",
              "    <button class=\"colab-df-convert\" onclick=\"convertToInteractive('df-b2201af3-2f32-486c-86ef-9c5b9956cff3')\"\n",
              "            title=\"Convert this dataframe to an interactive table.\"\n",
              "            style=\"display:none;\">\n",
              "\n",
              "  <svg xmlns=\"http://www.w3.org/2000/svg\" height=\"24px\" viewBox=\"0 -960 960 960\">\n",
              "    <path d=\"M120-120v-720h720v720H120Zm60-500h600v-160H180v160Zm220 220h160v-160H400v160Zm0 220h160v-160H400v160ZM180-400h160v-160H180v160Zm440 0h160v-160H620v160ZM180-180h160v-160H180v160Zm440 0h160v-160H620v160Z\"/>\n",
              "  </svg>\n",
              "    </button>\n",
              "\n",
              "  <style>\n",
              "    .colab-df-container {\n",
              "      display:flex;\n",
              "      gap: 12px;\n",
              "    }\n",
              "\n",
              "    .colab-df-convert {\n",
              "      background-color: #E8F0FE;\n",
              "      border: none;\n",
              "      border-radius: 50%;\n",
              "      cursor: pointer;\n",
              "      display: none;\n",
              "      fill: #1967D2;\n",
              "      height: 32px;\n",
              "      padding: 0 0 0 0;\n",
              "      width: 32px;\n",
              "    }\n",
              "\n",
              "    .colab-df-convert:hover {\n",
              "      background-color: #E2EBFA;\n",
              "      box-shadow: 0px 1px 2px rgba(60, 64, 67, 0.3), 0px 1px 3px 1px rgba(60, 64, 67, 0.15);\n",
              "      fill: #174EA6;\n",
              "    }\n",
              "\n",
              "    .colab-df-buttons div {\n",
              "      margin-bottom: 4px;\n",
              "    }\n",
              "\n",
              "    [theme=dark] .colab-df-convert {\n",
              "      background-color: #3B4455;\n",
              "      fill: #D2E3FC;\n",
              "    }\n",
              "\n",
              "    [theme=dark] .colab-df-convert:hover {\n",
              "      background-color: #434B5C;\n",
              "      box-shadow: 0px 1px 3px 1px rgba(0, 0, 0, 0.15);\n",
              "      filter: drop-shadow(0px 1px 2px rgba(0, 0, 0, 0.3));\n",
              "      fill: #FFFFFF;\n",
              "    }\n",
              "  </style>\n",
              "\n",
              "    <script>\n",
              "      const buttonEl =\n",
              "        document.querySelector('#df-b2201af3-2f32-486c-86ef-9c5b9956cff3 button.colab-df-convert');\n",
              "      buttonEl.style.display =\n",
              "        google.colab.kernel.accessAllowed ? 'block' : 'none';\n",
              "\n",
              "      async function convertToInteractive(key) {\n",
              "        const element = document.querySelector('#df-b2201af3-2f32-486c-86ef-9c5b9956cff3');\n",
              "        const dataTable =\n",
              "          await google.colab.kernel.invokeFunction('convertToInteractive',\n",
              "                                                    [key], {});\n",
              "        if (!dataTable) return;\n",
              "\n",
              "        const docLinkHtml = 'Like what you see? Visit the ' +\n",
              "          '<a target=\"_blank\" href=https://colab.research.google.com/notebooks/data_table.ipynb>data table notebook</a>'\n",
              "          + ' to learn more about interactive tables.';\n",
              "        element.innerHTML = '';\n",
              "        dataTable['output_type'] = 'display_data';\n",
              "        await google.colab.output.renderOutput(dataTable, element);\n",
              "        const docLink = document.createElement('div');\n",
              "        docLink.innerHTML = docLinkHtml;\n",
              "        element.appendChild(docLink);\n",
              "      }\n",
              "    </script>\n",
              "  </div>\n",
              "\n",
              "\n",
              "<div id=\"df-c6fd54bf-c976-43f4-81fc-fb640abd8c75\">\n",
              "  <button class=\"colab-df-quickchart\" onclick=\"quickchart('df-c6fd54bf-c976-43f4-81fc-fb640abd8c75')\"\n",
              "            title=\"Suggest charts\"\n",
              "            style=\"display:none;\">\n",
              "\n",
              "<svg xmlns=\"http://www.w3.org/2000/svg\" height=\"24px\"viewBox=\"0 0 24 24\"\n",
              "     width=\"24px\">\n",
              "    <g>\n",
              "        <path d=\"M19 3H5c-1.1 0-2 .9-2 2v14c0 1.1.9 2 2 2h14c1.1 0 2-.9 2-2V5c0-1.1-.9-2-2-2zM9 17H7v-7h2v7zm4 0h-2V7h2v10zm4 0h-2v-4h2v4z\"/>\n",
              "    </g>\n",
              "</svg>\n",
              "  </button>\n",
              "\n",
              "<style>\n",
              "  .colab-df-quickchart {\n",
              "      --bg-color: #E8F0FE;\n",
              "      --fill-color: #1967D2;\n",
              "      --hover-bg-color: #E2EBFA;\n",
              "      --hover-fill-color: #174EA6;\n",
              "      --disabled-fill-color: #AAA;\n",
              "      --disabled-bg-color: #DDD;\n",
              "  }\n",
              "\n",
              "  [theme=dark] .colab-df-quickchart {\n",
              "      --bg-color: #3B4455;\n",
              "      --fill-color: #D2E3FC;\n",
              "      --hover-bg-color: #434B5C;\n",
              "      --hover-fill-color: #FFFFFF;\n",
              "      --disabled-bg-color: #3B4455;\n",
              "      --disabled-fill-color: #666;\n",
              "  }\n",
              "\n",
              "  .colab-df-quickchart {\n",
              "    background-color: var(--bg-color);\n",
              "    border: none;\n",
              "    border-radius: 50%;\n",
              "    cursor: pointer;\n",
              "    display: none;\n",
              "    fill: var(--fill-color);\n",
              "    height: 32px;\n",
              "    padding: 0;\n",
              "    width: 32px;\n",
              "  }\n",
              "\n",
              "  .colab-df-quickchart:hover {\n",
              "    background-color: var(--hover-bg-color);\n",
              "    box-shadow: 0 1px 2px rgba(60, 64, 67, 0.3), 0 1px 3px 1px rgba(60, 64, 67, 0.15);\n",
              "    fill: var(--button-hover-fill-color);\n",
              "  }\n",
              "\n",
              "  .colab-df-quickchart-complete:disabled,\n",
              "  .colab-df-quickchart-complete:disabled:hover {\n",
              "    background-color: var(--disabled-bg-color);\n",
              "    fill: var(--disabled-fill-color);\n",
              "    box-shadow: none;\n",
              "  }\n",
              "\n",
              "  .colab-df-spinner {\n",
              "    border: 2px solid var(--fill-color);\n",
              "    border-color: transparent;\n",
              "    border-bottom-color: var(--fill-color);\n",
              "    animation:\n",
              "      spin 1s steps(1) infinite;\n",
              "  }\n",
              "\n",
              "  @keyframes spin {\n",
              "    0% {\n",
              "      border-color: transparent;\n",
              "      border-bottom-color: var(--fill-color);\n",
              "      border-left-color: var(--fill-color);\n",
              "    }\n",
              "    20% {\n",
              "      border-color: transparent;\n",
              "      border-left-color: var(--fill-color);\n",
              "      border-top-color: var(--fill-color);\n",
              "    }\n",
              "    30% {\n",
              "      border-color: transparent;\n",
              "      border-left-color: var(--fill-color);\n",
              "      border-top-color: var(--fill-color);\n",
              "      border-right-color: var(--fill-color);\n",
              "    }\n",
              "    40% {\n",
              "      border-color: transparent;\n",
              "      border-right-color: var(--fill-color);\n",
              "      border-top-color: var(--fill-color);\n",
              "    }\n",
              "    60% {\n",
              "      border-color: transparent;\n",
              "      border-right-color: var(--fill-color);\n",
              "    }\n",
              "    80% {\n",
              "      border-color: transparent;\n",
              "      border-right-color: var(--fill-color);\n",
              "      border-bottom-color: var(--fill-color);\n",
              "    }\n",
              "    90% {\n",
              "      border-color: transparent;\n",
              "      border-bottom-color: var(--fill-color);\n",
              "    }\n",
              "  }\n",
              "</style>\n",
              "\n",
              "  <script>\n",
              "    async function quickchart(key) {\n",
              "      const quickchartButtonEl =\n",
              "        document.querySelector('#' + key + ' button');\n",
              "      quickchartButtonEl.disabled = true;  // To prevent multiple clicks.\n",
              "      quickchartButtonEl.classList.add('colab-df-spinner');\n",
              "      try {\n",
              "        const charts = await google.colab.kernel.invokeFunction(\n",
              "            'suggestCharts', [key], {});\n",
              "      } catch (error) {\n",
              "        console.error('Error during call to suggestCharts:', error);\n",
              "      }\n",
              "      quickchartButtonEl.classList.remove('colab-df-spinner');\n",
              "      quickchartButtonEl.classList.add('colab-df-quickchart-complete');\n",
              "    }\n",
              "    (() => {\n",
              "      let quickchartButtonEl =\n",
              "        document.querySelector('#df-c6fd54bf-c976-43f4-81fc-fb640abd8c75 button');\n",
              "      quickchartButtonEl.style.display =\n",
              "        google.colab.kernel.accessAllowed ? 'block' : 'none';\n",
              "    })();\n",
              "  </script>\n",
              "</div>\n",
              "    </div>\n",
              "  </div>\n"
            ],
            "application/vnd.google.colaboratory.intrinsic+json": {
              "type": "dataframe",
              "variable_name": "test_data",
              "summary": "{\n  \"name\": \"test_data\",\n  \"rows\": 4574,\n  \"fields\": [\n    {\n      \"column\": \"text\",\n      \"properties\": {\n        \"dtype\": \"string\",\n        \"num_unique_values\": 4510,\n        \"samples\": [\n          \"Halle Berry Goes Buck Naked for Instagram http://awards.trendolizer.com/2017/05/halle-berry-goes-buck-naked-for-instagram.html awards.trendolizer.com\",\n          \"Marchesa Cancels Its New York Fashion Week Runway Show https://www.vanityfair.com/style/2018/01/marchesa-cancels-its-new-york-fashion-week-runway-show www.vanityfair.com\",\n          \"Super Bowl selfie kid on reaction: 'It's crazy' https://www.usatoday.com/story/tech/news/2018/02/05/super-bowl-selfie-kid-reaction-its-crazy/306457002/ www.usatoday.com\"\n        ],\n        \"semantic_type\": \"\",\n        \"description\": \"\"\n      }\n    },\n    {\n      \"column\": \"label\",\n      \"properties\": {\n        \"dtype\": \"number\",\n        \"std\": 0,\n        \"min\": 0,\n        \"max\": 1,\n        \"num_unique_values\": 2,\n        \"samples\": [\n          1,\n          0\n        ],\n        \"semantic_type\": \"\",\n        \"description\": \"\"\n      }\n    }\n  ]\n}"
            }
          },
          "metadata": {},
          "execution_count": 19
        }
      ]
    },
    {
      "cell_type": "markdown",
      "source": [
        "Преобразование текстовых данных в тензоры PyTorch"
      ],
      "metadata": {
        "id": "ACAXSfiN6zvi"
      }
    },
    {
      "cell_type": "code",
      "source": [
        "train_texts = train_data['text'].tolist()\n",
        "train_labels = train_data['label'].tolist()\n",
        "\n",
        "test_texts = test_data['text'].tolist()\n",
        "test_labels = test_data['label'].tolist()"
      ],
      "metadata": {
        "id": "SHf-87TNzHdz"
      },
      "execution_count": 20,
      "outputs": []
    },
    {
      "cell_type": "code",
      "source": [
        "# Определение размера пакета\n",
        "batch_size = 32\n",
        "\n",
        "# Создание DataLoader для обучающей и тестовой выборок\n",
        "train_loader = DataLoader(train_data, batch_size=batch_size, shuffle=True)\n",
        "test_loader = DataLoader(test_data, batch_size=batch_size, shuffle=False)"
      ],
      "metadata": {
        "id": "5hr_iti-zYVT"
      },
      "execution_count": 22,
      "outputs": []
    },
    {
      "cell_type": "code",
      "source": [
        "print(f\"Number of batches in test_loader: {len(test_loader)}\")"
      ],
      "metadata": {
        "colab": {
          "base_uri": "https://localhost:8080/"
        },
        "id": "slXP3z36XxBB",
        "outputId": "8f685c96-b3e2-4b8b-a302-a5923307c982"
      },
      "execution_count": 23,
      "outputs": [
        {
          "output_type": "stream",
          "name": "stdout",
          "text": [
            "Number of batches in test_loader: 143\n"
          ]
        }
      ]
    },
    {
      "cell_type": "code",
      "source": [
        "train_data"
      ],
      "metadata": {
        "colab": {
          "base_uri": "https://localhost:8080/",
          "height": 423
        },
        "id": "ZXV8C0Bw38o_",
        "outputId": "b8cf2e9e-744b-47ae-8e26-04e6160dd504"
      },
      "execution_count": 24,
      "outputs": [
        {
          "output_type": "execute_result",
          "data": {
            "text/plain": [
              "                                                    text  label\n",
              "11489  “This Is Us” Season 2 Poster Brings the Tears ...      1\n",
              "4641   Charlie Sheen Selling Infamous Beverly Hills M...      1\n",
              "10242  Famous Female Figure Skaters https://www.ranke...      1\n",
              "11198  When Did Ben Affleck and Lindsay Shookus Start...      0\n",
              "19695  Britney Spears dissected by plastic surgeon – ...      0\n",
              "...                                                  ...    ...\n",
              "11964  Why the Public Option Isn't the Only Answer to...      1\n",
              "21575  Jennifer Aniston’s Mother’s Caregiver Writing ...      0\n",
              "5390   T.I. Pays Tribute to Ex Tiny on Her Birthday W...      1\n",
              "860    Tyrese Gibson Calls Joint Custody Ruling a 'Wi...      1\n",
              "15795  Kourtney Kardashian’s secret wedding allegedly...      0\n",
              "\n",
              "[18292 rows x 2 columns]"
            ],
            "text/html": [
              "\n",
              "  <div id=\"df-098d23b5-f94c-4e01-afab-de6dd6f35a37\" class=\"colab-df-container\">\n",
              "    <div>\n",
              "<style scoped>\n",
              "    .dataframe tbody tr th:only-of-type {\n",
              "        vertical-align: middle;\n",
              "    }\n",
              "\n",
              "    .dataframe tbody tr th {\n",
              "        vertical-align: top;\n",
              "    }\n",
              "\n",
              "    .dataframe thead th {\n",
              "        text-align: right;\n",
              "    }\n",
              "</style>\n",
              "<table border=\"1\" class=\"dataframe\">\n",
              "  <thead>\n",
              "    <tr style=\"text-align: right;\">\n",
              "      <th></th>\n",
              "      <th>text</th>\n",
              "      <th>label</th>\n",
              "    </tr>\n",
              "  </thead>\n",
              "  <tbody>\n",
              "    <tr>\n",
              "      <th>11489</th>\n",
              "      <td>“This Is Us” Season 2 Poster Brings the Tears ...</td>\n",
              "      <td>1</td>\n",
              "    </tr>\n",
              "    <tr>\n",
              "      <th>4641</th>\n",
              "      <td>Charlie Sheen Selling Infamous Beverly Hills M...</td>\n",
              "      <td>1</td>\n",
              "    </tr>\n",
              "    <tr>\n",
              "      <th>10242</th>\n",
              "      <td>Famous Female Figure Skaters https://www.ranke...</td>\n",
              "      <td>1</td>\n",
              "    </tr>\n",
              "    <tr>\n",
              "      <th>11198</th>\n",
              "      <td>When Did Ben Affleck and Lindsay Shookus Start...</td>\n",
              "      <td>0</td>\n",
              "    </tr>\n",
              "    <tr>\n",
              "      <th>19695</th>\n",
              "      <td>Britney Spears dissected by plastic surgeon – ...</td>\n",
              "      <td>0</td>\n",
              "    </tr>\n",
              "    <tr>\n",
              "      <th>...</th>\n",
              "      <td>...</td>\n",
              "      <td>...</td>\n",
              "    </tr>\n",
              "    <tr>\n",
              "      <th>11964</th>\n",
              "      <td>Why the Public Option Isn't the Only Answer to...</td>\n",
              "      <td>1</td>\n",
              "    </tr>\n",
              "    <tr>\n",
              "      <th>21575</th>\n",
              "      <td>Jennifer Aniston’s Mother’s Caregiver Writing ...</td>\n",
              "      <td>0</td>\n",
              "    </tr>\n",
              "    <tr>\n",
              "      <th>5390</th>\n",
              "      <td>T.I. Pays Tribute to Ex Tiny on Her Birthday W...</td>\n",
              "      <td>1</td>\n",
              "    </tr>\n",
              "    <tr>\n",
              "      <th>860</th>\n",
              "      <td>Tyrese Gibson Calls Joint Custody Ruling a 'Wi...</td>\n",
              "      <td>1</td>\n",
              "    </tr>\n",
              "    <tr>\n",
              "      <th>15795</th>\n",
              "      <td>Kourtney Kardashian’s secret wedding allegedly...</td>\n",
              "      <td>0</td>\n",
              "    </tr>\n",
              "  </tbody>\n",
              "</table>\n",
              "<p>18292 rows × 2 columns</p>\n",
              "</div>\n",
              "    <div class=\"colab-df-buttons\">\n",
              "\n",
              "  <div class=\"colab-df-container\">\n",
              "    <button class=\"colab-df-convert\" onclick=\"convertToInteractive('df-098d23b5-f94c-4e01-afab-de6dd6f35a37')\"\n",
              "            title=\"Convert this dataframe to an interactive table.\"\n",
              "            style=\"display:none;\">\n",
              "\n",
              "  <svg xmlns=\"http://www.w3.org/2000/svg\" height=\"24px\" viewBox=\"0 -960 960 960\">\n",
              "    <path d=\"M120-120v-720h720v720H120Zm60-500h600v-160H180v160Zm220 220h160v-160H400v160Zm0 220h160v-160H400v160ZM180-400h160v-160H180v160Zm440 0h160v-160H620v160ZM180-180h160v-160H180v160Zm440 0h160v-160H620v160Z\"/>\n",
              "  </svg>\n",
              "    </button>\n",
              "\n",
              "  <style>\n",
              "    .colab-df-container {\n",
              "      display:flex;\n",
              "      gap: 12px;\n",
              "    }\n",
              "\n",
              "    .colab-df-convert {\n",
              "      background-color: #E8F0FE;\n",
              "      border: none;\n",
              "      border-radius: 50%;\n",
              "      cursor: pointer;\n",
              "      display: none;\n",
              "      fill: #1967D2;\n",
              "      height: 32px;\n",
              "      padding: 0 0 0 0;\n",
              "      width: 32px;\n",
              "    }\n",
              "\n",
              "    .colab-df-convert:hover {\n",
              "      background-color: #E2EBFA;\n",
              "      box-shadow: 0px 1px 2px rgba(60, 64, 67, 0.3), 0px 1px 3px 1px rgba(60, 64, 67, 0.15);\n",
              "      fill: #174EA6;\n",
              "    }\n",
              "\n",
              "    .colab-df-buttons div {\n",
              "      margin-bottom: 4px;\n",
              "    }\n",
              "\n",
              "    [theme=dark] .colab-df-convert {\n",
              "      background-color: #3B4455;\n",
              "      fill: #D2E3FC;\n",
              "    }\n",
              "\n",
              "    [theme=dark] .colab-df-convert:hover {\n",
              "      background-color: #434B5C;\n",
              "      box-shadow: 0px 1px 3px 1px rgba(0, 0, 0, 0.15);\n",
              "      filter: drop-shadow(0px 1px 2px rgba(0, 0, 0, 0.3));\n",
              "      fill: #FFFFFF;\n",
              "    }\n",
              "  </style>\n",
              "\n",
              "    <script>\n",
              "      const buttonEl =\n",
              "        document.querySelector('#df-098d23b5-f94c-4e01-afab-de6dd6f35a37 button.colab-df-convert');\n",
              "      buttonEl.style.display =\n",
              "        google.colab.kernel.accessAllowed ? 'block' : 'none';\n",
              "\n",
              "      async function convertToInteractive(key) {\n",
              "        const element = document.querySelector('#df-098d23b5-f94c-4e01-afab-de6dd6f35a37');\n",
              "        const dataTable =\n",
              "          await google.colab.kernel.invokeFunction('convertToInteractive',\n",
              "                                                    [key], {});\n",
              "        if (!dataTable) return;\n",
              "\n",
              "        const docLinkHtml = 'Like what you see? Visit the ' +\n",
              "          '<a target=\"_blank\" href=https://colab.research.google.com/notebooks/data_table.ipynb>data table notebook</a>'\n",
              "          + ' to learn more about interactive tables.';\n",
              "        element.innerHTML = '';\n",
              "        dataTable['output_type'] = 'display_data';\n",
              "        await google.colab.output.renderOutput(dataTable, element);\n",
              "        const docLink = document.createElement('div');\n",
              "        docLink.innerHTML = docLinkHtml;\n",
              "        element.appendChild(docLink);\n",
              "      }\n",
              "    </script>\n",
              "  </div>\n",
              "\n",
              "\n",
              "<div id=\"df-9a613c70-53da-481b-9d8e-32001a7c3c4a\">\n",
              "  <button class=\"colab-df-quickchart\" onclick=\"quickchart('df-9a613c70-53da-481b-9d8e-32001a7c3c4a')\"\n",
              "            title=\"Suggest charts\"\n",
              "            style=\"display:none;\">\n",
              "\n",
              "<svg xmlns=\"http://www.w3.org/2000/svg\" height=\"24px\"viewBox=\"0 0 24 24\"\n",
              "     width=\"24px\">\n",
              "    <g>\n",
              "        <path d=\"M19 3H5c-1.1 0-2 .9-2 2v14c0 1.1.9 2 2 2h14c1.1 0 2-.9 2-2V5c0-1.1-.9-2-2-2zM9 17H7v-7h2v7zm4 0h-2V7h2v10zm4 0h-2v-4h2v4z\"/>\n",
              "    </g>\n",
              "</svg>\n",
              "  </button>\n",
              "\n",
              "<style>\n",
              "  .colab-df-quickchart {\n",
              "      --bg-color: #E8F0FE;\n",
              "      --fill-color: #1967D2;\n",
              "      --hover-bg-color: #E2EBFA;\n",
              "      --hover-fill-color: #174EA6;\n",
              "      --disabled-fill-color: #AAA;\n",
              "      --disabled-bg-color: #DDD;\n",
              "  }\n",
              "\n",
              "  [theme=dark] .colab-df-quickchart {\n",
              "      --bg-color: #3B4455;\n",
              "      --fill-color: #D2E3FC;\n",
              "      --hover-bg-color: #434B5C;\n",
              "      --hover-fill-color: #FFFFFF;\n",
              "      --disabled-bg-color: #3B4455;\n",
              "      --disabled-fill-color: #666;\n",
              "  }\n",
              "\n",
              "  .colab-df-quickchart {\n",
              "    background-color: var(--bg-color);\n",
              "    border: none;\n",
              "    border-radius: 50%;\n",
              "    cursor: pointer;\n",
              "    display: none;\n",
              "    fill: var(--fill-color);\n",
              "    height: 32px;\n",
              "    padding: 0;\n",
              "    width: 32px;\n",
              "  }\n",
              "\n",
              "  .colab-df-quickchart:hover {\n",
              "    background-color: var(--hover-bg-color);\n",
              "    box-shadow: 0 1px 2px rgba(60, 64, 67, 0.3), 0 1px 3px 1px rgba(60, 64, 67, 0.15);\n",
              "    fill: var(--button-hover-fill-color);\n",
              "  }\n",
              "\n",
              "  .colab-df-quickchart-complete:disabled,\n",
              "  .colab-df-quickchart-complete:disabled:hover {\n",
              "    background-color: var(--disabled-bg-color);\n",
              "    fill: var(--disabled-fill-color);\n",
              "    box-shadow: none;\n",
              "  }\n",
              "\n",
              "  .colab-df-spinner {\n",
              "    border: 2px solid var(--fill-color);\n",
              "    border-color: transparent;\n",
              "    border-bottom-color: var(--fill-color);\n",
              "    animation:\n",
              "      spin 1s steps(1) infinite;\n",
              "  }\n",
              "\n",
              "  @keyframes spin {\n",
              "    0% {\n",
              "      border-color: transparent;\n",
              "      border-bottom-color: var(--fill-color);\n",
              "      border-left-color: var(--fill-color);\n",
              "    }\n",
              "    20% {\n",
              "      border-color: transparent;\n",
              "      border-left-color: var(--fill-color);\n",
              "      border-top-color: var(--fill-color);\n",
              "    }\n",
              "    30% {\n",
              "      border-color: transparent;\n",
              "      border-left-color: var(--fill-color);\n",
              "      border-top-color: var(--fill-color);\n",
              "      border-right-color: var(--fill-color);\n",
              "    }\n",
              "    40% {\n",
              "      border-color: transparent;\n",
              "      border-right-color: var(--fill-color);\n",
              "      border-top-color: var(--fill-color);\n",
              "    }\n",
              "    60% {\n",
              "      border-color: transparent;\n",
              "      border-right-color: var(--fill-color);\n",
              "    }\n",
              "    80% {\n",
              "      border-color: transparent;\n",
              "      border-right-color: var(--fill-color);\n",
              "      border-bottom-color: var(--fill-color);\n",
              "    }\n",
              "    90% {\n",
              "      border-color: transparent;\n",
              "      border-bottom-color: var(--fill-color);\n",
              "    }\n",
              "  }\n",
              "</style>\n",
              "\n",
              "  <script>\n",
              "    async function quickchart(key) {\n",
              "      const quickchartButtonEl =\n",
              "        document.querySelector('#' + key + ' button');\n",
              "      quickchartButtonEl.disabled = true;  // To prevent multiple clicks.\n",
              "      quickchartButtonEl.classList.add('colab-df-spinner');\n",
              "      try {\n",
              "        const charts = await google.colab.kernel.invokeFunction(\n",
              "            'suggestCharts', [key], {});\n",
              "      } catch (error) {\n",
              "        console.error('Error during call to suggestCharts:', error);\n",
              "      }\n",
              "      quickchartButtonEl.classList.remove('colab-df-spinner');\n",
              "      quickchartButtonEl.classList.add('colab-df-quickchart-complete');\n",
              "    }\n",
              "    (() => {\n",
              "      let quickchartButtonEl =\n",
              "        document.querySelector('#df-9a613c70-53da-481b-9d8e-32001a7c3c4a button');\n",
              "      quickchartButtonEl.style.display =\n",
              "        google.colab.kernel.accessAllowed ? 'block' : 'none';\n",
              "    })();\n",
              "  </script>\n",
              "</div>\n",
              "    </div>\n",
              "  </div>\n"
            ],
            "application/vnd.google.colaboratory.intrinsic+json": {
              "type": "dataframe",
              "variable_name": "train_data",
              "summary": "{\n  \"name\": \"train_data\",\n  \"rows\": 18292,\n  \"fields\": [\n    {\n      \"column\": \"text\",\n      \"properties\": {\n        \"dtype\": \"string\",\n        \"num_unique_values\": 17462,\n        \"samples\": [\n          \"Chris Cornell's Family Believes His Suicide May Have Been An Accident https://www.bustle.com/p/chris-cornells-family-believes-his-suicide-may-have-been-accident-58961 www.bustle.com\",\n          \"Lisa Bonet Speaks Out About Her TV Father, Bill Cosby \\u2013 Claims \\u201cSinister, Shadow Energy\\u201d https://deadline.com/2018/03/lisa-bonet-speaks-out-about-her-tv-father-bill-cosby-claims-sinister-shadow-energy-1202332025/ deadline.com\",\n          \"Lili Reinhart Opens Up About Body Dysmorphia After Trolls Criticize Her Appearance https://www.christianpost.com/trends/lili-reinhart-opens-up-about-body-dysmorphia-after-trolls-criticize-her-appearance.html www.christianpost.com\"\n        ],\n        \"semantic_type\": \"\",\n        \"description\": \"\"\n      }\n    },\n    {\n      \"column\": \"label\",\n      \"properties\": {\n        \"dtype\": \"number\",\n        \"std\": 0,\n        \"min\": 0,\n        \"max\": 1,\n        \"num_unique_values\": 2,\n        \"samples\": [\n          0,\n          1\n        ],\n        \"semantic_type\": \"\",\n        \"description\": \"\"\n      }\n    }\n  ]\n}"
            }
          },
          "metadata": {},
          "execution_count": 24
        }
      ]
    },
    {
      "cell_type": "code",
      "source": [
        "# Собираем тексты для обучения Word2Vec\n",
        "all_texts = [text.split() for text in train_data['text']]\n",
        "\n",
        "# Параметры Word2Vec\n",
        "vector_size = 100\n",
        "window_size = 5\n",
        "min_count = 1\n",
        "workers = 4\n",
        "\n",
        "# Создаем и обучаем Word2Vec\n",
        "w2v_model = Word2Vec(\n",
        "    sentences=all_texts,\n",
        "    vector_size=vector_size,\n",
        "    window=window_size,\n",
        "    min_count=min_count,\n",
        "    workers=workers\n",
        ")\n",
        "\n",
        "# Сохраняем модели\n",
        "w2v_model.save('word2vec_model.bin')"
      ],
      "metadata": {
        "id": "pxDzwHPfzyUy"
      },
      "execution_count": 25,
      "outputs": []
    },
    {
      "cell_type": "code",
      "source": [
        "similar_words = w2v_model.wv.most_similar('George')\n",
        "print(similar_words)"
      ],
      "metadata": {
        "colab": {
          "base_uri": "https://localhost:8080/"
        },
        "id": "2emR4qPa5WQG",
        "outputId": "acf9786c-503a-4884-f6e8-b7537eed197f"
      },
      "execution_count": 26,
      "outputs": [
        {
          "output_type": "stream",
          "name": "stdout",
          "text": [
            "[('Princess', 0.9972527623176575), ('Much', 0.9971710443496704), ('Elizabeth', 0.9968941807746887), ('what', 0.9966493844985962), ('will', 0.9965760707855225), ('Louis', 0.9962162971496582), ('and', 0.9961848855018616), ('Thomas', 0.9961674809455872), ('Charlotte', 0.9956515431404114), ('Priyanka', 0.9952967166900635)]\n"
          ]
        }
      ]
    },
    {
      "cell_type": "code",
      "source": [
        "vector = w2v_model.wv['they']\n",
        "print(vector)"
      ],
      "metadata": {
        "colab": {
          "base_uri": "https://localhost:8080/"
        },
        "id": "HQigoomf5zyd",
        "outputId": "4ce0cf5c-c635-41f7-b67c-43ecaf56f4a6"
      },
      "execution_count": 27,
      "outputs": [
        {
          "output_type": "stream",
          "name": "stdout",
          "text": [
            "[-0.11009281  0.2684426   0.08787521  0.0607732   0.00252345 -0.5115085\n",
            "  0.10348056  0.6494361  -0.27437583 -0.30856603 -0.11870492 -0.44386828\n",
            " -0.07677257  0.11061883  0.1471003  -0.34799132  0.1710356  -0.22997694\n",
            " -0.06964897 -0.7456614   0.18368645  0.00428127  0.2444671  -0.1415482\n",
            " -0.07598346 -0.0030299  -0.26615322 -0.06417562 -0.19731948  0.02222373\n",
            "  0.3175137   0.01095028  0.03835675 -0.3276495  -0.18751054  0.2001989\n",
            "  0.09277475 -0.17282182 -0.13281797 -0.38529372  0.16232117 -0.27504706\n",
            " -0.12536569  0.16702685  0.12311122 -0.15365407 -0.17117009  0.01557585\n",
            "  0.06244124  0.23080797  0.09569604 -0.2092833  -0.09527873 -0.20015271\n",
            " -0.11028547 -0.03250716  0.22059825  0.01213117 -0.14410776  0.18648905\n",
            "  0.16298236  0.06610128  0.10090554 -0.00902187 -0.2851517   0.30533504\n",
            "  0.04063622  0.2852174  -0.4152867   0.24891053 -0.10973921  0.27357367\n",
            "  0.3315877   0.00972143  0.38193855  0.23864952  0.06971795  0.07765672\n",
            " -0.19098908  0.01825732 -0.23223427 -0.07405283 -0.13976008  0.31802714\n",
            " -0.08985627 -0.01359976  0.18283753  0.2503288   0.36705542  0.08722197\n",
            "  0.32900292  0.13642873  0.07522514  0.06753711  0.53760934  0.18947402\n",
            "  0.05536767 -0.24357933  0.13105595  0.07569738]\n"
          ]
        }
      ]
    },
    {
      "cell_type": "code",
      "source": [
        "# Векторные представления всех слов\n",
        "vectors = w2v_model.wv.vectors\n",
        "\n",
        "# Применяем TSNE для снижения размерности до 2D\n",
        "tsne = TSNE(n_components=2)\n",
        "vectors_2d = tsne.fit_transform(vectors[:100])  # Для примера используем первые 100 слов\n",
        "\n",
        "# Визуализируем\n",
        "plt.scatter(vectors_2d[:, 0], vectors_2d[:, 1])\n",
        "for label, x, y in zip(w2v_model.wv.index_to_key[:100], vectors_2d[:, 0], vectors_2d[:, 1]):\n",
        "    plt.annotate(label, xy=(x, y), xytext=(0, 0), textcoords='offset points')\n",
        "plt.show()"
      ],
      "metadata": {
        "colab": {
          "base_uri": "https://localhost:8080/",
          "height": 430
        },
        "id": "WOM9QjRO541t",
        "outputId": "14d6e624-9d97-4b11-86f9-827fbfbea414"
      },
      "execution_count": 28,
      "outputs": [
        {
          "output_type": "display_data",
          "data": {
            "text/plain": [
              "<Figure size 640x480 with 1 Axes>"
            ],
            "image/png": "[encoded data removed]"
          },
          "metadata": {}
        }
      ]
    },
    {
      "cell_type": "markdown",
      "source": [
        "# Рекуррентные нейронные сети (RNN)"
      ],
      "metadata": {
        "id": "3F7sjZAyzX9a"
      }
    },
    {
      "cell_type": "code",
      "source": [
        "import torch\n",
        "import torch.nn as nn\n",
        "import torch.optim as optim\n",
        "from torch.utils.data import DataLoader, Dataset\n",
        "from sklearn.model_selection import train_test_split\n",
        "from tqdm import tqdm\n",
        "from torch.nn.utils.rnn import pad_sequence"
      ],
      "metadata": {
        "id": "MkOlYBFF6Uod"
      },
      "execution_count": 59,
      "outputs": []
    },
    {
      "cell_type": "code",
      "source": [
        "# Преобразование текста в числовой формат\n",
        "word_to_idx = {}\n",
        "idx = 0\n",
        "for text in train_texts:\n",
        "    for word in text.split():\n",
        "        if word not in word_to_idx:\n",
        "            word_to_idx[word] = idx\n",
        "            idx += 1"
      ],
      "metadata": {
        "id": "Zh6ROtwi9Ag0"
      },
      "execution_count": 30,
      "outputs": []
    },
    {
      "cell_type": "code",
      "source": [
        "# Простой Dataset для загрузки данных с паддингом\n",
        "class TextDataset(Dataset):\n",
        "    def __init__(self, texts, labels, word_to_idx):\n",
        "        self.texts = texts\n",
        "        self.labels = labels\n",
        "        self.word_to_idx = word_to_idx\n",
        "\n",
        "    def __len__(self):\n",
        "        return len(self.texts)\n",
        "\n",
        "    def __getitem__(self, idx):\n",
        "        text = self.texts[idx]\n",
        "        label = self.labels[idx]\n",
        "        # Преобразуем текст в числовую последовательность (индексы слов)\n",
        "        text_indices = [self.word_to_idx[word] for word in text.split()]\n",
        "        return torch.tensor(text_indices), torch.tensor(label)\n",
        "\n",
        "# Создаем Dataset и DataLoader с паддингом\n",
        "dataset = TextDataset(train_texts, train_labels, word_to_idx)"
      ],
      "metadata": {
        "id": "GfVT9CzN9guD"
      },
      "execution_count": 31,
      "outputs": []
    },
    {
      "cell_type": "code",
      "source": [
        "# Функция collate_fn для паддинга последовательностей в батче\n",
        "def collate_fn(batch):\n",
        "    texts, labels = zip(*batch)\n",
        "    # Паддинг текстов до максимальной длины в батче\n",
        "    padded_texts = pad_sequence(texts, batch_first=True, padding_value=0)\n",
        "    return padded_texts, torch.tensor(labels)"
      ],
      "metadata": {
        "id": "9VOnprOw9kOB"
      },
      "execution_count": 32,
      "outputs": []
    },
    {
      "cell_type": "code",
      "source": [
        "# DataLoader с использованием collate_fn\n",
        "train_loader = DataLoader(dataset, batch_size=2, shuffle=True, collate_fn=collate_fn)"
      ],
      "metadata": {
        "id": "W4o6PdEQ9ncB"
      },
      "execution_count": 33,
      "outputs": []
    },
    {
      "cell_type": "markdown",
      "source": [
        "# Определяем модель RNN"
      ],
      "metadata": {
        "id": "F2Vifp7o7ate"
      }
    },
    {
      "cell_type": "code",
      "source": [
        "class RNNModel(nn.Module):\n",
        "    def __init__(self, vocab_size, embedding_dim, hidden_dim, output_dim):\n",
        "        super(RNNModel, self).__init__()\n",
        "        self.embedding = nn.Embedding(vocab_size, embedding_dim)\n",
        "        self.rnn = nn.LSTM(embedding_dim, hidden_dim, batch_first=True)\n",
        "        self.fc = nn.Linear(hidden_dim, output_dim)\n",
        "\n",
        "    def forward(self, x):\n",
        "        embedded = self.embedding(x)\n",
        "        output, (hidden, cell) = self.rnn(embedded)\n",
        "        # Берем только последний временной шаг для классификации\n",
        "        output = self.fc(hidden[-1])\n",
        "        return output"
      ],
      "metadata": {
        "id": "z-XLxl6i9tFp"
      },
      "execution_count": 34,
      "outputs": []
    },
    {
      "cell_type": "code",
      "source": [
        "import torch\n",
        "import torch.nn as nn\n",
        "import torch.optim as optim\n",
        "from torch.utils.data import DataLoader\n",
        "from tqdm import tqdm\n",
        "import matplotlib.pyplot as plt\n",
        "\n",
        "# Определение параметров модели и обучения\n",
        "vocab_size = len(word_to_idx)\n",
        "embedding_dim = 50\n",
        "hidden_dim = 100\n",
        "output_dim = 2  # В данном примере 2 класса\n",
        "\n",
        "# Инициализация модели, функции потерь и оптимизатора\n",
        "model = RNNModel(vocab_size, embedding_dim, hidden_dim, output_dim)\n",
        "criterion = nn.CrossEntropyLoss()\n",
        "optimizer = optim.Adam(model.parameters(), lr=0.001)\n",
        "\n",
        "# Подготовка DataLoader с использованием collate_fn\n",
        "train_loader = DataLoader(dataset, batch_size=2, shuffle=True, collate_fn=collate_fn)\n",
        "\n",
        "# Обучение модели с сохранением истории loss и accuracy\n",
        "epochs = 10\n",
        "loss_history = []\n",
        "accuracy_history = []\n",
        "\n",
        "for epoch in range(epochs):\n",
        "    epoch_loss = 0\n",
        "    correct = 0\n",
        "    total = 0\n",
        "\n",
        "    for inputs, labels in tqdm(train_loader, desc=f'Epoch {epoch + 1}/{epochs}'):\n",
        "        optimizer.zero_grad()\n",
        "        outputs = model(inputs)\n",
        "        loss = criterion(outputs, labels)\n",
        "        loss.backward()\n",
        "        optimizer.step()\n",
        "        epoch_loss += loss.item()\n",
        "\n",
        "        # Вычисление accuracy\n",
        "        _, predicted = torch.max(outputs.data, 1)\n",
        "        total += labels.size(0)\n",
        "        correct += (predicted == labels).sum().item()\n",
        "\n",
        "    # Сохранение истории loss и accuracy для построения графиков\n",
        "    loss_history.append(epoch_loss / len(train_loader))\n",
        "    accuracy_history.append(correct / total)\n",
        "\n",
        "    print(f'Epoch {epoch + 1}, Loss: {epoch_loss / len(train_loader)}, Accuracy: {100 * correct / total}%')\n",
        "\n",
        "# Построение графиков loss и accuracy\n",
        "plt.figure(figsize=(10, 5))\n",
        "\n",
        "plt.subplot(1, 2, 1)\n",
        "plt.plot(range(1, epochs + 1), loss_history, label='Training Loss')\n",
        "plt.title('Training Loss')\n",
        "plt.xlabel('Epochs')\n",
        "plt.ylabel('Loss')\n",
        "plt.legend()\n",
        "\n",
        "plt.subplot(1, 2, 2)\n",
        "plt.plot(range(1, epochs + 1), accuracy_history, label='Training Accuracy')\n",
        "plt.title('Training Accuracy')\n",
        "plt.xlabel('Epochs')\n",
        "plt.ylabel('Accuracy')\n",
        "plt.legend()\n",
        "\n",
        "plt.tight_layout()\n",
        "plt.show()\n",
        "\n",
        "# Сохранение модели\n",
        "torch.save(model.state_dict(), 'rnn_model_1.pth')\n"
      ],
      "metadata": {
        "colab": {
          "base_uri": "https://localhost:8080/",
          "height": 854
        },
        "id": "1J4_pSaBWtfh",
        "outputId": "d51aa613-8350-4e79-e37a-6fb96ce9a171"
      },
      "execution_count": 35,
      "outputs": [
        {
          "metadata": {
            "tags": null
          },
          "name": "stderr",
          "output_type": "stream",
          "text": [
            "Epoch 1/10: 100%|██████████| 9146/9146 [06:39<00:00, 22.87it/s]\n"
          ]
        },
        {
          "metadata": {
            "tags": null
          },
          "name": "stdout",
          "output_type": "stream",
          "text": [
            "Epoch 1, Loss: 0.4498519167339068, Accuracy: 81.0955609009403%\n"
          ]
        },
        {
          "metadata": {
            "tags": null
          },
          "name": "stderr",
          "output_type": "stream",
          "text": [
            "Epoch 2/10: 100%|██████████| 9146/9146 [07:03<00:00, 21.60it/s]\n"
          ]
        },
        {
          "metadata": {
            "tags": null
          },
          "name": "stdout",
          "output_type": "stream",
          "text": [
            "Epoch 2, Loss: 0.31772777049892054, Accuracy: 87.26765799256506%\n"
          ]
        },
        {
          "metadata": {
            "tags": null
          },
          "name": "stderr",
          "output_type": "stream",
          "text": [
            "Epoch 3/10: 100%|██████████| 9146/9146 [06:35<00:00, 23.15it/s]\n"
          ]
        },
        {
          "metadata": {
            "tags": null
          },
          "name": "stdout",
          "output_type": "stream",
          "text": [
            "Epoch 3, Loss: 0.20825946266110473, Accuracy: 92.03476929805379%\n"
          ]
        },
        {
          "metadata": {
            "tags": null
          },
          "name": "stderr",
          "output_type": "stream",
          "text": [
            "Epoch 4/10: 100%|██████████| 9146/9146 [06:35<00:00, 23.14it/s]\n"
          ]
        },
        {
          "metadata": {
            "tags": null
          },
          "name": "stdout",
          "output_type": "stream",
          "text": [
            "Epoch 4, Loss: 0.10582673685118282, Accuracy: 96.06385305051388%\n"
          ]
        },
        {
          "metadata": {
            "tags": null
          },
          "name": "stderr",
          "output_type": "stream",
          "text": [
            "Epoch 5/10: 100%|██████████| 9146/9146 [06:37<00:00, 23.03it/s]\n"
          ]
        },
        {
          "metadata": {
            "tags": null
          },
          "name": "stdout",
          "output_type": "stream",
          "text": [
            "Epoch 5, Loss: 0.03993967226581018, Accuracy: 98.75355346599606%\n"
          ]
        },
        {
          "metadata": {
            "tags": null
          },
          "name": "stderr",
          "output_type": "stream",
          "text": [
            "Epoch 6/10: 100%|██████████| 9146/9146 [06:40<00:00, 22.83it/s]\n"
          ]
        },
        {
          "metadata": {
            "tags": null
          },
          "name": "stdout",
          "output_type": "stream",
          "text": [
            "Epoch 6, Loss: 0.01551306212554879, Accuracy: 99.48611414826154%\n"
          ]
        },
        {
          "metadata": {
            "tags": null
          },
          "name": "stderr",
          "output_type": "stream",
          "text": [
            "Epoch 7/10: 100%|██████████| 9146/9146 [06:38<00:00, 22.97it/s]\n"
          ]
        },
        {
          "metadata": {
            "tags": null
          },
          "name": "stdout",
          "output_type": "stream",
          "text": [
            "Epoch 7, Loss: 0.007447028098747394, Accuracy: 99.74852394489395%\n"
          ]
        },
        {
          "metadata": {
            "tags": null
          },
          "name": "stderr",
          "output_type": "stream",
          "text": [
            "Epoch 8/10: 100%|██████████| 9146/9146 [06:38<00:00, 22.93it/s]\n"
          ]
        },
        {
          "metadata": {
            "tags": null
          },
          "name": "stdout",
          "output_type": "stream",
          "text": [
            "Epoch 8, Loss: 0.004369945864031751, Accuracy: 99.89612945549968%\n"
          ]
        },
        {
          "metadata": {
            "tags": null
          },
          "name": "stderr",
          "output_type": "stream",
          "text": [
            "Epoch 9/10: 100%|██████████| 9146/9146 [06:42<00:00, 22.72it/s]\n"
          ]
        },
        {
          "metadata": {
            "tags": null
          },
          "name": "stdout",
          "output_type": "stream",
          "text": [
            "Epoch 9, Loss: 0.004290594154903753, Accuracy: 99.87426197244697%\n"
          ]
        },
        {
          "output_type": "stream",
          "name": "stderr",
          "text": [
            "Epoch 10/10: 100%|██████████| 9146/9146 [07:07<00:00, 21.39it/s]\n"
          ]
        },
        {
          "output_type": "stream",
          "name": "stdout",
          "text": [
            "Epoch 10, Loss: 0.002297169396457464, Accuracy: 99.94533129236825%\n"
          ]
        },
        {
          "output_type": "display_data",
          "data": {
            "text/plain": [
              "<Figure size 1000x500 with 2 Axes>"
            ],
            "image/png": "[encoded data removed]"
          },
          "metadata": {}
        }
      ]
    },
    {
      "cell_type": "code",
      "source": [
        "# Преобразование текста в числовой формат\n",
        "word_to_idx = {}\n",
        "idx = 0\n",
        "for text in test_texts:\n",
        "    for word in text.split():\n",
        "        if word not in word_to_idx:\n",
        "            word_to_idx[word] = idx\n",
        "            idx += 1"
      ],
      "metadata": {
        "id": "9blcWgCT4Jnq"
      },
      "execution_count": 36,
      "outputs": []
    },
    {
      "cell_type": "code",
      "source": [
        "# Создаем dataset_test и DataLoader с паддингом\n",
        "dataset_test = TextDataset(test_texts, test_labels, word_to_idx)"
      ],
      "metadata": {
        "id": "vuCPRpmD2rRc"
      },
      "execution_count": 37,
      "outputs": []
    },
    {
      "cell_type": "code",
      "source": [
        "# DataLoader с использованием collate_fn\n",
        "test_loader = DataLoader(dataset_test, batch_size=2, shuffle=True, collate_fn=collate_fn)"
      ],
      "metadata": {
        "id": "TBU5R6qE3a6M"
      },
      "execution_count": 38,
      "outputs": []
    },
    {
      "cell_type": "code",
      "source": [
        "# import torch\n",
        "# import numpy as np\n",
        "# from sklearn.metrics import accuracy_score, f1_score, roc_auc_score, roc_curve, auc\n",
        "# import matplotlib.pyplot as plt\n",
        "\n",
        "# # Переводим модель в режим оценки\n",
        "# model.eval()\n",
        "\n",
        "# # Список для хранения предсказанных и реальных меток\n",
        "# predicted_labels = []\n",
        "# true_labels = []\n",
        "\n",
        "# # Проходим по тестовой выборке\n",
        "# with torch.no_grad():\n",
        "#     for inputs, labels in test_loader:\n",
        "#         outputs = model(inputs)\n",
        "#         _, predicted = torch.max(outputs.data, 1)\n",
        "#         predicted_labels.extend(predicted.cpu().numpy())\n",
        "#         true_labels.extend(labels.cpu().numpy())\n",
        "\n",
        "# # Преобразуем списки в numpy массивы для удобства\n",
        "# predicted_labels = np.array(predicted_labels)\n",
        "# true_labels = np.array(true_labels)\n",
        "\n",
        "# # Вычисляем accuracy\n",
        "# accuracy = accuracy_score(true_labels, predicted_labels)\n",
        "# print(f'Accuracy: {accuracy}')\n",
        "\n",
        "# # Вычисляем F1-score\n",
        "# f1 = f1_score(true_labels, predicted_labels)\n",
        "# print(f'F1-score: {f1}')\n",
        "\n",
        "# # Вычисляем ROC AUC и строим ROC кривую\n",
        "# roc_auc = roc_auc_score(true_labels, predicted_labels)\n",
        "# print(f'ROC AUC: {roc_auc}')\n",
        "\n",
        "# # Строим ROC кривую\n",
        "# fpr, tpr, _ = roc_curve(true_labels, predicted_labels)\n",
        "# roc_auc_curve = auc(fpr, tpr)\n",
        "\n",
        "# plt.figure()\n",
        "# plt.plot(fpr, tpr, color='darkorange', lw=2, label=f'ROC curve (area = {roc_auc_curve:.2f})')\n",
        "# plt.plot([0, 1], [0, 1], color='navy', lw=2, linestyle='--')\n",
        "# plt.xlabel('False Positive Rate')\n",
        "# plt.ylabel('True Positive Rate')\n",
        "# plt.title('Receiver Operating Characteristic (ROC) Curve')\n",
        "# plt.legend(loc='lower right')\n",
        "# plt.show()\n"
      ],
      "metadata": {
        "id": "HbAsj9F5bw8F"
      },
      "execution_count": 39,
      "outputs": []
    },
    {
      "cell_type": "code",
      "source": [
        "from torch.utils.data import DataLoader\n",
        "\n",
        "# Определение размера пакета\n",
        "batch_size = 32\n",
        "\n",
        "# Создание итераторов для обучающей и тестовой выборок\n",
        "train_iterator = DataLoader(train_data, batch_size=batch_size, shuffle=True)\n",
        "test_iterator = DataLoader(test_data, batch_size=batch_size, shuffle=False)\n"
      ],
      "metadata": {
        "id": "WlxgvlqEbcM5"
      },
      "execution_count": 40,
      "outputs": []
    },
    {
      "cell_type": "code",
      "source": [
        "import torch\n",
        "from torch.utils.data import TensorDataset, DataLoader\n",
        "\n",
        "# Преобразование текстовых данных в тензоры PyTorch\n",
        "train_texts = train_data['text'].tolist()\n",
        "train_labels = train_data['label'].tolist()\n",
        "\n",
        "test_texts = test_data['text'].tolist()\n",
        "test_labels = test_data['label'].tolist()"
      ],
      "metadata": {
        "id": "7784HyfIcHKh"
      },
      "execution_count": 41,
      "outputs": []
    },
    {
      "cell_type": "code",
      "source": [
        "# Преобразование текста в числовой формат\n",
        "word_to_idx = {}\n",
        "idx = 0\n",
        "for text in train_texts:\n",
        "    for word in text.split():\n",
        "        if word not in word_to_idx:\n",
        "            word_to_idx[word] = idx\n",
        "            idx += 1"
      ],
      "metadata": {
        "id": "2qeGwgFDcriP"
      },
      "execution_count": 42,
      "outputs": []
    },
    {
      "cell_type": "code",
      "source": [
        "import torch\n",
        "from torch.utils.data import Dataset, DataLoader, random_split\n",
        "import pandas as pd\n",
        "from sklearn.model_selection import train_test_split\n",
        "from gensim.models import Word2Vec\n",
        "from torch.nn.utils.rnn import pad_sequence\n",
        "from tqdm import tqdm\n",
        "\n",
        "# Ваш класс TextDataset\n",
        "class TextDataset(Dataset):\n",
        "    def __init__(self, texts, labels, word_to_idx):\n",
        "        self.texts = texts\n",
        "        self.labels = labels\n",
        "        self.word_to_idx = word_to_idx\n",
        "\n",
        "    def __len__(self):\n",
        "        return len(self.texts)\n",
        "\n",
        "    def __getitem__(self, idx):\n",
        "        text = self.texts[idx]\n",
        "        label = self.labels[idx]\n",
        "        # Преобразуем текст в числовую последовательность (индексы слов)\n",
        "        text_indices = [self.word_to_idx[word] for word in text.split()]\n",
        "        return torch.tensor(text_indices), torch.tensor(label)\n",
        "\n",
        "# Функция collate_fn для паддинга последовательностей в батче\n",
        "def collate_fn(batch):\n",
        "    texts, labels = zip(*batch)\n",
        "    # Паддинг текстов до максимальной длины в батче\n",
        "    padded_texts = pad_sequence(texts, batch_first=True, padding_value=0)\n",
        "    return padded_texts, torch.tensor(labels)\n",
        "\n",
        "# # Пример данных\n",
        "# train_texts = ['This is a sample text', 'Another example of text']\n",
        "# train_labels = [0, 1]\n",
        "# word_to_idx = {'This': 0, 'is': 1, 'a': 2, 'sample': 3, 'text': 4, 'Another': 5, 'example': 6, 'of': 7}\n",
        "\n",
        "# Создаем Dataset и DataLoader с паддингом\n",
        "dataset = TextDataset(train_texts, train_labels, word_to_idx)\n",
        "\n",
        "# Разделение данных на обучающую и тестовую выборки\n",
        "train_size = int(0.8 * len(dataset))\n",
        "test_size = len(dataset) - train_size\n",
        "train_data, test_data = random_split(dataset, [train_size, test_size])\n",
        "\n",
        "# Определение размера пакета\n",
        "batch_size = 32\n",
        "\n",
        "# Создание DataLoader для обучающей и тестовой выборок\n",
        "train_loader = DataLoader(train_data, batch_size=batch_size, shuffle=True, collate_fn=collate_fn)\n",
        "test_loader = DataLoader(test_data, batch_size=batch_size, shuffle=False, collate_fn=collate_fn)\n",
        "\n",
        "# Собираем тексты для обучения Word2Vec\n",
        "all_texts = [text.split() for text in train_texts]\n",
        "\n",
        "# Параметры модели Word2Vec\n",
        "vector_size = 100\n",
        "window_size = 5\n",
        "min_count = 1\n",
        "workers = 4\n",
        "\n",
        "# Создаем и обучаем модель Word2Vec\n",
        "w2v_model = Word2Vec(\n",
        "    sentences=all_texts,\n",
        "    vector_size=vector_size,\n",
        "    window=window_size,\n",
        "    min_count=min_count,\n",
        "    workers=workers\n",
        ")\n",
        "\n",
        "# Сохраняем модель в файл\n",
        "w2v_model.save('word2vec_model.bin')"
      ],
      "metadata": {
        "id": "7Zx4l96bbhyJ"
      },
      "execution_count": 43,
      "outputs": []
    },
    {
      "cell_type": "code",
      "source": [
        "import torch\n",
        "import torch.nn as nn\n",
        "\n",
        "class RNNModel(nn.Module):\n",
        "    def __init__(self, vocab_size, embedding_dim, hidden_dim, output_dim):\n",
        "        super(RNNModel, self).__init__()\n",
        "        self.embedding = nn.Embedding(vocab_size, embedding_dim)\n",
        "        self.rnn = nn.RNN(embedding_dim, hidden_dim, batch_first=True)\n",
        "        self.fc = nn.Linear(hidden_dim, output_dim)\n",
        "\n",
        "    def forward(self, x):\n",
        "        embedded = self.embedding(x)\n",
        "        output, hidden = self.rnn(embedded)\n",
        "        return self.fc(output[:, -1, :])\n",
        "\n",
        "# Параметры модели\n",
        "vocab_size = len(word_to_idx)\n",
        "embedding_dim = 50\n",
        "hidden_dim = 100\n",
        "output_dim = 2  # Для бинарной классификации\n",
        "model = RNNModel(vocab_size, embedding_dim, hidden_dim, output_dim)\n"
      ],
      "metadata": {
        "id": "IamP-LlRc626"
      },
      "execution_count": 44,
      "outputs": []
    },
    {
      "cell_type": "code",
      "source": [
        "criterion = nn.CrossEntropyLoss()\n",
        "optimizer = torch.optim.Adam(model.parameters(), lr=0.001)\n"
      ],
      "metadata": {
        "id": "IYSY7a29c-jw"
      },
      "execution_count": 45,
      "outputs": []
    },
    {
      "cell_type": "code",
      "source": [
        "import matplotlib.pyplot as plt\n",
        "\n",
        "epochs = 3\n",
        "train_losses = []\n",
        "train_accuracies = []\n",
        "\n",
        "for epoch in range(epochs):\n",
        "    model.train()\n",
        "    epoch_loss = 0\n",
        "    correct_predictions = 0\n",
        "    total_predictions = 0\n",
        "\n",
        "    for inputs, labels in tqdm(train_loader, desc=f'Epoch {epoch + 1}/{epochs}'):\n",
        "        optimizer.zero_grad()\n",
        "        outputs = model(inputs)\n",
        "        loss = criterion(outputs, labels)\n",
        "        loss.backward()\n",
        "        optimizer.step()\n",
        "\n",
        "        epoch_loss += loss.item()\n",
        "        _, predicted = torch.max(outputs, 1)\n",
        "        correct_predictions += (predicted == labels).sum().item()\n",
        "        total_predictions += labels.size(0)\n",
        "\n",
        "    epoch_accuracy = correct_predictions / total_predictions\n",
        "    train_losses.append(epoch_loss / len(train_loader))\n",
        "    train_accuracies.append(epoch_accuracy)\n",
        "\n",
        "    print(f'Epoch {epoch + 1}, Loss: {epoch_loss / len(train_loader)}, Accuracy: {epoch_accuracy * 100}%')\n",
        "\n",
        "# Сохранение модели\n",
        "torch.save(model.state_dict(), 'rnn_model_2.pth')\n"
      ],
      "metadata": {
        "colab": {
          "base_uri": "https://localhost:8080/"
        },
        "id": "fGp1JuPSdCzA",
        "outputId": "41a57a58-6b93-4abc-ea2f-0b4c23b0d0c9"
      },
      "execution_count": 46,
      "outputs": [
        {
          "output_type": "stream",
          "name": "stderr",
          "text": [
            "Epoch 1/3: 100%|██████████| 458/458 [00:13<00:00, 33.21it/s]\n"
          ]
        },
        {
          "output_type": "stream",
          "name": "stdout",
          "text": [
            "Epoch 1, Loss: 0.556347169209776, Accuracy: 75.86960978609991%\n"
          ]
        },
        {
          "output_type": "stream",
          "name": "stderr",
          "text": [
            "Epoch 2/3: 100%|██████████| 458/458 [00:10<00:00, 41.70it/s]\n"
          ]
        },
        {
          "output_type": "stream",
          "name": "stdout",
          "text": [
            "Epoch 2, Loss: 0.5514233032949106, Accuracy: 75.89694526071209%\n"
          ]
        },
        {
          "output_type": "stream",
          "name": "stderr",
          "text": [
            "Epoch 3/3: 100%|██████████| 458/458 [00:10<00:00, 41.65it/s]"
          ]
        },
        {
          "output_type": "stream",
          "name": "stdout",
          "text": [
            "Epoch 3, Loss: 0.5451685597542592, Accuracy: 76.190801612793%\n"
          ]
        },
        {
          "output_type": "stream",
          "name": "stderr",
          "text": [
            "\n"
          ]
        }
      ]
    },
    {
      "cell_type": "code",
      "source": [
        "model.eval()\n",
        "correct_predictions = 0\n",
        "total_predictions = 0\n",
        "\n",
        "with torch.no_grad():\n",
        "    for inputs, labels in test_loader:\n",
        "        outputs = model(inputs)\n",
        "        _, predicted = torch.max(outputs, 1)\n",
        "        correct_predictions += (predicted == labels).sum().item()\n",
        "        total_predictions += labels.size(0)\n",
        "\n",
        "test_accuracy = correct_predictions / total_predictions\n",
        "print(f'Test Accuracy: {test_accuracy * 100}%')\n"
      ],
      "metadata": {
        "colab": {
          "base_uri": "https://localhost:8080/"
        },
        "id": "dlrcUcFLdWGK",
        "outputId": "db72421e-8d91-41f9-fd72-fcb5df5e11db"
      },
      "execution_count": 47,
      "outputs": [
        {
          "output_type": "stream",
          "name": "stdout",
          "text": [
            "Test Accuracy: 75.97704290789832%\n"
          ]
        }
      ]
    },
    {
      "cell_type": "code",
      "source": [
        "plt.figure(figsize=(12, 4))\n",
        "\n",
        "# График Loss\n",
        "plt.subplot(1, 2, 1)\n",
        "plt.plot(train_losses, label='Train Loss')\n",
        "plt.xlabel('Epoch')\n",
        "plt.ylabel('Loss')\n",
        "plt.title('Training Loss')\n",
        "plt.legend()\n",
        "\n",
        "# График Accuracy\n",
        "plt.subplot(1, 2, 2)\n",
        "plt.plot(train_accuracies, label='Train Accuracy')\n",
        "plt.xlabel('Epoch')\n",
        "plt.ylabel('Accuracy')\n",
        "plt.title('Training Accuracy')\n",
        "plt.legend()\n",
        "\n",
        "plt.show()\n"
      ],
      "metadata": {
        "colab": {
          "base_uri": "https://localhost:8080/",
          "height": 410
        },
        "id": "grLN-qKUdaXB",
        "outputId": "27fe4abe-a7bf-46bd-fa30-96b82bbd5db7"
      },
      "execution_count": 48,
      "outputs": [
        {
          "output_type": "display_data",
          "data": {
            "text/plain": [
              "<Figure size 1200x400 with 2 Axes>"
            ],
            "image/png": "[encoded data removed]"
          },
          "metadata": {}
        }
      ]
    },
    {
      "cell_type": "code",
      "source": [
        "from sklearn.metrics import accuracy_score, f1_score, roc_auc_score, roc_curve\n",
        "import numpy as np\n",
        "\n",
        "# Переводим модель в режим оценки\n",
        "model.eval()\n",
        "\n",
        "# Списки для хранения истинных меток и предсказанных вероятностей\n",
        "true_labels = []\n",
        "pred_labels = []\n",
        "pred_probs = []\n",
        "\n",
        "# Без градиентов\n",
        "with torch.no_grad():\n",
        "    for inputs, labels in test_loader:\n",
        "        outputs = model(inputs)\n",
        "        _, predicted = torch.max(outputs, 1)\n",
        "        probabilities = torch.softmax(outputs, dim=1)[:, 1]  # Вероятности для положительного класса\n",
        "\n",
        "        true_labels.extend(labels.cpu().numpy())\n",
        "        pred_labels.extend(predicted.cpu().numpy())\n",
        "        pred_probs.extend(probabilities.cpu().numpy())\n",
        "\n",
        "# Преобразуем списки в numpy массивы\n",
        "true_labels = np.array(true_labels)\n",
        "pred_labels = np.array(pred_labels)\n",
        "pred_probs = np.array(pred_probs)\n"
      ],
      "metadata": {
        "id": "L9TSNYXNdz-B"
      },
      "execution_count": 49,
      "outputs": []
    },
    {
      "cell_type": "code",
      "source": [
        "# Accuracy\n",
        "accuracy = accuracy_score(true_labels, pred_labels)\n",
        "print(f'Accuracy: {accuracy:.4f}')\n",
        "\n",
        "# F1-score\n",
        "f1 = f1_score(true_labels, pred_labels)\n",
        "print(f'F1-score: {f1:.4f}')\n",
        "\n",
        "# ROC AUC\n",
        "roc_auc = roc_auc_score(true_labels, pred_probs)\n",
        "print(f'ROC AUC: {roc_auc:.4f}')\n"
      ],
      "metadata": {
        "colab": {
          "base_uri": "https://localhost:8080/"
        },
        "id": "jPLfG91Md46b",
        "outputId": "3f3c6ab5-8a22-4092-ec9d-86bf0ad2e86f"
      },
      "execution_count": 50,
      "outputs": [
        {
          "output_type": "stream",
          "name": "stdout",
          "text": [
            "Accuracy: 0.7598\n",
            "F1-score: 0.8631\n",
            "ROC AUC: 0.5340\n"
          ]
        }
      ]
    },
    {
      "cell_type": "code",
      "source": [
        "import matplotlib.pyplot as plt\n",
        "\n",
        "# Вычисление ROC-кривой\n",
        "fpr, tpr, thresholds = roc_curve(true_labels, pred_probs)\n",
        "\n",
        "# Построение графика\n",
        "plt.figure(figsize=(8, 6))\n",
        "plt.plot(fpr, tpr, color='blue', label=f'ROC AUC = {roc_auc:.4f}')\n",
        "plt.plot([0, 1], [0, 1], color='grey', linestyle='--')\n",
        "plt.xlabel('False Positive Rate')\n",
        "plt.ylabel('True Positive Rate')\n",
        "plt.title('ROC Curve')\n",
        "plt.legend(loc='lower right')\n",
        "plt.grid()\n",
        "plt.show()\n"
      ],
      "metadata": {
        "colab": {
          "base_uri": "https://localhost:8080/",
          "height": 564
        },
        "id": "zTP7Y_5od_SZ",
        "outputId": "ab79d8f7-8864-4116-80af-7d652d5a8d7b"
      },
      "execution_count": 51,
      "outputs": [
        {
          "output_type": "display_data",
          "data": {
            "text/plain": [
              "<Figure size 800x600 with 1 Axes>"
            ],
            "image/png": "[encoded data removed]"
          },
          "metadata": {}
        }
      ]
    },
    {
      "cell_type": "code",
      "source": [],
      "metadata": {
        "id": "tjlpbljJjY0R"
      },
      "execution_count": 51,
      "outputs": []
    },
    {
      "cell_type": "markdown",
      "source": [
        "## Улyчшение RNN\n",
        "* 8 эпох\n",
        "* optimizer = torch.optim.Adam(model.parameters(), lr=0.0001)\n"
      ],
      "metadata": {
        "id": "1w7weDoIjpfU"
      }
    },
    {
      "cell_type": "code",
      "source": [
        "import torch\n",
        "import torch.nn as nn\n",
        "\n",
        "class RNNModel(nn.Module):\n",
        "    def __init__(self, vocab_size, embedding_dim, hidden_dim, output_dim):\n",
        "        super(RNNModel, self).__init__()\n",
        "        self.embedding = nn.Embedding(vocab_size, embedding_dim)\n",
        "        self.rnn = nn.RNN(embedding_dim, hidden_dim, batch_first=True)\n",
        "        self.fc = nn.Linear(hidden_dim, output_dim)\n",
        "\n",
        "    def forward(self, x):\n",
        "        embedded = self.embedding(x)\n",
        "        output, hidden = self.rnn(embedded)\n",
        "        return self.fc(output[:, -1, :])\n",
        "\n",
        "# Параметры модели\n",
        "vocab_size = len(word_to_idx)\n",
        "embedding_dim = 50\n",
        "hidden_dim = 100\n",
        "output_dim = 2  # Для бинарной классификации\n",
        "model = RNNModel(vocab_size, embedding_dim, hidden_dim, output_dim)\n",
        "\n",
        "criterion = nn.CrossEntropyLoss()\n",
        "optimizer = torch.optim.Adam(model.parameters(), lr=0.0001)"
      ],
      "metadata": {
        "id": "05dQ0XcPglQ-"
      },
      "execution_count": 52,
      "outputs": []
    },
    {
      "cell_type": "code",
      "source": [
        "import matplotlib.pyplot as plt\n",
        "\n",
        "epochs = 8\n",
        "train_losses = []\n",
        "train_accuracies = []\n",
        "\n",
        "for epoch in range(epochs):\n",
        "    model.train()\n",
        "    epoch_loss = 0\n",
        "    correct_predictions = 0\n",
        "    total_predictions = 0\n",
        "\n",
        "    for inputs, labels in tqdm(train_loader, desc=f'Epoch {epoch + 1}/{epochs}'):\n",
        "        optimizer.zero_grad()\n",
        "        outputs = model(inputs)\n",
        "        loss = criterion(outputs, labels)\n",
        "        loss.backward()\n",
        "        optimizer.step()\n",
        "\n",
        "        epoch_loss += loss.item()\n",
        "        _, predicted = torch.max(outputs, 1)\n",
        "        correct_predictions += (predicted == labels).sum().item()\n",
        "        total_predictions += labels.size(0)\n",
        "\n",
        "    epoch_accuracy = correct_predictions / total_predictions\n",
        "    train_losses.append(epoch_loss / len(train_loader))\n",
        "    train_accuracies.append(epoch_accuracy)\n",
        "\n",
        "    print(f'Epoch {epoch + 1}, Loss: {epoch_loss / len(train_loader)}, Accuracy: {epoch_accuracy * 100}%')\n",
        "\n",
        "# Сохранение модели\n",
        "torch.save(model.state_dict(), 'rnn_model_2.pth')"
      ],
      "metadata": {
        "colab": {
          "base_uri": "https://localhost:8080/"
        },
        "id": "K9sOWYbPeede",
        "outputId": "9a1af18c-5605-459f-91d6-e3944bacea50"
      },
      "execution_count": 53,
      "outputs": [
        {
          "output_type": "stream",
          "name": "stderr",
          "text": [
            "Epoch 1/8: 100%|██████████| 458/458 [00:13<00:00, 34.98it/s]\n"
          ]
        },
        {
          "output_type": "stream",
          "name": "stdout",
          "text": [
            "Epoch 1, Loss: 0.5652605399294192, Accuracy: 74.09963780496139%\n"
          ]
        },
        {
          "output_type": "stream",
          "name": "stderr",
          "text": [
            "Epoch 2/8: 100%|██████████| 458/458 [00:11<00:00, 40.15it/s]\n"
          ]
        },
        {
          "output_type": "stream",
          "name": "stdout",
          "text": [
            "Epoch 2, Loss: 0.5552886587173137, Accuracy: 75.71926467573293%\n"
          ]
        },
        {
          "output_type": "stream",
          "name": "stderr",
          "text": [
            "Epoch 3/8: 100%|██████████| 458/458 [00:11<00:00, 40.56it/s]\n"
          ]
        },
        {
          "output_type": "stream",
          "name": "stdout",
          "text": [
            "Epoch 3, Loss: 0.5518881515254099, Accuracy: 75.82860657418165%\n"
          ]
        },
        {
          "output_type": "stream",
          "name": "stderr",
          "text": [
            "Epoch 4/8: 100%|██████████| 458/458 [00:11<00:00, 40.88it/s]\n"
          ]
        },
        {
          "output_type": "stream",
          "name": "stdout",
          "text": [
            "Epoch 4, Loss: 0.5451575747353541, Accuracy: 76.04729037107907%\n"
          ]
        },
        {
          "output_type": "stream",
          "name": "stderr",
          "text": [
            "Epoch 5/8: 100%|██████████| 458/458 [00:11<00:00, 40.56it/s]\n"
          ]
        },
        {
          "output_type": "stream",
          "name": "stdout",
          "text": [
            "Epoch 5, Loss: 0.532087611058914, Accuracy: 77.16121096152531%\n"
          ]
        },
        {
          "output_type": "stream",
          "name": "stderr",
          "text": [
            "Epoch 6/8: 100%|██████████| 458/458 [00:10<00:00, 42.33it/s]\n"
          ]
        },
        {
          "output_type": "stream",
          "name": "stdout",
          "text": [
            "Epoch 6, Loss: 0.5162231373930082, Accuracy: 77.6190801612793%\n"
          ]
        },
        {
          "output_type": "stream",
          "name": "stderr",
          "text": [
            "Epoch 7/8: 100%|██████████| 458/458 [00:10<00:00, 42.20it/s]\n"
          ]
        },
        {
          "output_type": "stream",
          "name": "stdout",
          "text": [
            "Epoch 7, Loss: 0.5007359002224743, Accuracy: 78.39814118772637%\n"
          ]
        },
        {
          "output_type": "stream",
          "name": "stderr",
          "text": [
            "Epoch 8/8: 100%|██████████| 458/458 [00:10<00:00, 45.64it/s]"
          ]
        },
        {
          "output_type": "stream",
          "name": "stdout",
          "text": [
            "Epoch 8, Loss: 0.4857148828725107, Accuracy: 79.34804893049956%\n"
          ]
        },
        {
          "output_type": "stream",
          "name": "stderr",
          "text": [
            "\n"
          ]
        }
      ]
    },
    {
      "cell_type": "code",
      "source": [
        "model.eval()\n",
        "correct_predictions = 0\n",
        "total_predictions = 0\n",
        "\n",
        "with torch.no_grad():\n",
        "    for inputs, labels in test_loader:\n",
        "        outputs = model(inputs)\n",
        "        _, predicted = torch.max(outputs, 1)\n",
        "        correct_predictions += (predicted == labels).sum().item()\n",
        "        total_predictions += labels.size(0)\n",
        "\n",
        "test_accuracy = correct_predictions / total_predictions\n",
        "print(f'Test Accuracy: {test_accuracy * 100}%')\n"
      ],
      "metadata": {
        "colab": {
          "base_uri": "https://localhost:8080/"
        },
        "id": "52uzoheqfkHD",
        "outputId": "3dc03c58-6b51-4595-953b-34ea3ab67c97"
      },
      "execution_count": 54,
      "outputs": [
        {
          "output_type": "stream",
          "name": "stdout",
          "text": [
            "Test Accuracy: 78.81934954905712%\n"
          ]
        }
      ]
    },
    {
      "cell_type": "code",
      "source": [
        "plt.figure(figsize=(12, 4))\n",
        "\n",
        "# График Loss\n",
        "plt.subplot(1, 2, 1)\n",
        "plt.plot(train_losses, label='Train Loss')\n",
        "plt.xlabel('Epoch')\n",
        "plt.ylabel('Loss')\n",
        "plt.title('Training Loss')\n",
        "plt.legend()\n",
        "\n",
        "# График Accuracy\n",
        "plt.subplot(1, 2, 2)\n",
        "plt.plot(train_accuracies, label='Train Accuracy')\n",
        "plt.xlabel('Epoch')\n",
        "plt.ylabel('Accuracy')\n",
        "plt.title('Training Accuracy')\n",
        "plt.legend()\n",
        "\n",
        "plt.show()\n"
      ],
      "metadata": {
        "colab": {
          "base_uri": "https://localhost:8080/",
          "height": 410
        },
        "id": "vo_QdxGgfo39",
        "outputId": "9069eac5-94e5-4b94-fd22-2ff37986eb48"
      },
      "execution_count": 55,
      "outputs": [
        {
          "output_type": "display_data",
          "data": {
            "text/plain": [
              "<Figure size 1200x400 with 2 Axes>"
            ],
            "image/png": "[encoded data removed]"
          },
          "metadata": {}
        }
      ]
    },
    {
      "cell_type": "code",
      "source": [
        "from sklearn.metrics import accuracy_score, f1_score, roc_auc_score, roc_curve\n",
        "import numpy as np\n",
        "\n",
        "# Переводим модель в режим оценки\n",
        "model.eval()\n",
        "\n",
        "# Списки для хранения истинных меток и предсказанных вероятностей\n",
        "true_labels = []\n",
        "pred_labels = []\n",
        "pred_probs = []\n",
        "\n",
        "# Без градиентов\n",
        "with torch.no_grad():\n",
        "    for inputs, labels in test_loader:\n",
        "        outputs = model(inputs)\n",
        "        _, predicted = torch.max(outputs, 1)\n",
        "        probabilities = torch.softmax(outputs, dim=1)[:, 1]  # Вероятности для положительного класса\n",
        "\n",
        "        true_labels.extend(labels.cpu().numpy())\n",
        "        pred_labels.extend(predicted.cpu().numpy())\n",
        "        pred_probs.extend(probabilities.cpu().numpy())\n",
        "\n",
        "# Преобразуем списки в numpy массивы\n",
        "true_labels = np.array(true_labels)\n",
        "pred_labels = np.array(pred_labels)\n",
        "pred_probs = np.array(pred_probs)\n"
      ],
      "metadata": {
        "id": "LlzM8FXQfxKG"
      },
      "execution_count": 56,
      "outputs": []
    },
    {
      "cell_type": "code",
      "source": [
        "# Accuracy\n",
        "accuracy = accuracy_score(true_labels, pred_labels)\n",
        "print(f'Accuracy: {accuracy:.4f}')\n",
        "\n",
        "# F1-score\n",
        "f1 = f1_score(true_labels, pred_labels)\n",
        "print(f'F1-score: {f1:.4f}')\n",
        "\n",
        "# ROC AUC\n",
        "roc_auc = roc_auc_score(true_labels, pred_probs)\n",
        "print(f'ROC AUC: {roc_auc:.4f}')\n"
      ],
      "metadata": {
        "colab": {
          "base_uri": "https://localhost:8080/"
        },
        "id": "kPwClbFnf2RV",
        "outputId": "99267594-e28b-4062-ca65-750ade851b35"
      },
      "execution_count": 57,
      "outputs": [
        {
          "output_type": "stream",
          "name": "stdout",
          "text": [
            "Accuracy: 0.7882\n",
            "F1-score: 0.8726\n",
            "ROC AUC: 0.7081\n"
          ]
        }
      ]
    },
    {
      "cell_type": "code",
      "source": [
        "import matplotlib.pyplot as plt\n",
        "\n",
        "# Вычисление ROC-кривой\n",
        "fpr, tpr, thresholds = roc_curve(true_labels, pred_probs)\n",
        "\n",
        "# Построение графика\n",
        "plt.figure(figsize=(8, 6))\n",
        "plt.plot(fpr, tpr, color='blue', label=f'ROC AUC = {roc_auc:.4f}')\n",
        "plt.plot([0, 1], [0, 1], color='grey', linestyle='--')\n",
        "plt.xlabel('False Positive Rate')\n",
        "plt.ylabel('True Positive Rate')\n",
        "plt.title('ROC Curve')\n",
        "plt.legend(loc='lower right')\n",
        "plt.grid()\n",
        "plt.show()"
      ],
      "metadata": {
        "colab": {
          "base_uri": "https://localhost:8080/",
          "height": 564
        },
        "id": "vnrN8TQSjTMJ",
        "outputId": "32e6dc90-8198-435f-9473-38961b9c8327"
      },
      "execution_count": 58,
      "outputs": [
        {
          "output_type": "display_data",
          "data": {
            "text/plain": [
              "<Figure size 800x600 with 1 Axes>"
            ],
            "image/png": "[encoded data removed]"
          },
          "metadata": {}
        }
      ]
    },
    {
      "cell_type": "markdown",
      "source": [
        "### Модель RNN удовлетворяет требованиям практической работы:\n",
        "* Accuracy: 0.7882\n",
        "* F1-score: 0.8726\n",
        "* ROC AUC: 0.7081\n"
      ],
      "metadata": {
        "id": "pKfwLa6Nk_34"
      }
    },
    {
      "cell_type": "markdown",
      "source": [
        "# LSTM (Long Short-Term Memory)\n",
        "\n",
        "LSTM — это особый тип RNN, разработанный для решения проблемы долгосрочных зависимостей, с которыми сталкиваются обычные RNN. LSTM имеет более сложную структуру, включая специальные механизмы, называемые \"ячейками памяти\" и \"воротами\" (gates), которые помогают контролировать поток информации.\n",
        "\n",
        "### Основные компоненты:\n",
        "\n",
        "* Ячейка памяти (cell state): Хранит долгосрочную информацию.\n",
        "* Ворота забывания (forget gate): Решает, какая информация из ячейки памяти будет выброшена.\n",
        "* Ворота ввода (input gate): Определяет, какая новая информация будет сохранена в ячейке памяти.\n",
        "* Ворота выхода (output gate): Определяет, какая информация из ячейки памяти будет использована для вычисления текущего состояния.\n",
        "\n",
        "Эти механизмы позволяют LSTM сохранять и извлекать информацию на более длинных временных промежутках по сравнению с традиционными RNN.\n"
      ],
      "metadata": {
        "id": "Z9KNJaTGkOK0"
      }
    },
    {
      "cell_type": "code",
      "source": [
        "import torch\n",
        "import torch.nn as nn\n",
        "import torch.optim as optim\n",
        "from torch.utils.data import DataLoader, Dataset\n",
        "from torch.nn.utils.rnn import pad_sequence\n",
        "from sklearn.metrics import accuracy_score, f1_score, roc_auc_score, roc_curve\n",
        "import matplotlib.pyplot as plt\n",
        "import numpy as np\n",
        "\n",
        "class ImprovedRNNModel(nn.Module):\n",
        "    def __init__(self, vocab_size, embedding_dim, hidden_dim, output_dim, n_layers, dropout_prob):\n",
        "        super(ImprovedRNNModel, self).__init__()\n",
        "        self.embedding = nn.Embedding(vocab_size, embedding_dim)\n",
        "        self.lstm = nn.LSTM(embedding_dim, hidden_dim, num_layers=n_layers, batch_first=True, dropout=dropout_prob)\n",
        "        self.dropout = nn.Dropout(dropout_prob)\n",
        "        self.fc = nn.Linear(hidden_dim, output_dim)\n",
        "\n",
        "    def forward(self, x):\n",
        "        embedded = self.embedding(x)\n",
        "        lstm_out, (hidden, cell) = self.lstm(embedded)\n",
        "        out = self.dropout(lstm_out[:, -1, :])\n",
        "        return self.fc(out)\n",
        "\n",
        "# Параметры модели\n",
        "vocab_size = len(word_to_idx)\n",
        "embedding_dim = 50\n",
        "hidden_dim = 100\n",
        "output_dim = 2  # Для бинарной классификации\n",
        "n_layers = 2\n",
        "dropout_prob = 0.5\n",
        "\n",
        "model = ImprovedRNNModel(vocab_size, embedding_dim, hidden_dim, output_dim, n_layers, dropout_prob)\n",
        "\n",
        "criterion = nn.CrossEntropyLoss()\n",
        "optimizer = optim.Adam(model.parameters(), lr=0.001)\n",
        "\n",
        "# Функция collate_fn для паддинга последовательностей в батче\n",
        "def collate_fn(batch):\n",
        "    texts, labels = zip(*batch)\n",
        "    padded_texts = pad_sequence([torch.tensor(text) for text in texts], batch_first=True, padding_value=0)\n",
        "    return padded_texts, torch.tensor(labels)\n",
        "\n",
        "# Создание DataLoader с collate_fn\n",
        "batch_size = 32\n",
        "# train_loader = DataLoader(train_dataset, batch_size=batch_size, shuffle=True, collate_fn=collate_fn)\n",
        "# test_loader = DataLoader(test_dataset, batch_size=batch_size, shuffle=False, collate_fn=collate_fn)\n",
        "\n",
        "# # Обучение модели\n",
        "epochs = 10\n",
        "train_losses = []\n",
        "train_accuracies = []\n",
        "\n",
        "for epoch in range(epochs):\n",
        "    epoch_loss = 0\n",
        "    correct = 0\n",
        "    total = 0\n",
        "    model.train()\n",
        "\n",
        "    for inputs, labels in train_loader:\n",
        "        optimizer.zero_grad()\n",
        "        outputs = model(inputs)\n",
        "        loss = criterion(outputs, labels)\n",
        "        loss.backward()\n",
        "        optimizer.step()\n",
        "        epoch_loss += loss.item()\n",
        "\n",
        "        _, predicted = torch.max(outputs, 1)\n",
        "        total += labels.size(0)\n",
        "        correct += (predicted == labels).sum().item()\n",
        "\n",
        "    accuracy = 100 * correct / total\n",
        "    train_losses.append(epoch_loss / len(train_loader))\n",
        "    train_accuracies.append(accuracy)\n",
        "    print(f'Epoch {epoch + 1}, Loss: {epoch_loss / len(train_loader)}, Accuracy: {accuracy:.2f}%')\n",
        "\n",
        "# Графики точности и потерь\n",
        "plt.figure(figsize=(12, 5))\n",
        "plt.subplot(1, 2, 1)\n",
        "plt.plot(train_losses, label='Training Loss')\n",
        "plt.xlabel('Epochs')\n",
        "plt.ylabel('Loss')\n",
        "plt.title('Training Loss')\n",
        "plt.legend()\n",
        "\n",
        "plt.subplot(1, 2, 2)\n",
        "plt.plot(train_accuracies, label='Training Accuracy')\n",
        "plt.xlabel('Epochs')\n",
        "plt.ylabel('Accuracy')\n",
        "plt.title('Training Accuracy')\n",
        "plt.legend()\n",
        "\n",
        "plt.show()\n",
        "\n",
        "# Оценка модели на тестовой выборке\n",
        "model.eval()\n",
        "true_labels = []\n",
        "pred_labels = []\n",
        "pred_probs = []\n",
        "\n",
        "with torch.no_grad():\n",
        "    for inputs, labels in test_loader:\n",
        "        outputs = model(inputs)\n",
        "        _, predicted = torch.max(outputs, 1)\n",
        "        probabilities = torch.softmax(outputs, dim=1)[:, 1]\n",
        "        true_labels.extend(labels.cpu().numpy())\n",
        "        pred_labels.extend(predicted.cpu().numpy())\n",
        "        pred_probs.extend(probabilities.cpu().numpy())\n",
        "\n",
        "true_labels = np.array(true_labels)\n",
        "pred_labels = np.array(pred_labels)\n",
        "pred_probs = np.array(pred_probs)\n",
        "\n",
        "accuracy = accuracy_score(true_labels, pred_labels)\n",
        "f1 = f1_score(true_labels, pred_labels)\n",
        "roc_auc = roc_auc_score(true_labels, pred_probs)\n",
        "print(f'Accuracy: {accuracy:.4f}')\n",
        "print(f'F1-score: {f1:.4f}')\n",
        "print(f'ROC AUC: {roc_auc:.4f}')\n",
        "\n",
        "fpr, tpr, thresholds = roc_curve(true_labels, pred_probs)\n",
        "plt.figure(figsize=(8, 6))\n",
        "plt.plot(fpr, tpr, color='blue', label=f'ROC AUC = {roc_auc:.4f}')\n",
        "plt.plot([0, 1], [0, 1], color='grey', linestyle='--')\n",
        "plt.xlabel('False Positive Rate')\n",
        "plt.ylabel('True Positive Rate')\n",
        "plt.title('ROC Curve')\n",
        "plt.legend(loc='lower right')\n",
        "plt.grid()\n",
        "plt.show()\n"
      ],
      "metadata": {
        "colab": {
          "base_uri": "https://localhost:8080/",
          "height": 1000
        },
        "id": "DIF5gSUlkRMe",
        "outputId": "2ceb924f-e9cb-4f9e-fe2b-aa6a9c22ef33"
      },
      "execution_count": 60,
      "outputs": [
        {
          "output_type": "stream",
          "name": "stdout",
          "text": [
            "Epoch 1, Loss: 0.5273141577254217, Accuracy: 76.94%\n",
            "Epoch 2, Loss: 0.4023250068118999, Accuracy: 83.61%\n",
            "Epoch 3, Loss: 0.313956203793204, Accuracy: 87.64%\n",
            "Epoch 4, Loss: 0.23516265647770537, Accuracy: 91.29%\n",
            "Epoch 5, Loss: 0.16540293440255274, Accuracy: 94.27%\n",
            "Epoch 6, Loss: 0.10698009132078186, Accuracy: 96.58%\n",
            "Epoch 7, Loss: 0.06265292934388102, Accuracy: 98.12%\n",
            "Epoch 8, Loss: 0.038457900564558396, Accuracy: 98.82%\n",
            "Epoch 9, Loss: 0.02341765577732799, Accuracy: 99.36%\n",
            "Epoch 10, Loss: 0.017456079476083908, Accuracy: 99.47%\n"
          ]
        },
        {
          "output_type": "display_data",
          "data": {
            "text/plain": [
              "<Figure size 1200x500 with 2 Axes>"
            ],
            "image/png": "[encoded data removed]"
          },
          "metadata": {}
        },
        {
          "output_type": "stream",
          "name": "stdout",
          "text": [
            "Accuracy: 0.8213\n",
            "F1-score: 0.8818\n",
            "ROC AUC: 0.8365\n"
          ]
        },
        {
          "output_type": "display_data",
          "data": {
            "text/plain": [
              "<Figure size 800x600 with 1 Axes>"
            ],
            "image/png": "[encoded data removed]"
          },
          "metadata": {}
        }
      ]
    },
    {
      "cell_type": "markdown",
      "source": [
        "### Модель RNN с архитектурой LSTM удовлетворяет требованиям практической работы:\n",
        "* Accuracy: 0.7882\n",
        "* F1-score: 0.8575\n",
        "* ROC AUC: 0.8244"
      ],
      "metadata": {
        "id": "dysv5rQ6lYQ-"
      }
    },
    {
      "cell_type": "markdown",
      "source": [
        "# GRU (Gated Recurrent Unit)\n",
        "\n",
        "GRU — это еще один тип RNN, который также предназначен для борьбы с проблемами долгосрочных зависимостей, но с более простой структурой по сравнению с LSTM. GRU объединяет некоторые из функций ворот LSTM, уменьшая количество параметров и вычислительных затрат.\n",
        "\n",
        "### Основные компоненты:\n",
        "\n",
        "* Ворота обновления (update gate): Решает, сколько информации из предыдущего состояния будет сохранено.\n",
        "* Ворота сброса (reset gate): Определяет, сколько информации из предыдущего состояния будет отброшено.\n",
        "* GRU проще и быстрее для обучения, чем LSTM, и часто дает схожие результаты, особенно при работе с не очень длинными последовательностями.\n",
        "\n"
      ],
      "metadata": {
        "id": "6SSwoCGDl59x"
      }
    },
    {
      "cell_type": "code",
      "source": [
        "import torch\n",
        "import torch.nn as nn\n",
        "import torch.optim as optim\n",
        "from torch.utils.data import DataLoader, Dataset\n",
        "from torch.nn.utils.rnn import pad_sequence\n",
        "from sklearn.metrics import accuracy_score, f1_score, roc_auc_score, roc_curve\n",
        "import matplotlib.pyplot as plt\n",
        "import numpy as np\n",
        "\n",
        "class GRUModel(nn.Module):\n",
        "    def __init__(self, vocab_size, embedding_dim, hidden_dim, output_dim, n_layers, dropout_prob):\n",
        "        super(GRUModel, self).__init__()\n",
        "        self.embedding = nn.Embedding(vocab_size, embedding_dim)\n",
        "        self.gru = nn.GRU(embedding_dim, hidden_dim, num_layers=n_layers, batch_first=True, dropout=dropout_prob)\n",
        "        self.dropout = nn.Dropout(dropout_prob)\n",
        "        self.fc = nn.Linear(hidden_dim, output_dim)\n",
        "\n",
        "    def forward(self, x):\n",
        "        embedded = self.embedding(x)\n",
        "        gru_out, hidden = self.gru(embedded)\n",
        "        out = self.dropout(gru_out[:, -1, :])\n",
        "        return self.fc(out)\n",
        "\n",
        "# Параметры модели\n",
        "vocab_size = len(word_to_idx)\n",
        "embedding_dim = 50\n",
        "hidden_dim = 100\n",
        "output_dim = 2  # Для бинарной классификации\n",
        "n_layers = 2\n",
        "dropout_prob = 0.5\n",
        "\n",
        "model = GRUModel(vocab_size, embedding_dim, hidden_dim, output_dim, n_layers, dropout_prob)\n",
        "\n",
        "criterion = nn.CrossEntropyLoss()\n",
        "optimizer = optim.Adam(model.parameters(), lr=0.001)\n",
        "\n",
        "# Функция collate_fn для паддинга последовательностей в батче\n",
        "def collate_fn(batch):\n",
        "    texts, labels = zip(*batch)\n",
        "    padded_texts = pad_sequence([torch.tensor(text) for text in texts], batch_first=True, padding_value=0)\n",
        "    return padded_texts, torch.tensor(labels)\n",
        "\n",
        "# Создание DataLoader с collate_fn\n",
        "batch_size = 32\n",
        "# train_loader = DataLoader(train_dataset, batch_size=batch_size, shuffle=True, collate_fn=collate_fn)\n",
        "# test_loader = DataLoader(test_dataset, batch_size=batch_size, shuffle=False, collate_fn=collate_fn)\n",
        "\n",
        "# Обучение модели\n",
        "epochs = 10\n",
        "train_losses = []\n",
        "train_accuracies = []\n",
        "\n",
        "for epoch in range(epochs):\n",
        "    epoch_loss = 0\n",
        "    correct = 0\n",
        "    total = 0\n",
        "    model.train()\n",
        "\n",
        "    for inputs, labels in train_loader:\n",
        "        optimizer.zero_grad()\n",
        "        outputs = model(inputs)\n",
        "        loss = criterion(outputs, labels)\n",
        "        loss.backward()\n",
        "        optimizer.step()\n",
        "        epoch_loss += loss.item()\n",
        "\n",
        "        _, predicted = torch.max(outputs, 1)\n",
        "        total += labels.size(0)\n",
        "        correct += (predicted == labels).sum().item()\n",
        "\n",
        "    accuracy = 100 * correct / total\n",
        "    train_losses.append(epoch_loss / len(train_loader))\n",
        "    train_accuracies.append(accuracy)\n",
        "    print(f'Epoch {epoch + 1}, Loss: {epoch_loss / len(train_loader)}, Accuracy: {accuracy:.2f}%')\n",
        "\n",
        "# Графики точности и потерь\n",
        "plt.figure(figsize=(12, 5))\n",
        "plt.subplot(1, 2, 1)\n",
        "plt.plot(train_losses, label='Training Loss')\n",
        "plt.xlabel('Epochs')\n",
        "plt.ylabel('Loss')\n",
        "plt.title('Training Loss')\n",
        "plt.legend()\n",
        "\n",
        "plt.subplot(1, 2, 2)\n",
        "plt.plot(train_accuracies, label='Training Accuracy')\n",
        "plt.xlabel('Epochs')\n",
        "plt.ylabel('Accuracy')\n",
        "plt.title('Training Accuracy')\n",
        "plt.legend()\n",
        "\n",
        "plt.show()\n",
        "\n",
        "# Оценка модели на тестовой выборке\n",
        "model.eval()\n",
        "true_labels = []\n",
        "pred_labels = []\n",
        "pred_probs = []\n",
        "\n",
        "with torch.no_grad():\n",
        "    for inputs, labels in test_loader:\n",
        "        outputs = model(inputs)\n",
        "        _, predicted = torch.max(outputs, 1)\n",
        "        probabilities = torch.softmax(outputs, dim=1)[:, 1]\n",
        "        true_labels.extend(labels.cpu().numpy())\n",
        "        pred_labels.extend(predicted.cpu().numpy())\n",
        "        pred_probs.extend(probabilities.cpu().numpy())\n",
        "\n",
        "true_labels = np.array(true_labels)\n",
        "pred_labels = np.array(pred_labels)\n",
        "pred_probs = np.array(pred_probs)\n",
        "\n",
        "accuracy = accuracy_score(true_labels, pred_labels)\n",
        "f1 = f1_score(true_labels, pred_labels)\n",
        "roc_auc = roc_auc_score(true_labels, pred_probs)\n",
        "print(f'Accuracy: {accuracy:.4f}')\n",
        "print(f'F1-score: {f1:.4f}')\n",
        "print(f'ROC AUC: {roc_auc:.4f}')\n",
        "\n",
        "fpr, tpr, thresholds = roc_curve(true_labels, pred_probs)\n",
        "plt.figure(figsize=(8, 6))\n",
        "plt.plot(fpr, tpr, color='blue', label=f'ROC AUC = {roc_auc:.4f}')\n",
        "plt.plot([0, 1], [0, 1], color='grey', linestyle='--')\n",
        "plt.xlabel('False Positive Rate')\n",
        "plt.ylabel('True Positive Rate')\n",
        "plt.title('ROC Curve')\n",
        "plt.legend(loc='lower right')\n",
        "plt.grid()\n",
        "plt.show()\n"
      ],
      "metadata": {
        "colab": {
          "base_uri": "https://localhost:8080/",
          "height": 1000
        },
        "id": "nFI4sWeGkbly",
        "outputId": "19ee6ff6-e7d8-4565-ad06-b33eac212283"
      },
      "execution_count": null,
      "outputs": [
        {
          "output_type": "stream",
          "name": "stdout",
          "text": [
            "Epoch 1, Loss: 0.512438013368819, Accuracy: 78.32%\n",
            "Epoch 2, Loss: 0.38261090804656, Accuracy: 84.56%\n",
            "Epoch 3, Loss: 0.29217034334308717, Accuracy: 88.83%\n",
            "Epoch 4, Loss: 0.211346546273402, Accuracy: 92.11%\n",
            "Epoch 5, Loss: 0.13897789440699346, Accuracy: 95.35%\n",
            "Epoch 6, Loss: 0.08441901494246627, Accuracy: 97.27%\n",
            "Epoch 7, Loss: 0.04535594750114404, Accuracy: 98.72%\n",
            "Epoch 8, Loss: 0.030272946538333477, Accuracy: 99.16%\n",
            "Epoch 9, Loss: 0.020113537332368914, Accuracy: 99.44%\n",
            "Epoch 10, Loss: 0.015766781577499844, Accuracy: 99.60%\n"
          ]
        },
        {
          "output_type": "display_data",
          "data": {
            "text/plain": [
              "<Figure size 1200x500 with 2 Axes>"
            ],
            "image/png": "[encoded data removed]"
          },
          "metadata": {}
        },
        {
          "output_type": "stream",
          "name": "stdout",
          "text": [
            "Accuracy: 0.8043\n",
            "F1-score: 0.8709\n",
            "ROC AUC: 0.8221\n"
          ]
        },
        {
          "output_type": "display_data",
          "data": {
            "text/plain": [
              "<Figure size 800x600 with 1 Axes>"
            ],
            "image/png": "[encoded data removed]"
          },
          "metadata": {}
        }
      ]
    },
    {
      "cell_type": "markdown",
      "source": [
        "### Модель RNN с архитектурой GRU удовлетворяет требованиям практической работы:\n",
        "* Accuracy: 0.8043\n",
        "* F1-score: 0.8709\n",
        "* ROC AUC: 0.8221"
      ],
      "metadata": {
        "id": "Q2UFmYIVnewd"
      }
    },
    {
      "cell_type": "markdown",
      "source": [
        "# Выводы\n",
        "* RNN: Проста в реализации, но страдает от затухания или взрывного роста градиентов при работе с длинными последовательностями.\n",
        "* LSTM: Более сложная структура с ячейками памяти и несколькими воротами, что позволяет лучше справляться с долгосрочными зависимостями.\n",
        "* GRU: Упрощенная версия LSTM с меньшим количеством параметров, но аналогичной эффективностью в обработке последовательных данных."
      ],
      "metadata": {
        "id": "0AlpKM_6pJDG"
      }
    }
  ]
}